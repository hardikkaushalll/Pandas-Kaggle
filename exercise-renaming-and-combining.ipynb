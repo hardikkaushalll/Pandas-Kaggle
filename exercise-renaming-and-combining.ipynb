{
 "cells": [
  {
   "cell_type": "markdown",
   "id": "b0226f24",
   "metadata": {
    "papermill": {
     "duration": 0.016879,
     "end_time": "2022-03-19T13:51:24.798914",
     "exception": false,
     "start_time": "2022-03-19T13:51:24.782035",
     "status": "completed"
    },
    "tags": []
   },
   "source": [
    "**This notebook is an exercise in the [Pandas](https://www.kaggle.com/learn/pandas) course.  You can reference the tutorial at [this link](https://www.kaggle.com/residentmario/renaming-and-combining).**\n",
    "\n",
    "---\n"
   ]
  },
  {
   "cell_type": "markdown",
   "id": "8912ab2d",
   "metadata": {
    "papermill": {
     "duration": 0.016023,
     "end_time": "2022-03-19T13:51:24.832860",
     "exception": false,
     "start_time": "2022-03-19T13:51:24.816837",
     "status": "completed"
    },
    "tags": []
   },
   "source": [
    "# Introduction\n",
    "\n",
    "Run the following cell to load your data and some utility functions."
   ]
  },
  {
   "cell_type": "code",
   "execution_count": 1,
   "id": "fa079a35",
   "metadata": {
    "execution": {
     "iopub.execute_input": "2022-03-19T13:51:24.868621Z",
     "iopub.status.busy": "2022-03-19T13:51:24.867749Z",
     "iopub.status.idle": "2022-03-19T13:51:29.298270Z",
     "shell.execute_reply": "2022-03-19T13:51:29.298769Z",
     "shell.execute_reply.started": "2022-03-19T13:43:36.425825Z"
    },
    "papermill": {
     "duration": 4.449947,
     "end_time": "2022-03-19T13:51:29.299034",
     "exception": false,
     "start_time": "2022-03-19T13:51:24.849087",
     "status": "completed"
    },
    "tags": []
   },
   "outputs": [
    {
     "name": "stdout",
     "output_type": "stream",
     "text": [
      "Setup complete.\n"
     ]
    }
   ],
   "source": [
    "import pandas as pd\n",
    "\n",
    "reviews = pd.read_csv(\"../input/wine-reviews/winemag-data-130k-v2.csv\", index_col=0)\n",
    "\n",
    "from learntools.core import binder; binder.bind(globals())\n",
    "from learntools.pandas.renaming_and_combining import *\n",
    "print(\"Setup complete.\")"
   ]
  },
  {
   "cell_type": "markdown",
   "id": "37b6df2f",
   "metadata": {
    "papermill": {
     "duration": 0.016973,
     "end_time": "2022-03-19T13:51:29.334117",
     "exception": false,
     "start_time": "2022-03-19T13:51:29.317144",
     "status": "completed"
    },
    "tags": []
   },
   "source": [
    "# Exercises\n",
    "\n",
    "View the first several lines of your data by running the cell below:"
   ]
  },
  {
   "cell_type": "code",
   "execution_count": 2,
   "id": "a676f0b2",
   "metadata": {
    "execution": {
     "iopub.execute_input": "2022-03-19T13:51:29.371171Z",
     "iopub.status.busy": "2022-03-19T13:51:29.370711Z",
     "iopub.status.idle": "2022-03-19T13:51:29.395357Z",
     "shell.execute_reply": "2022-03-19T13:51:29.395886Z",
     "shell.execute_reply.started": "2022-03-19T13:43:47.0358Z"
    },
    "papermill": {
     "duration": 0.044529,
     "end_time": "2022-03-19T13:51:29.396032",
     "exception": false,
     "start_time": "2022-03-19T13:51:29.351503",
     "status": "completed"
    },
    "tags": []
   },
   "outputs": [
    {
     "data": {
      "text/html": [
       "<div>\n",
       "<style scoped>\n",
       "    .dataframe tbody tr th:only-of-type {\n",
       "        vertical-align: middle;\n",
       "    }\n",
       "\n",
       "    .dataframe tbody tr th {\n",
       "        vertical-align: top;\n",
       "    }\n",
       "\n",
       "    .dataframe thead th {\n",
       "        text-align: right;\n",
       "    }\n",
       "</style>\n",
       "<table border=\"1\" class=\"dataframe\">\n",
       "  <thead>\n",
       "    <tr style=\"text-align: right;\">\n",
       "      <th></th>\n",
       "      <th>country</th>\n",
       "      <th>description</th>\n",
       "      <th>designation</th>\n",
       "      <th>points</th>\n",
       "      <th>price</th>\n",
       "      <th>province</th>\n",
       "      <th>region_1</th>\n",
       "      <th>region_2</th>\n",
       "      <th>taster_name</th>\n",
       "      <th>taster_twitter_handle</th>\n",
       "      <th>title</th>\n",
       "      <th>variety</th>\n",
       "      <th>winery</th>\n",
       "    </tr>\n",
       "  </thead>\n",
       "  <tbody>\n",
       "    <tr>\n",
       "      <th>0</th>\n",
       "      <td>Italy</td>\n",
       "      <td>Aromas include tropical fruit, broom, brimston...</td>\n",
       "      <td>Vulkà Bianco</td>\n",
       "      <td>87</td>\n",
       "      <td>NaN</td>\n",
       "      <td>Sicily &amp; Sardinia</td>\n",
       "      <td>Etna</td>\n",
       "      <td>NaN</td>\n",
       "      <td>Kerin O’Keefe</td>\n",
       "      <td>@kerinokeefe</td>\n",
       "      <td>Nicosia 2013 Vulkà Bianco  (Etna)</td>\n",
       "      <td>White Blend</td>\n",
       "      <td>Nicosia</td>\n",
       "    </tr>\n",
       "    <tr>\n",
       "      <th>1</th>\n",
       "      <td>Portugal</td>\n",
       "      <td>This is ripe and fruity, a wine that is smooth...</td>\n",
       "      <td>Avidagos</td>\n",
       "      <td>87</td>\n",
       "      <td>15.0</td>\n",
       "      <td>Douro</td>\n",
       "      <td>NaN</td>\n",
       "      <td>NaN</td>\n",
       "      <td>Roger Voss</td>\n",
       "      <td>@vossroger</td>\n",
       "      <td>Quinta dos Avidagos 2011 Avidagos Red (Douro)</td>\n",
       "      <td>Portuguese Red</td>\n",
       "      <td>Quinta dos Avidagos</td>\n",
       "    </tr>\n",
       "  </tbody>\n",
       "</table>\n",
       "</div>"
      ],
      "text/plain": [
       "    country                                        description   designation  \\\n",
       "0     Italy  Aromas include tropical fruit, broom, brimston...  Vulkà Bianco   \n",
       "1  Portugal  This is ripe and fruity, a wine that is smooth...      Avidagos   \n",
       "\n",
       "   points  price           province region_1 region_2    taster_name  \\\n",
       "0      87    NaN  Sicily & Sardinia     Etna      NaN  Kerin O’Keefe   \n",
       "1      87   15.0              Douro      NaN      NaN     Roger Voss   \n",
       "\n",
       "  taster_twitter_handle                                          title  \\\n",
       "0          @kerinokeefe              Nicosia 2013 Vulkà Bianco  (Etna)   \n",
       "1            @vossroger  Quinta dos Avidagos 2011 Avidagos Red (Douro)   \n",
       "\n",
       "          variety               winery  \n",
       "0     White Blend              Nicosia  \n",
       "1  Portuguese Red  Quinta dos Avidagos  "
      ]
     },
     "execution_count": 2,
     "metadata": {},
     "output_type": "execute_result"
    }
   ],
   "source": [
    "reviews.head(2)"
   ]
  },
  {
   "cell_type": "markdown",
   "id": "bd25e8cc",
   "metadata": {
    "papermill": {
     "duration": 0.016877,
     "end_time": "2022-03-19T13:51:29.431244",
     "exception": false,
     "start_time": "2022-03-19T13:51:29.414367",
     "status": "completed"
    },
    "tags": []
   },
   "source": [
    "## 1.\n",
    "`region_1` and `region_2` are pretty uninformative names for locale columns in the dataset. Create a copy of `reviews` with these columns renamed to `region` and `locale`, respectively."
   ]
  },
  {
   "cell_type": "code",
   "execution_count": 3,
   "id": "95801aa0",
   "metadata": {
    "execution": {
     "iopub.execute_input": "2022-03-19T13:51:29.470652Z",
     "iopub.status.busy": "2022-03-19T13:51:29.470069Z",
     "iopub.status.idle": "2022-03-19T13:51:29.492938Z",
     "shell.execute_reply": "2022-03-19T13:51:29.493326Z",
     "shell.execute_reply.started": "2022-03-19T13:44:46.048117Z"
    },
    "papermill": {
     "duration": 0.044554,
     "end_time": "2022-03-19T13:51:29.493502",
     "exception": false,
     "start_time": "2022-03-19T13:51:29.448948",
     "status": "completed"
    },
    "tags": []
   },
   "outputs": [
    {
     "data": {
      "application/javascript": [
       "parent.postMessage({\"jupyterEvent\": \"custom.exercise_interaction\", \"data\": {\"outcomeType\": 1, \"valueTowardsCompletion\": 0.25, \"interactionType\": 1, \"questionType\": 1, \"questionId\": \"1_RenameCols\", \"learnToolsVersion\": \"0.3.4\", \"failureMessage\": \"\", \"exceptionClass\": \"\", \"trace\": \"\"}}, \"*\")"
      ],
      "text/plain": [
       "<IPython.core.display.Javascript object>"
      ]
     },
     "metadata": {},
     "output_type": "display_data"
    },
    {
     "data": {
      "text/markdown": [
       "<span style=\"color:#33cc33\">Correct</span>"
      ],
      "text/plain": [
       "Correct"
      ]
     },
     "metadata": {},
     "output_type": "display_data"
    }
   ],
   "source": [
    "# Your code here\n",
    "renamed = reviews.rename(columns=dict(region_1='region', region_2='locale'))\n",
    "\n",
    "# Check your answer\n",
    "q1.check()"
   ]
  },
  {
   "cell_type": "code",
   "execution_count": 4,
   "id": "fadcdd13",
   "metadata": {
    "execution": {
     "iopub.execute_input": "2022-03-19T13:51:29.532523Z",
     "iopub.status.busy": "2022-03-19T13:51:29.532024Z",
     "iopub.status.idle": "2022-03-19T13:51:29.535251Z",
     "shell.execute_reply": "2022-03-19T13:51:29.535689Z",
     "shell.execute_reply.started": "2022-03-19T13:44:53.11931Z"
    },
    "papermill": {
     "duration": 0.024403,
     "end_time": "2022-03-19T13:51:29.535821",
     "exception": false,
     "start_time": "2022-03-19T13:51:29.511418",
     "status": "completed"
    },
    "tags": []
   },
   "outputs": [],
   "source": [
    "#q1.hint()\n",
    "#q1.solution()"
   ]
  },
  {
   "cell_type": "markdown",
   "id": "1980040d",
   "metadata": {
    "papermill": {
     "duration": 0.01723,
     "end_time": "2022-03-19T13:51:29.571021",
     "exception": false,
     "start_time": "2022-03-19T13:51:29.553791",
     "status": "completed"
    },
    "tags": []
   },
   "source": [
    "## 2.\n",
    "Set the index name in the dataset to `wines`."
   ]
  },
  {
   "cell_type": "code",
   "execution_count": 5,
   "id": "7b0f8b39",
   "metadata": {
    "execution": {
     "iopub.execute_input": "2022-03-19T13:51:29.608816Z",
     "iopub.status.busy": "2022-03-19T13:51:29.608306Z",
     "iopub.status.idle": "2022-03-19T13:51:29.631344Z",
     "shell.execute_reply": "2022-03-19T13:51:29.631764Z",
     "shell.execute_reply.started": "2022-03-19T13:45:07.960038Z"
    },
    "papermill": {
     "duration": 0.043477,
     "end_time": "2022-03-19T13:51:29.631940",
     "exception": false,
     "start_time": "2022-03-19T13:51:29.588463",
     "status": "completed"
    },
    "tags": []
   },
   "outputs": [
    {
     "data": {
      "application/javascript": [
       "parent.postMessage({\"jupyterEvent\": \"custom.exercise_interaction\", \"data\": {\"outcomeType\": 1, \"valueTowardsCompletion\": 0.25, \"interactionType\": 1, \"questionType\": 1, \"questionId\": \"2_RenameIndex\", \"learnToolsVersion\": \"0.3.4\", \"failureMessage\": \"\", \"exceptionClass\": \"\", \"trace\": \"\"}}, \"*\")"
      ],
      "text/plain": [
       "<IPython.core.display.Javascript object>"
      ]
     },
     "metadata": {},
     "output_type": "display_data"
    },
    {
     "data": {
      "text/markdown": [
       "<span style=\"color:#33cc33\">Correct</span>"
      ],
      "text/plain": [
       "Correct"
      ]
     },
     "metadata": {},
     "output_type": "display_data"
    }
   ],
   "source": [
    "reindexed = reviews.rename_axis('wines', axis='rows')\n",
    "\n",
    "# Check your answer\n",
    "q2.check()"
   ]
  },
  {
   "cell_type": "code",
   "execution_count": 6,
   "id": "1af1f15c",
   "metadata": {
    "execution": {
     "iopub.execute_input": "2022-03-19T13:51:29.674206Z",
     "iopub.status.busy": "2022-03-19T13:51:29.673494Z",
     "iopub.status.idle": "2022-03-19T13:51:29.679048Z",
     "shell.execute_reply": "2022-03-19T13:51:29.678518Z",
     "shell.execute_reply.started": "2022-03-19T13:45:12.583918Z"
    },
    "papermill": {
     "duration": 0.02741,
     "end_time": "2022-03-19T13:51:29.679178",
     "exception": false,
     "start_time": "2022-03-19T13:51:29.651768",
     "status": "completed"
    },
    "tags": []
   },
   "outputs": [],
   "source": [
    "#q2.hint()\n",
    "#q2.solution()"
   ]
  },
  {
   "cell_type": "markdown",
   "id": "f9647056",
   "metadata": {
    "papermill": {
     "duration": 0.018176,
     "end_time": "2022-03-19T13:51:29.716378",
     "exception": false,
     "start_time": "2022-03-19T13:51:29.698202",
     "status": "completed"
    },
    "tags": []
   },
   "source": [
    "## 3.\n",
    "The [Things on Reddit](https://www.kaggle.com/residentmario/things-on-reddit/data) dataset includes product links from a selection of top-ranked forums (\"subreddits\") on reddit.com. Run the cell below to load a dataframe of products mentioned on the */r/gaming* subreddit and another dataframe for products mentioned on the *r//movies* subreddit."
   ]
  },
  {
   "cell_type": "code",
   "execution_count": 7,
   "id": "371cd647",
   "metadata": {
    "execution": {
     "iopub.execute_input": "2022-03-19T13:51:29.759303Z",
     "iopub.status.busy": "2022-03-19T13:51:29.758789Z",
     "iopub.status.idle": "2022-03-19T13:51:29.772354Z",
     "shell.execute_reply": "2022-03-19T13:51:29.771836Z",
     "shell.execute_reply.started": "2022-03-19T13:45:22.289886Z"
    },
    "papermill": {
     "duration": 0.03756,
     "end_time": "2022-03-19T13:51:29.772501",
     "exception": false,
     "start_time": "2022-03-19T13:51:29.734941",
     "status": "completed"
    },
    "tags": []
   },
   "outputs": [],
   "source": [
    "gaming_products = pd.read_csv(\"../input/things-on-reddit/top-things/top-things/reddits/g/gaming.csv\")\n",
    "gaming_products['subreddit'] = \"r/gaming\"\n",
    "movie_products = pd.read_csv(\"../input/things-on-reddit/top-things/top-things/reddits/m/movies.csv\")\n",
    "movie_products['subreddit'] = \"r/movies\""
   ]
  },
  {
   "cell_type": "markdown",
   "id": "664dc047",
   "metadata": {
    "papermill": {
     "duration": 0.019458,
     "end_time": "2022-03-19T13:51:29.812177",
     "exception": false,
     "start_time": "2022-03-19T13:51:29.792719",
     "status": "completed"
    },
    "tags": []
   },
   "source": [
    "Create a `DataFrame` of products mentioned on *either* subreddit."
   ]
  },
  {
   "cell_type": "code",
   "execution_count": 8,
   "id": "f87b7f29",
   "metadata": {
    "execution": {
     "iopub.execute_input": "2022-03-19T13:51:29.862177Z",
     "iopub.status.busy": "2022-03-19T13:51:29.861418Z",
     "iopub.status.idle": "2022-03-19T13:51:29.866152Z",
     "shell.execute_reply": "2022-03-19T13:51:29.866702Z",
     "shell.execute_reply.started": "2022-03-19T13:47:27.510726Z"
    },
    "papermill": {
     "duration": 0.035068,
     "end_time": "2022-03-19T13:51:29.866875",
     "exception": false,
     "start_time": "2022-03-19T13:51:29.831807",
     "status": "completed"
    },
    "tags": []
   },
   "outputs": [
    {
     "data": {
      "application/javascript": [
       "parent.postMessage({\"jupyterEvent\": \"custom.exercise_interaction\", \"data\": {\"outcomeType\": 1, \"valueTowardsCompletion\": 0.25, \"interactionType\": 1, \"questionType\": 2, \"questionId\": \"3_ConcatReddit\", \"learnToolsVersion\": \"0.3.4\", \"failureMessage\": \"\", \"exceptionClass\": \"\", \"trace\": \"\"}}, \"*\")"
      ],
      "text/plain": [
       "<IPython.core.display.Javascript object>"
      ]
     },
     "metadata": {},
     "output_type": "display_data"
    },
    {
     "data": {
      "text/markdown": [
       "<span style=\"color:#33cc33\">Correct</span>"
      ],
      "text/plain": [
       "Correct"
      ]
     },
     "metadata": {},
     "output_type": "display_data"
    }
   ],
   "source": [
    "combined_products = pd.concat([gaming_products, movie_products])\n",
    "\n",
    "# Check your answer\n",
    "q3.check()"
   ]
  },
  {
   "cell_type": "code",
   "execution_count": 9,
   "id": "89858662",
   "metadata": {
    "execution": {
     "iopub.execute_input": "2022-03-19T13:51:29.930008Z",
     "iopub.status.busy": "2022-03-19T13:51:29.929248Z",
     "iopub.status.idle": "2022-03-19T13:51:29.934060Z",
     "shell.execute_reply": "2022-03-19T13:51:29.934646Z",
     "shell.execute_reply.started": "2022-03-19T13:47:33.171765Z"
    },
    "papermill": {
     "duration": 0.038264,
     "end_time": "2022-03-19T13:51:29.934829",
     "exception": false,
     "start_time": "2022-03-19T13:51:29.896565",
     "status": "completed"
    },
    "tags": []
   },
   "outputs": [],
   "source": [
    "#q3.hint()\n",
    "#q3.solution()"
   ]
  },
  {
   "cell_type": "markdown",
   "id": "2db0763d",
   "metadata": {
    "papermill": {
     "duration": 0.029803,
     "end_time": "2022-03-19T13:51:29.994711",
     "exception": false,
     "start_time": "2022-03-19T13:51:29.964908",
     "status": "completed"
    },
    "tags": []
   },
   "source": [
    "## 4.\n",
    "The [Powerlifting Database](https://www.kaggle.com/open-powerlifting/powerlifting-database) dataset on Kaggle includes one CSV table for powerlifting meets and a separate one for powerlifting competitors. Run the cell below to load these datasets into dataframes:"
   ]
  },
  {
   "cell_type": "code",
   "execution_count": 10,
   "id": "91953b3a",
   "metadata": {
    "execution": {
     "iopub.execute_input": "2022-03-19T13:51:30.060496Z",
     "iopub.status.busy": "2022-03-19T13:51:30.059782Z",
     "iopub.status.idle": "2022-03-19T13:51:30.587380Z",
     "shell.execute_reply": "2022-03-19T13:51:30.587919Z",
     "shell.execute_reply.started": "2022-03-19T13:47:36.942554Z"
    },
    "papermill": {
     "duration": 0.563197,
     "end_time": "2022-03-19T13:51:30.588100",
     "exception": false,
     "start_time": "2022-03-19T13:51:30.024903",
     "status": "completed"
    },
    "tags": []
   },
   "outputs": [],
   "source": [
    "powerlifting_meets = pd.read_csv(\"../input/powerlifting-database/meets.csv\")\n",
    "powerlifting_competitors = pd.read_csv(\"../input/powerlifting-database/openpowerlifting.csv\")"
   ]
  },
  {
   "cell_type": "markdown",
   "id": "bc3809fe",
   "metadata": {
    "papermill": {
     "duration": 0.02931,
     "end_time": "2022-03-19T13:51:30.648160",
     "exception": false,
     "start_time": "2022-03-19T13:51:30.618850",
     "status": "completed"
    },
    "tags": []
   },
   "source": [
    "Both tables include references to a `MeetID`, a unique key for each meet (competition) included in the database. Using this, generate a dataset combining the two tables into one."
   ]
  },
  {
   "cell_type": "code",
   "execution_count": 11,
   "id": "6c86a2b1",
   "metadata": {
    "execution": {
     "iopub.execute_input": "2022-03-19T13:51:30.711678Z",
     "iopub.status.busy": "2022-03-19T13:51:30.710986Z",
     "iopub.status.idle": "2022-03-19T13:51:31.836882Z",
     "shell.execute_reply": "2022-03-19T13:51:31.836313Z",
     "shell.execute_reply.started": "2022-03-19T13:47:51.11418Z"
    },
    "papermill": {
     "duration": 1.158609,
     "end_time": "2022-03-19T13:51:31.837063",
     "exception": false,
     "start_time": "2022-03-19T13:51:30.678454",
     "status": "completed"
    },
    "tags": []
   },
   "outputs": [
    {
     "data": {
      "application/javascript": [
       "parent.postMessage({\"jupyterEvent\": \"custom.exercise_interaction\", \"data\": {\"outcomeType\": 1, \"valueTowardsCompletion\": 0.25, \"interactionType\": 1, \"questionType\": 2, \"questionId\": \"4_JoinLifting\", \"learnToolsVersion\": \"0.3.4\", \"failureMessage\": \"\", \"exceptionClass\": \"\", \"trace\": \"\"}}, \"*\")"
      ],
      "text/plain": [
       "<IPython.core.display.Javascript object>"
      ]
     },
     "metadata": {},
     "output_type": "display_data"
    },
    {
     "data": {
      "text/markdown": [
       "<span style=\"color:#33cc33\">Correct</span>"
      ],
      "text/plain": [
       "Correct"
      ]
     },
     "metadata": {},
     "output_type": "display_data"
    }
   ],
   "source": [
    "powerlifting_combined = powerlifting_meets.set_index(\"MeetID\").join(powerlifting_competitors.set_index(\"MeetID\"))\n",
    "\n",
    "# Check your answer\n",
    "q4.check()"
   ]
  },
  {
   "cell_type": "code",
   "execution_count": 12,
   "id": "064d863e",
   "metadata": {
    "execution": {
     "iopub.execute_input": "2022-03-19T13:51:31.905307Z",
     "iopub.status.busy": "2022-03-19T13:51:31.904497Z",
     "iopub.status.idle": "2022-03-19T13:51:31.907720Z",
     "shell.execute_reply": "2022-03-19T13:51:31.907015Z",
     "shell.execute_reply.started": "2022-03-19T13:47:57.016355Z"
    },
    "papermill": {
     "duration": 0.038867,
     "end_time": "2022-03-19T13:51:31.907875",
     "exception": false,
     "start_time": "2022-03-19T13:51:31.869008",
     "status": "completed"
    },
    "tags": []
   },
   "outputs": [],
   "source": [
    "#q4.hint()\n",
    "#q4.solution()"
   ]
  },
  {
   "cell_type": "markdown",
   "id": "00973ea8",
   "metadata": {
    "papermill": {
     "duration": 0.030867,
     "end_time": "2022-03-19T13:51:31.970134",
     "exception": false,
     "start_time": "2022-03-19T13:51:31.939267",
     "status": "completed"
    },
    "tags": []
   },
   "source": [
    "# Congratulations!\n",
    "\n",
    "You've finished the Pandas micro-course.  Many data scientists feel efficiency with Pandas is the most useful and practical skill they have, because it allows you to progress quickly in any project you have.\n",
    "\n",
    "If you'd like to apply your new skills to examining geospatial data, you're encouraged to check out our **[Geospatial Analysis](https://www.kaggle.com/learn/geospatial-analysis)** micro-course.\n",
    "\n",
    "You can also take advantage of your Pandas skills by entering a **[Kaggle Competition](https://www.kaggle.com/competitions)** or by answering a question you find interesting using **[Kaggle Datasets](https://www.kaggle.com/datasets)**."
   ]
  },
  {
   "cell_type": "markdown",
   "id": "4ec80161",
   "metadata": {
    "papermill": {
     "duration": 0.031576,
     "end_time": "2022-03-19T13:51:32.032651",
     "exception": false,
     "start_time": "2022-03-19T13:51:32.001075",
     "status": "completed"
    },
    "tags": []
   },
   "source": [
    "---\n",
    "\n",
    "\n",
    "\n",
    "\n",
    "*Have questions or comments? Visit the [course discussion forum](https://www.kaggle.com/learn/pandas/discussion) to chat with other learners.*"
   ]
  }
 ],
 "metadata": {
  "kernelspec": {
   "display_name": "Python 3",
   "language": "python",
   "name": "python3"
  },
  "language_info": {
   "codemirror_mode": {
    "name": "ipython",
    "version": 3
   },
   "file_extension": ".py",
   "mimetype": "text/x-python",
   "name": "python",
   "nbconvert_exporter": "python",
   "pygments_lexer": "ipython3",
   "version": "3.7.12"
  },
  "papermill": {
   "default_parameters": {},
   "duration": 20.71765,
   "end_time": "2022-03-19T13:51:33.076556",
   "environment_variables": {},
   "exception": null,
   "input_path": "__notebook__.ipynb",
   "output_path": "__notebook__.ipynb",
   "parameters": {},
   "start_time": "2022-03-19T13:51:12.358906",
   "version": "2.3.3"
  }
 },
 "nbformat": 4,
 "nbformat_minor": 5
}
