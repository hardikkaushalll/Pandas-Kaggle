{
 "cells": [
  {
   "cell_type": "markdown",
   "id": "62839935",
   "metadata": {
    "papermill": {
     "duration": 0.020461,
     "end_time": "2022-03-18T13:51:22.670186",
     "exception": false,
     "start_time": "2022-03-18T13:51:22.649725",
     "status": "completed"
    },
    "tags": []
   },
   "source": [
    "**This notebook is an exercise in the [Pandas](https://www.kaggle.com/learn/pandas) course.  You can reference the tutorial at [this link](https://www.kaggle.com/residentmario/summary-functions-and-maps).**\n",
    "\n",
    "---\n"
   ]
  },
  {
   "cell_type": "markdown",
   "id": "024807a1",
   "metadata": {
    "papermill": {
     "duration": 0.019293,
     "end_time": "2022-03-18T13:51:22.709001",
     "exception": false,
     "start_time": "2022-03-18T13:51:22.689708",
     "status": "completed"
    },
    "tags": []
   },
   "source": [
    "# Introduction\n",
    "\n",
    "Now you are ready to get a deeper understanding of your data.\n",
    "\n",
    "Run the following cell to load your data and some utility functions (including code to check your answers)."
   ]
  },
  {
   "cell_type": "code",
   "execution_count": 1,
   "id": "929f1fd7",
   "metadata": {
    "execution": {
     "iopub.execute_input": "2022-03-18T13:51:22.759693Z",
     "iopub.status.busy": "2022-03-18T13:51:22.758745Z",
     "iopub.status.idle": "2022-03-18T13:51:29.753403Z",
     "shell.execute_reply": "2022-03-18T13:51:29.752772Z",
     "shell.execute_reply.started": "2022-03-18T13:26:49.840027Z"
    },
    "papermill": {
     "duration": 7.022507,
     "end_time": "2022-03-18T13:51:29.753560",
     "exception": false,
     "start_time": "2022-03-18T13:51:22.731053",
     "status": "completed"
    },
    "tags": []
   },
   "outputs": [
    {
     "name": "stdout",
     "output_type": "stream",
     "text": [
      "Setup complete.\n"
     ]
    },
    {
     "data": {
      "text/html": [
       "<div>\n",
       "<style scoped>\n",
       "    .dataframe tbody tr th:only-of-type {\n",
       "        vertical-align: middle;\n",
       "    }\n",
       "\n",
       "    .dataframe tbody tr th {\n",
       "        vertical-align: top;\n",
       "    }\n",
       "\n",
       "    .dataframe thead th {\n",
       "        text-align: right;\n",
       "    }\n",
       "</style>\n",
       "<table border=\"1\" class=\"dataframe\">\n",
       "  <thead>\n",
       "    <tr style=\"text-align: right;\">\n",
       "      <th></th>\n",
       "      <th>country</th>\n",
       "      <th>description</th>\n",
       "      <th>designation</th>\n",
       "      <th>points</th>\n",
       "      <th>price</th>\n",
       "      <th>province</th>\n",
       "      <th>region_1</th>\n",
       "      <th>region_2</th>\n",
       "      <th>taster_name</th>\n",
       "      <th>taster_twitter_handle</th>\n",
       "      <th>title</th>\n",
       "      <th>variety</th>\n",
       "      <th>winery</th>\n",
       "    </tr>\n",
       "  </thead>\n",
       "  <tbody>\n",
       "    <tr>\n",
       "      <th>0</th>\n",
       "      <td>Italy</td>\n",
       "      <td>Aromas include tropical fruit, broom, brimston...</td>\n",
       "      <td>Vulkà Bianco</td>\n",
       "      <td>87</td>\n",
       "      <td>NaN</td>\n",
       "      <td>Sicily &amp; Sardinia</td>\n",
       "      <td>Etna</td>\n",
       "      <td>NaN</td>\n",
       "      <td>Kerin O’Keefe</td>\n",
       "      <td>@kerinokeefe</td>\n",
       "      <td>Nicosia 2013 Vulkà Bianco  (Etna)</td>\n",
       "      <td>White Blend</td>\n",
       "      <td>Nicosia</td>\n",
       "    </tr>\n",
       "    <tr>\n",
       "      <th>1</th>\n",
       "      <td>Portugal</td>\n",
       "      <td>This is ripe and fruity, a wine that is smooth...</td>\n",
       "      <td>Avidagos</td>\n",
       "      <td>87</td>\n",
       "      <td>15.0</td>\n",
       "      <td>Douro</td>\n",
       "      <td>NaN</td>\n",
       "      <td>NaN</td>\n",
       "      <td>Roger Voss</td>\n",
       "      <td>@vossroger</td>\n",
       "      <td>Quinta dos Avidagos 2011 Avidagos Red (Douro)</td>\n",
       "      <td>Portuguese Red</td>\n",
       "      <td>Quinta dos Avidagos</td>\n",
       "    </tr>\n",
       "    <tr>\n",
       "      <th>2</th>\n",
       "      <td>US</td>\n",
       "      <td>Tart and snappy, the flavors of lime flesh and...</td>\n",
       "      <td>NaN</td>\n",
       "      <td>87</td>\n",
       "      <td>14.0</td>\n",
       "      <td>Oregon</td>\n",
       "      <td>Willamette Valley</td>\n",
       "      <td>Willamette Valley</td>\n",
       "      <td>Paul Gregutt</td>\n",
       "      <td>@paulgwine</td>\n",
       "      <td>Rainstorm 2013 Pinot Gris (Willamette Valley)</td>\n",
       "      <td>Pinot Gris</td>\n",
       "      <td>Rainstorm</td>\n",
       "    </tr>\n",
       "  </tbody>\n",
       "</table>\n",
       "</div>"
      ],
      "text/plain": [
       "    country                                        description   designation  \\\n",
       "0     Italy  Aromas include tropical fruit, broom, brimston...  Vulkà Bianco   \n",
       "1  Portugal  This is ripe and fruity, a wine that is smooth...      Avidagos   \n",
       "2        US  Tart and snappy, the flavors of lime flesh and...           NaN   \n",
       "\n",
       "   points  price           province           region_1           region_2  \\\n",
       "0      87    NaN  Sicily & Sardinia               Etna                NaN   \n",
       "1      87   15.0              Douro                NaN                NaN   \n",
       "2      87   14.0             Oregon  Willamette Valley  Willamette Valley   \n",
       "\n",
       "     taster_name taster_twitter_handle  \\\n",
       "0  Kerin O’Keefe          @kerinokeefe   \n",
       "1     Roger Voss            @vossroger   \n",
       "2   Paul Gregutt           @paulgwine    \n",
       "\n",
       "                                           title         variety  \\\n",
       "0              Nicosia 2013 Vulkà Bianco  (Etna)     White Blend   \n",
       "1  Quinta dos Avidagos 2011 Avidagos Red (Douro)  Portuguese Red   \n",
       "2  Rainstorm 2013 Pinot Gris (Willamette Valley)      Pinot Gris   \n",
       "\n",
       "                winery  \n",
       "0              Nicosia  \n",
       "1  Quinta dos Avidagos  \n",
       "2            Rainstorm  "
      ]
     },
     "execution_count": 1,
     "metadata": {},
     "output_type": "execute_result"
    }
   ],
   "source": [
    "import pandas as pd\n",
    "pd.set_option(\"display.max_rows\", 5)\n",
    "reviews = pd.read_csv(\"../input/wine-reviews/winemag-data-130k-v2.csv\", index_col=0)\n",
    "\n",
    "from learntools.core import binder; binder.bind(globals())\n",
    "from learntools.pandas.summary_functions_and_maps import *\n",
    "print(\"Setup complete.\")\n",
    "\n",
    "reviews.head(3)"
   ]
  },
  {
   "cell_type": "markdown",
   "id": "29a7a907",
   "metadata": {
    "papermill": {
     "duration": 0.01966,
     "end_time": "2022-03-18T13:51:29.794165",
     "exception": false,
     "start_time": "2022-03-18T13:51:29.774505",
     "status": "completed"
    },
    "tags": []
   },
   "source": [
    "# Exercises"
   ]
  },
  {
   "cell_type": "markdown",
   "id": "87b43f37",
   "metadata": {
    "papermill": {
     "duration": 0.019248,
     "end_time": "2022-03-18T13:51:29.833803",
     "exception": false,
     "start_time": "2022-03-18T13:51:29.814555",
     "status": "completed"
    },
    "tags": []
   },
   "source": [
    "## 1.\n",
    "\n",
    "What is the median of the `points` column in the `reviews` DataFrame?"
   ]
  },
  {
   "cell_type": "code",
   "execution_count": 2,
   "id": "e84f9637",
   "metadata": {
    "execution": {
     "iopub.execute_input": "2022-03-18T13:51:29.879340Z",
     "iopub.status.busy": "2022-03-18T13:51:29.876721Z",
     "iopub.status.idle": "2022-03-18T13:51:29.886417Z",
     "shell.execute_reply": "2022-03-18T13:51:29.886862Z",
     "shell.execute_reply.started": "2022-03-18T13:26:55.997377Z"
    },
    "papermill": {
     "duration": 0.033321,
     "end_time": "2022-03-18T13:51:29.887023",
     "exception": false,
     "start_time": "2022-03-18T13:51:29.853702",
     "status": "completed"
    },
    "tags": []
   },
   "outputs": [
    {
     "data": {
      "application/javascript": [
       "parent.postMessage({\"jupyterEvent\": \"custom.exercise_interaction\", \"data\": {\"outcomeType\": 1, \"valueTowardsCompletion\": 0.14285714285714285, \"interactionType\": 1, \"questionType\": 1, \"questionId\": \"1_MedianPoints\", \"learnToolsVersion\": \"0.3.4\", \"failureMessage\": \"\", \"exceptionClass\": \"\", \"trace\": \"\"}}, \"*\")"
      ],
      "text/plain": [
       "<IPython.core.display.Javascript object>"
      ]
     },
     "metadata": {},
     "output_type": "display_data"
    },
    {
     "data": {
      "text/markdown": [
       "<span style=\"color:#33cc33\">Correct</span>"
      ],
      "text/plain": [
       "Correct"
      ]
     },
     "metadata": {},
     "output_type": "display_data"
    }
   ],
   "source": [
    "median_points = reviews['points'].median()\n",
    "\n",
    "# Check your answer\n",
    "q1.check()"
   ]
  },
  {
   "cell_type": "code",
   "execution_count": 3,
   "id": "7b201b4b",
   "metadata": {
    "execution": {
     "iopub.execute_input": "2022-03-18T13:51:29.934115Z",
     "iopub.status.busy": "2022-03-18T13:51:29.933442Z",
     "iopub.status.idle": "2022-03-18T13:51:29.937125Z",
     "shell.execute_reply": "2022-03-18T13:51:29.937624Z",
     "shell.execute_reply.started": "2022-03-18T13:26:56.007952Z"
    },
    "papermill": {
     "duration": 0.028363,
     "end_time": "2022-03-18T13:51:29.937809",
     "exception": false,
     "start_time": "2022-03-18T13:51:29.909446",
     "status": "completed"
    },
    "tags": []
   },
   "outputs": [],
   "source": [
    "#q1.hint()\n",
    "#q1.solution()"
   ]
  },
  {
   "cell_type": "markdown",
   "id": "2cf48c98",
   "metadata": {
    "papermill": {
     "duration": 0.020953,
     "end_time": "2022-03-18T13:51:29.981083",
     "exception": false,
     "start_time": "2022-03-18T13:51:29.960130",
     "status": "completed"
    },
    "tags": []
   },
   "source": [
    "## 2. \n",
    "What countries are represented in the dataset? (Your answer should not include any duplicates.)"
   ]
  },
  {
   "cell_type": "code",
   "execution_count": 4,
   "id": "b9389679",
   "metadata": {
    "execution": {
     "iopub.execute_input": "2022-03-18T13:51:30.033173Z",
     "iopub.status.busy": "2022-03-18T13:51:30.032460Z",
     "iopub.status.idle": "2022-03-18T13:51:30.037992Z",
     "shell.execute_reply": "2022-03-18T13:51:30.038478Z",
     "shell.execute_reply.started": "2022-03-18T13:26:56.015405Z"
    },
    "papermill": {
     "duration": 0.036479,
     "end_time": "2022-03-18T13:51:30.038643",
     "exception": false,
     "start_time": "2022-03-18T13:51:30.002164",
     "status": "completed"
    },
    "tags": []
   },
   "outputs": [
    {
     "data": {
      "application/javascript": [
       "parent.postMessage({\"jupyterEvent\": \"custom.exercise_interaction\", \"data\": {\"outcomeType\": 1, \"valueTowardsCompletion\": 0.14285714285714285, \"interactionType\": 1, \"questionType\": 2, \"questionId\": \"2_UniqueCountries\", \"learnToolsVersion\": \"0.3.4\", \"failureMessage\": \"\", \"exceptionClass\": \"\", \"trace\": \"\"}}, \"*\")"
      ],
      "text/plain": [
       "<IPython.core.display.Javascript object>"
      ]
     },
     "metadata": {},
     "output_type": "display_data"
    },
    {
     "data": {
      "text/markdown": [
       "<span style=\"color:#33cc33\">Correct</span>"
      ],
      "text/plain": [
       "Correct"
      ]
     },
     "metadata": {},
     "output_type": "display_data"
    }
   ],
   "source": [
    "countries = reviews['country'].unique()\n",
    "\n",
    "# Check your answer\n",
    "q2.check()"
   ]
  },
  {
   "cell_type": "code",
   "execution_count": 5,
   "id": "3a33f0e8",
   "metadata": {
    "execution": {
     "iopub.execute_input": "2022-03-18T13:51:30.087411Z",
     "iopub.status.busy": "2022-03-18T13:51:30.086754Z",
     "iopub.status.idle": "2022-03-18T13:51:30.090368Z",
     "shell.execute_reply": "2022-03-18T13:51:30.090902Z",
     "shell.execute_reply.started": "2022-03-18T13:26:56.041870Z"
    },
    "papermill": {
     "duration": 0.028901,
     "end_time": "2022-03-18T13:51:30.091066",
     "exception": false,
     "start_time": "2022-03-18T13:51:30.062165",
     "status": "completed"
    },
    "tags": []
   },
   "outputs": [],
   "source": [
    "#q2.hint()\n",
    "#q2.solution()"
   ]
  },
  {
   "cell_type": "markdown",
   "id": "c7473998",
   "metadata": {
    "papermill": {
     "duration": 0.021769,
     "end_time": "2022-03-18T13:51:30.135710",
     "exception": false,
     "start_time": "2022-03-18T13:51:30.113941",
     "status": "completed"
    },
    "tags": []
   },
   "source": [
    "## 3.\n",
    "How often does each country appear in the dataset? Create a Series `reviews_per_country` mapping countries to the count of reviews of wines from that country."
   ]
  },
  {
   "cell_type": "code",
   "execution_count": 6,
   "id": "9999b20e",
   "metadata": {
    "execution": {
     "iopub.execute_input": "2022-03-18T13:51:30.182690Z",
     "iopub.status.busy": "2022-03-18T13:51:30.182023Z",
     "iopub.status.idle": "2022-03-18T13:51:30.206563Z",
     "shell.execute_reply": "2022-03-18T13:51:30.206978Z",
     "shell.execute_reply.started": "2022-03-18T13:26:56.047343Z"
    },
    "papermill": {
     "duration": 0.049518,
     "end_time": "2022-03-18T13:51:30.207126",
     "exception": false,
     "start_time": "2022-03-18T13:51:30.157608",
     "status": "completed"
    },
    "tags": []
   },
   "outputs": [
    {
     "data": {
      "application/javascript": [
       "parent.postMessage({\"jupyterEvent\": \"custom.exercise_interaction\", \"data\": {\"outcomeType\": 1, \"valueTowardsCompletion\": 0.14285714285714285, \"interactionType\": 1, \"questionType\": 1, \"questionId\": \"3_ReviewsPerCountry\", \"learnToolsVersion\": \"0.3.4\", \"failureMessage\": \"\", \"exceptionClass\": \"\", \"trace\": \"\"}}, \"*\")"
      ],
      "text/plain": [
       "<IPython.core.display.Javascript object>"
      ]
     },
     "metadata": {},
     "output_type": "display_data"
    },
    {
     "data": {
      "text/markdown": [
       "<span style=\"color:#33cc33\">Correct</span>"
      ],
      "text/plain": [
       "Correct"
      ]
     },
     "metadata": {},
     "output_type": "display_data"
    }
   ],
   "source": [
    "reviews_per_country = reviews['country'].value_counts()\n",
    "\n",
    "# Check your answer\n",
    "q3.check()"
   ]
  },
  {
   "cell_type": "code",
   "execution_count": 7,
   "id": "28e58543",
   "metadata": {
    "execution": {
     "iopub.execute_input": "2022-03-18T13:51:30.259382Z",
     "iopub.status.busy": "2022-03-18T13:51:30.258714Z",
     "iopub.status.idle": "2022-03-18T13:51:30.261784Z",
     "shell.execute_reply": "2022-03-18T13:51:30.262302Z",
     "shell.execute_reply.started": "2022-03-18T13:26:56.072800Z"
    },
    "papermill": {
     "duration": 0.02989,
     "end_time": "2022-03-18T13:51:30.262495",
     "exception": false,
     "start_time": "2022-03-18T13:51:30.232605",
     "status": "completed"
    },
    "tags": []
   },
   "outputs": [],
   "source": [
    "#q3.hint()\n",
    "#q3.solution()"
   ]
  },
  {
   "cell_type": "markdown",
   "id": "562d4ffb",
   "metadata": {
    "papermill": {
     "duration": 0.022838,
     "end_time": "2022-03-18T13:51:30.309568",
     "exception": false,
     "start_time": "2022-03-18T13:51:30.286730",
     "status": "completed"
    },
    "tags": []
   },
   "source": [
    "## 4.\n",
    "Create variable `centered_price` containing a version of the `price` column with the mean price subtracted.\n",
    "\n",
    "(Note: this 'centering' transformation is a common preprocessing step before applying various machine learning algorithms.) "
   ]
  },
  {
   "cell_type": "code",
   "execution_count": 8,
   "id": "703f506b",
   "metadata": {
    "execution": {
     "iopub.execute_input": "2022-03-18T13:51:30.361133Z",
     "iopub.status.busy": "2022-03-18T13:51:30.360591Z",
     "iopub.status.idle": "2022-03-18T13:51:30.370016Z",
     "shell.execute_reply": "2022-03-18T13:51:30.370548Z",
     "shell.execute_reply.started": "2022-03-18T13:26:56.079224Z"
    },
    "papermill": {
     "duration": 0.037666,
     "end_time": "2022-03-18T13:51:30.370778",
     "exception": false,
     "start_time": "2022-03-18T13:51:30.333112",
     "status": "completed"
    },
    "tags": []
   },
   "outputs": [
    {
     "data": {
      "application/javascript": [
       "parent.postMessage({\"jupyterEvent\": \"custom.exercise_interaction\", \"data\": {\"outcomeType\": 1, \"valueTowardsCompletion\": 0.14285714285714285, \"interactionType\": 1, \"questionType\": 1, \"questionId\": \"4_CenteredPrice\", \"learnToolsVersion\": \"0.3.4\", \"failureMessage\": \"\", \"exceptionClass\": \"\", \"trace\": \"\"}}, \"*\")"
      ],
      "text/plain": [
       "<IPython.core.display.Javascript object>"
      ]
     },
     "metadata": {},
     "output_type": "display_data"
    },
    {
     "data": {
      "text/markdown": [
       "<span style=\"color:#33cc33\">Correct</span>"
      ],
      "text/plain": [
       "Correct"
      ]
     },
     "metadata": {},
     "output_type": "display_data"
    },
    {
     "data": {
      "text/plain": [
       "0               NaN\n",
       "1        -20.363389\n",
       "            ...    \n",
       "129969    -3.363389\n",
       "129970   -14.363389\n",
       "Name: price, Length: 129971, dtype: float64"
      ]
     },
     "execution_count": 8,
     "metadata": {},
     "output_type": "execute_result"
    }
   ],
   "source": [
    "centered_price = reviews['price'] - reviews['price'].mean()\n",
    "\n",
    "# Check your answer\n",
    "q4.check()\n",
    "centered_price"
   ]
  },
  {
   "cell_type": "code",
   "execution_count": 9,
   "id": "e87ce236",
   "metadata": {
    "execution": {
     "iopub.execute_input": "2022-03-18T13:51:30.423661Z",
     "iopub.status.busy": "2022-03-18T13:51:30.423105Z",
     "iopub.status.idle": "2022-03-18T13:51:30.427330Z",
     "shell.execute_reply": "2022-03-18T13:51:30.427847Z",
     "shell.execute_reply.started": "2022-03-18T13:26:56.100375Z"
    },
    "papermill": {
     "duration": 0.031465,
     "end_time": "2022-03-18T13:51:30.428012",
     "exception": false,
     "start_time": "2022-03-18T13:51:30.396547",
     "status": "completed"
    },
    "tags": []
   },
   "outputs": [],
   "source": [
    "#q4.hint()\n",
    "#q4.solution()"
   ]
  },
  {
   "cell_type": "markdown",
   "id": "78fc87bd",
   "metadata": {
    "papermill": {
     "duration": 0.024279,
     "end_time": "2022-03-18T13:51:30.476875",
     "exception": false,
     "start_time": "2022-03-18T13:51:30.452596",
     "status": "completed"
    },
    "tags": []
   },
   "source": [
    "## 5.\n",
    "I'm an economical wine buyer. Which wine is the \"best bargain\"? Create a variable `bargain_wine` with the title of the wine with the highest points-to-price ratio in the dataset."
   ]
  },
  {
   "cell_type": "code",
   "execution_count": 10,
   "id": "54b7c7e8",
   "metadata": {
    "execution": {
     "iopub.execute_input": "2022-03-18T13:51:30.530332Z",
     "iopub.status.busy": "2022-03-18T13:51:30.529661Z",
     "iopub.status.idle": "2022-03-18T13:51:30.540791Z",
     "shell.execute_reply": "2022-03-18T13:51:30.541273Z",
     "shell.execute_reply.started": "2022-03-18T13:26:56.106464Z"
    },
    "papermill": {
     "duration": 0.039476,
     "end_time": "2022-03-18T13:51:30.541432",
     "exception": false,
     "start_time": "2022-03-18T13:51:30.501956",
     "status": "completed"
    },
    "tags": []
   },
   "outputs": [
    {
     "data": {
      "application/javascript": [
       "parent.postMessage({\"jupyterEvent\": \"custom.exercise_interaction\", \"data\": {\"outcomeType\": 1, \"valueTowardsCompletion\": 0.14285714285714285, \"interactionType\": 1, \"questionType\": 2, \"questionId\": \"5_BargainWine\", \"learnToolsVersion\": \"0.3.4\", \"failureMessage\": \"\", \"exceptionClass\": \"\", \"trace\": \"\"}}, \"*\")"
      ],
      "text/plain": [
       "<IPython.core.display.Javascript object>"
      ]
     },
     "metadata": {},
     "output_type": "display_data"
    },
    {
     "data": {
      "text/markdown": [
       "<span style=\"color:#33cc33\">Correct</span>"
      ],
      "text/plain": [
       "Correct"
      ]
     },
     "metadata": {},
     "output_type": "display_data"
    }
   ],
   "source": [
    "ptp_ratio = (reviews.points / reviews.price).idxmax()\n",
    "bargain_wine = reviews.loc[ptp_ratio, 'title']\n",
    "\n",
    "\n",
    "\n",
    "\n",
    "# Check your answer\n",
    "q5.check()"
   ]
  },
  {
   "cell_type": "code",
   "execution_count": 11,
   "id": "42ad9b8e",
   "metadata": {
    "execution": {
     "iopub.execute_input": "2022-03-18T13:51:30.596546Z",
     "iopub.status.busy": "2022-03-18T13:51:30.595934Z",
     "iopub.status.idle": "2022-03-18T13:51:30.598436Z",
     "shell.execute_reply": "2022-03-18T13:51:30.598886Z",
     "shell.execute_reply.started": "2022-03-18T13:26:56.125979Z"
    },
    "papermill": {
     "duration": 0.031181,
     "end_time": "2022-03-18T13:51:30.599042",
     "exception": false,
     "start_time": "2022-03-18T13:51:30.567861",
     "status": "completed"
    },
    "tags": []
   },
   "outputs": [],
   "source": [
    "#q5.hint()\n",
    "#q5.solution()"
   ]
  },
  {
   "cell_type": "markdown",
   "id": "60438462",
   "metadata": {
    "papermill": {
     "duration": 0.025498,
     "end_time": "2022-03-18T13:51:30.650804",
     "exception": false,
     "start_time": "2022-03-18T13:51:30.625306",
     "status": "completed"
    },
    "tags": []
   },
   "source": [
    "## 6.\n",
    "There are only so many words you can use when describing a bottle of wine. Is a wine more likely to be \"tropical\" or \"fruity\"? Create a Series `descriptor_counts` counting how many times each of these two words appears in the `description` column in the dataset. (For simplicity, let's ignore the capitalized versions of these words.)"
   ]
  },
  {
   "cell_type": "code",
   "execution_count": 12,
   "id": "381352d3",
   "metadata": {
    "execution": {
     "iopub.execute_input": "2022-03-18T13:51:30.705689Z",
     "iopub.status.busy": "2022-03-18T13:51:30.705019Z",
     "iopub.status.idle": "2022-03-18T13:51:30.812497Z",
     "shell.execute_reply": "2022-03-18T13:51:30.812073Z",
     "shell.execute_reply.started": "2022-03-18T13:28:01.123561Z"
    },
    "papermill": {
     "duration": 0.136075,
     "end_time": "2022-03-18T13:51:30.812646",
     "exception": false,
     "start_time": "2022-03-18T13:51:30.676571",
     "status": "completed"
    },
    "tags": []
   },
   "outputs": [
    {
     "data": {
      "application/javascript": [
       "parent.postMessage({\"jupyterEvent\": \"custom.exercise_interaction\", \"data\": {\"outcomeType\": 1, \"valueTowardsCompletion\": 0.14285714285714285, \"interactionType\": 1, \"questionType\": 1, \"questionId\": \"6_DescriptorCounts\", \"learnToolsVersion\": \"0.3.4\", \"failureMessage\": \"\", \"exceptionClass\": \"\", \"trace\": \"\"}}, \"*\")"
      ],
      "text/plain": [
       "<IPython.core.display.Javascript object>"
      ]
     },
     "metadata": {},
     "output_type": "display_data"
    },
    {
     "data": {
      "text/markdown": [
       "<span style=\"color:#33cc33\">Correct</span>"
      ],
      "text/plain": [
       "Correct"
      ]
     },
     "metadata": {},
     "output_type": "display_data"
    }
   ],
   "source": [
    "n_trop = reviews.description.map(lambda desc: \"tropical\" in desc).sum()\n",
    "n_fruity = reviews.description.map(lambda desc: \"fruity\" in desc).sum()\n",
    "descriptor_counts = pd.Series([n_trop, n_fruity], index=['tropical', 'fruity'])\n",
    "\n",
    "# Check your answer\n",
    "q6.check()"
   ]
  },
  {
   "cell_type": "code",
   "execution_count": 13,
   "id": "548731a3",
   "metadata": {
    "execution": {
     "iopub.execute_input": "2022-03-18T13:51:30.869257Z",
     "iopub.status.busy": "2022-03-18T13:51:30.868680Z",
     "iopub.status.idle": "2022-03-18T13:51:30.884200Z",
     "shell.execute_reply": "2022-03-18T13:51:30.884589Z",
     "shell.execute_reply.started": "2022-03-18T13:29:45.427020Z"
    },
    "papermill": {
     "duration": 0.044894,
     "end_time": "2022-03-18T13:51:30.884758",
     "exception": false,
     "start_time": "2022-03-18T13:51:30.839864",
     "status": "completed"
    },
    "tags": []
   },
   "outputs": [
    {
     "data": {
      "text/html": [
       "<div>\n",
       "<style scoped>\n",
       "    .dataframe tbody tr th:only-of-type {\n",
       "        vertical-align: middle;\n",
       "    }\n",
       "\n",
       "    .dataframe tbody tr th {\n",
       "        vertical-align: top;\n",
       "    }\n",
       "\n",
       "    .dataframe thead th {\n",
       "        text-align: right;\n",
       "    }\n",
       "</style>\n",
       "<table border=\"1\" class=\"dataframe\">\n",
       "  <thead>\n",
       "    <tr style=\"text-align: right;\">\n",
       "      <th></th>\n",
       "      <th>country</th>\n",
       "      <th>description</th>\n",
       "      <th>designation</th>\n",
       "      <th>points</th>\n",
       "      <th>price</th>\n",
       "      <th>province</th>\n",
       "      <th>region_1</th>\n",
       "      <th>region_2</th>\n",
       "      <th>taster_name</th>\n",
       "      <th>taster_twitter_handle</th>\n",
       "      <th>title</th>\n",
       "      <th>variety</th>\n",
       "      <th>winery</th>\n",
       "    </tr>\n",
       "  </thead>\n",
       "  <tbody>\n",
       "    <tr>\n",
       "      <th>0</th>\n",
       "      <td>Italy</td>\n",
       "      <td>Aromas include tropical fruit, broom, brimston...</td>\n",
       "      <td>Vulkà Bianco</td>\n",
       "      <td>87</td>\n",
       "      <td>NaN</td>\n",
       "      <td>Sicily &amp; Sardinia</td>\n",
       "      <td>Etna</td>\n",
       "      <td>NaN</td>\n",
       "      <td>Kerin O’Keefe</td>\n",
       "      <td>@kerinokeefe</td>\n",
       "      <td>Nicosia 2013 Vulkà Bianco  (Etna)</td>\n",
       "      <td>White Blend</td>\n",
       "      <td>Nicosia</td>\n",
       "    </tr>\n",
       "    <tr>\n",
       "      <th>1</th>\n",
       "      <td>Portugal</td>\n",
       "      <td>This is ripe and fruity, a wine that is smooth...</td>\n",
       "      <td>Avidagos</td>\n",
       "      <td>87</td>\n",
       "      <td>15.0</td>\n",
       "      <td>Douro</td>\n",
       "      <td>NaN</td>\n",
       "      <td>NaN</td>\n",
       "      <td>Roger Voss</td>\n",
       "      <td>@vossroger</td>\n",
       "      <td>Quinta dos Avidagos 2011 Avidagos Red (Douro)</td>\n",
       "      <td>Portuguese Red</td>\n",
       "      <td>Quinta dos Avidagos</td>\n",
       "    </tr>\n",
       "  </tbody>\n",
       "</table>\n",
       "</div>"
      ],
      "text/plain": [
       "    country                                        description   designation  \\\n",
       "0     Italy  Aromas include tropical fruit, broom, brimston...  Vulkà Bianco   \n",
       "1  Portugal  This is ripe and fruity, a wine that is smooth...      Avidagos   \n",
       "\n",
       "   points  price           province region_1 region_2    taster_name  \\\n",
       "0      87    NaN  Sicily & Sardinia     Etna      NaN  Kerin O’Keefe   \n",
       "1      87   15.0              Douro      NaN      NaN     Roger Voss   \n",
       "\n",
       "  taster_twitter_handle                                          title  \\\n",
       "0          @kerinokeefe              Nicosia 2013 Vulkà Bianco  (Etna)   \n",
       "1            @vossroger  Quinta dos Avidagos 2011 Avidagos Red (Douro)   \n",
       "\n",
       "          variety               winery  \n",
       "0     White Blend              Nicosia  \n",
       "1  Portuguese Red  Quinta dos Avidagos  "
      ]
     },
     "execution_count": 13,
     "metadata": {},
     "output_type": "execute_result"
    }
   ],
   "source": [
    "#q6.hint()\n",
    "#q6.solution()\n",
    "reviews.head(2)"
   ]
  },
  {
   "cell_type": "markdown",
   "id": "bb37b7dc",
   "metadata": {
    "papermill": {
     "duration": 0.036326,
     "end_time": "2022-03-18T13:51:30.950146",
     "exception": false,
     "start_time": "2022-03-18T13:51:30.913820",
     "status": "completed"
    },
    "tags": []
   },
   "source": [
    "## 7.\n",
    "We'd like to host these wine reviews on our website, but a rating system ranging from 80 to 100 points is too hard to understand - we'd like to translate them into simple star ratings. A score of 95 or higher counts as 3 stars, a score of at least 85 but less than 95 is 2 stars. Any other score is 1 star.\n",
    "\n",
    "Also, the Canadian Vintners Association bought a lot of ads on the site, so any wines from Canada should automatically get 3 stars, regardless of points.\n",
    "\n",
    "Create a series `star_ratings` with the number of stars corresponding to each review in the dataset."
   ]
  },
  {
   "cell_type": "code",
   "execution_count": 14,
   "id": "99625d29",
   "metadata": {
    "execution": {
     "iopub.execute_input": "2022-03-18T13:51:31.014232Z",
     "iopub.status.busy": "2022-03-18T13:51:31.013565Z",
     "iopub.status.idle": "2022-03-18T13:51:32.828838Z",
     "shell.execute_reply": "2022-03-18T13:51:32.829278Z",
     "shell.execute_reply.started": "2022-03-18T13:50:49.919070Z"
    },
    "papermill": {
     "duration": 1.845739,
     "end_time": "2022-03-18T13:51:32.829444",
     "exception": false,
     "start_time": "2022-03-18T13:51:30.983705",
     "status": "completed"
    },
    "tags": []
   },
   "outputs": [
    {
     "data": {
      "application/javascript": [
       "parent.postMessage({\"jupyterEvent\": \"custom.exercise_interaction\", \"data\": {\"outcomeType\": 1, \"valueTowardsCompletion\": 0.14285714285714285, \"interactionType\": 1, \"questionType\": 1, \"questionId\": \"7_StarRatings\", \"learnToolsVersion\": \"0.3.4\", \"failureMessage\": \"\", \"exceptionClass\": \"\", \"trace\": \"\"}}, \"*\")"
      ],
      "text/plain": [
       "<IPython.core.display.Javascript object>"
      ]
     },
     "metadata": {},
     "output_type": "display_data"
    },
    {
     "data": {
      "text/markdown": [
       "<span style=\"color:#33cc33\">Correct</span>"
      ],
      "text/plain": [
       "Correct"
      ]
     },
     "metadata": {},
     "output_type": "display_data"
    }
   ],
   "source": [
    "def star(para):\n",
    "    if para['points'] >= 95:\n",
    "        star = 3\n",
    "    elif para['points'] >= 85:\n",
    "        star = 2\n",
    "    elif para['country'] == 'Canada':\n",
    "        star = 3\n",
    "    else:\n",
    "        star = 1\n",
    "    return star\n",
    "        \n",
    "    \n",
    "\n",
    "star_ratings = reviews.apply(star, axis = 1)\n",
    "\n",
    "# Check your answer\n",
    "q7.check()"
   ]
  },
  {
   "cell_type": "code",
   "execution_count": 15,
   "id": "059ec0b0",
   "metadata": {
    "execution": {
     "iopub.execute_input": "2022-03-18T13:51:32.890532Z",
     "iopub.status.busy": "2022-03-18T13:51:32.890048Z",
     "iopub.status.idle": "2022-03-18T13:51:32.893021Z",
     "shell.execute_reply": "2022-03-18T13:51:32.892363Z",
     "shell.execute_reply.started": "2022-03-18T13:50:45.281710Z"
    },
    "papermill": {
     "duration": 0.035173,
     "end_time": "2022-03-18T13:51:32.893155",
     "exception": false,
     "start_time": "2022-03-18T13:51:32.857982",
     "status": "completed"
    },
    "tags": []
   },
   "outputs": [],
   "source": [
    "#q7.hint()\n",
    "#q7.solution()"
   ]
  },
  {
   "cell_type": "markdown",
   "id": "b7d276af",
   "metadata": {
    "papermill": {
     "duration": 0.028377,
     "end_time": "2022-03-18T13:51:32.950515",
     "exception": false,
     "start_time": "2022-03-18T13:51:32.922138",
     "status": "completed"
    },
    "tags": []
   },
   "source": [
    "# Keep going\n",
    "Continue to **[grouping and sorting](https://www.kaggle.com/residentmario/grouping-and-sorting)**."
   ]
  },
  {
   "cell_type": "markdown",
   "id": "0992d27a",
   "metadata": {
    "papermill": {
     "duration": 0.028298,
     "end_time": "2022-03-18T13:51:33.007500",
     "exception": false,
     "start_time": "2022-03-18T13:51:32.979202",
     "status": "completed"
    },
    "tags": []
   },
   "source": [
    "---\n",
    "\n",
    "\n",
    "\n",
    "\n",
    "*Have questions or comments? Visit the [course discussion forum](https://www.kaggle.com/learn/pandas/discussion) to chat with other learners.*"
   ]
  }
 ],
 "metadata": {
  "kernelspec": {
   "display_name": "Python 3",
   "language": "python",
   "name": "python3"
  },
  "language_info": {
   "codemirror_mode": {
    "name": "ipython",
    "version": 3
   },
   "file_extension": ".py",
   "mimetype": "text/x-python",
   "name": "python",
   "nbconvert_exporter": "python",
   "pygments_lexer": "ipython3",
   "version": "3.7.12"
  },
  "papermill": {
   "default_parameters": {},
   "duration": 19.135251,
   "end_time": "2022-03-18T13:51:33.645361",
   "environment_variables": {},
   "exception": null,
   "input_path": "__notebook__.ipynb",
   "output_path": "__notebook__.ipynb",
   "parameters": {},
   "start_time": "2022-03-18T13:51:14.510110",
   "version": "2.3.3"
  }
 },
 "nbformat": 4,
 "nbformat_minor": 5
}
