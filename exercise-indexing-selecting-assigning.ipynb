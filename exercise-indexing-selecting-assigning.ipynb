{
 "cells": [
  {
   "cell_type": "markdown",
   "id": "ecde0c19",
   "metadata": {
    "papermill": {
     "duration": 0.030022,
     "end_time": "2022-03-14T14:10:02.930479",
     "exception": false,
     "start_time": "2022-03-14T14:10:02.900457",
     "status": "completed"
    },
    "tags": []
   },
   "source": [
    "**This notebook is an exercise in the [Pandas](https://www.kaggle.com/learn/pandas) course.  You can reference the tutorial at [this link](https://www.kaggle.com/residentmario/indexing-selecting-assigning).**\n",
    "\n",
    "---\n"
   ]
  },
  {
   "cell_type": "markdown",
   "id": "783576e6",
   "metadata": {
    "papermill": {
     "duration": 0.028601,
     "end_time": "2022-03-14T14:10:02.988041",
     "exception": false,
     "start_time": "2022-03-14T14:10:02.959440",
     "status": "completed"
    },
    "tags": []
   },
   "source": [
    "# Introduction\n",
    "\n",
    "In this set of exercises we will work with the [Wine Reviews dataset](https://www.kaggle.com/zynicide/wine-reviews). "
   ]
  },
  {
   "cell_type": "markdown",
   "id": "d1e2ae95",
   "metadata": {
    "papermill": {
     "duration": 0.03,
     "end_time": "2022-03-14T14:10:03.048079",
     "exception": false,
     "start_time": "2022-03-14T14:10:03.018079",
     "status": "completed"
    },
    "tags": []
   },
   "source": [
    "Run the following cell to load your data and some utility functions (including code to check your answers)."
   ]
  },
  {
   "cell_type": "code",
   "execution_count": 1,
   "id": "2627b018",
   "metadata": {
    "execution": {
     "iopub.execute_input": "2022-03-14T14:10:03.111291Z",
     "iopub.status.busy": "2022-03-14T14:10:03.110171Z",
     "iopub.status.idle": "2022-03-14T14:10:05.675849Z",
     "shell.execute_reply": "2022-03-14T14:10:05.675240Z",
     "shell.execute_reply.started": "2022-03-14T14:02:01.590043Z"
    },
    "papermill": {
     "duration": 2.599041,
     "end_time": "2022-03-14T14:10:05.676042",
     "exception": false,
     "start_time": "2022-03-14T14:10:03.077001",
     "status": "completed"
    },
    "tags": []
   },
   "outputs": [
    {
     "name": "stdout",
     "output_type": "stream",
     "text": [
      "Setup complete.\n"
     ]
    }
   ],
   "source": [
    "import pandas as pd\n",
    "\n",
    "reviews = pd.read_csv(\"../input/wine-reviews/winemag-data-130k-v2.csv\", index_col=0)\n",
    "pd.set_option(\"display.max_rows\", 5)\n",
    "\n",
    "from learntools.core import binder; binder.bind(globals())\n",
    "from learntools.pandas.indexing_selecting_and_assigning import *\n",
    "print(\"Setup complete.\")"
   ]
  },
  {
   "cell_type": "markdown",
   "id": "fb70dcb7",
   "metadata": {
    "papermill": {
     "duration": 0.028366,
     "end_time": "2022-03-14T14:10:05.733634",
     "exception": false,
     "start_time": "2022-03-14T14:10:05.705268",
     "status": "completed"
    },
    "tags": []
   },
   "source": [
    "Look at an overview of your data by running the following line."
   ]
  },
  {
   "cell_type": "code",
   "execution_count": 2,
   "id": "63205ef6",
   "metadata": {
    "execution": {
     "iopub.execute_input": "2022-03-14T14:10:05.797732Z",
     "iopub.status.busy": "2022-03-14T14:10:05.797116Z",
     "iopub.status.idle": "2022-03-14T14:10:05.812817Z",
     "shell.execute_reply": "2022-03-14T14:10:05.813246Z",
     "shell.execute_reply.started": "2022-03-14T14:02:06.289036Z"
    },
    "papermill": {
     "duration": 0.051814,
     "end_time": "2022-03-14T14:10:05.813388",
     "exception": false,
     "start_time": "2022-03-14T14:10:05.761574",
     "status": "completed"
    },
    "tags": []
   },
   "outputs": [
    {
     "data": {
      "text/html": [
       "<div>\n",
       "<style scoped>\n",
       "    .dataframe tbody tr th:only-of-type {\n",
       "        vertical-align: middle;\n",
       "    }\n",
       "\n",
       "    .dataframe tbody tr th {\n",
       "        vertical-align: top;\n",
       "    }\n",
       "\n",
       "    .dataframe thead th {\n",
       "        text-align: right;\n",
       "    }\n",
       "</style>\n",
       "<table border=\"1\" class=\"dataframe\">\n",
       "  <thead>\n",
       "    <tr style=\"text-align: right;\">\n",
       "      <th></th>\n",
       "      <th>country</th>\n",
       "      <th>description</th>\n",
       "      <th>designation</th>\n",
       "      <th>points</th>\n",
       "      <th>price</th>\n",
       "      <th>province</th>\n",
       "      <th>region_1</th>\n",
       "      <th>region_2</th>\n",
       "      <th>taster_name</th>\n",
       "      <th>taster_twitter_handle</th>\n",
       "      <th>title</th>\n",
       "      <th>variety</th>\n",
       "      <th>winery</th>\n",
       "    </tr>\n",
       "  </thead>\n",
       "  <tbody>\n",
       "    <tr>\n",
       "      <th>0</th>\n",
       "      <td>Italy</td>\n",
       "      <td>Aromas include tropical fruit, broom, brimston...</td>\n",
       "      <td>Vulkà Bianco</td>\n",
       "      <td>87</td>\n",
       "      <td>NaN</td>\n",
       "      <td>Sicily &amp; Sardinia</td>\n",
       "      <td>Etna</td>\n",
       "      <td>NaN</td>\n",
       "      <td>Kerin O’Keefe</td>\n",
       "      <td>@kerinokeefe</td>\n",
       "      <td>Nicosia 2013 Vulkà Bianco  (Etna)</td>\n",
       "      <td>White Blend</td>\n",
       "      <td>Nicosia</td>\n",
       "    </tr>\n",
       "    <tr>\n",
       "      <th>1</th>\n",
       "      <td>Portugal</td>\n",
       "      <td>This is ripe and fruity, a wine that is smooth...</td>\n",
       "      <td>Avidagos</td>\n",
       "      <td>87</td>\n",
       "      <td>15.0</td>\n",
       "      <td>Douro</td>\n",
       "      <td>NaN</td>\n",
       "      <td>NaN</td>\n",
       "      <td>Roger Voss</td>\n",
       "      <td>@vossroger</td>\n",
       "      <td>Quinta dos Avidagos 2011 Avidagos Red (Douro)</td>\n",
       "      <td>Portuguese Red</td>\n",
       "      <td>Quinta dos Avidagos</td>\n",
       "    </tr>\n",
       "  </tbody>\n",
       "</table>\n",
       "</div>"
      ],
      "text/plain": [
       "    country                                        description   designation  \\\n",
       "0     Italy  Aromas include tropical fruit, broom, brimston...  Vulkà Bianco   \n",
       "1  Portugal  This is ripe and fruity, a wine that is smooth...      Avidagos   \n",
       "\n",
       "   points  price           province region_1 region_2    taster_name  \\\n",
       "0      87    NaN  Sicily & Sardinia     Etna      NaN  Kerin O’Keefe   \n",
       "1      87   15.0              Douro      NaN      NaN     Roger Voss   \n",
       "\n",
       "  taster_twitter_handle                                          title  \\\n",
       "0          @kerinokeefe              Nicosia 2013 Vulkà Bianco  (Etna)   \n",
       "1            @vossroger  Quinta dos Avidagos 2011 Avidagos Red (Douro)   \n",
       "\n",
       "          variety               winery  \n",
       "0     White Blend              Nicosia  \n",
       "1  Portuguese Red  Quinta dos Avidagos  "
      ]
     },
     "execution_count": 2,
     "metadata": {},
     "output_type": "execute_result"
    }
   ],
   "source": [
    "reviews.head(2)"
   ]
  },
  {
   "cell_type": "markdown",
   "id": "75cb603d",
   "metadata": {
    "papermill": {
     "duration": 0.027573,
     "end_time": "2022-03-14T14:10:05.868938",
     "exception": false,
     "start_time": "2022-03-14T14:10:05.841365",
     "status": "completed"
    },
    "tags": []
   },
   "source": [
    "# Exercises"
   ]
  },
  {
   "cell_type": "markdown",
   "id": "0a9c33d7",
   "metadata": {
    "papermill": {
     "duration": 0.028331,
     "end_time": "2022-03-14T14:10:05.925727",
     "exception": false,
     "start_time": "2022-03-14T14:10:05.897396",
     "status": "completed"
    },
    "tags": []
   },
   "source": [
    "## 1.\n",
    "\n",
    "Select the `description` column from `reviews` and assign the result to the variable `desc`."
   ]
  },
  {
   "cell_type": "code",
   "execution_count": 3,
   "id": "e08d371e",
   "metadata": {
    "execution": {
     "iopub.execute_input": "2022-03-14T14:10:05.988416Z",
     "iopub.status.busy": "2022-03-14T14:10:05.987769Z",
     "iopub.status.idle": "2022-03-14T14:10:05.993624Z",
     "shell.execute_reply": "2022-03-14T14:10:05.994074Z",
     "shell.execute_reply.started": "2022-03-14T14:02:06.337814Z"
    },
    "papermill": {
     "duration": 0.039779,
     "end_time": "2022-03-14T14:10:05.994206",
     "exception": false,
     "start_time": "2022-03-14T14:10:05.954427",
     "status": "completed"
    },
    "tags": []
   },
   "outputs": [
    {
     "data": {
      "application/javascript": [
       "parent.postMessage({\"jupyterEvent\": \"custom.exercise_interaction\", \"data\": {\"outcomeType\": 1, \"valueTowardsCompletion\": 0.1111111111111111, \"interactionType\": 1, \"questionType\": 1, \"questionId\": \"1_SelectDescCol\", \"learnToolsVersion\": \"0.3.4\", \"failureMessage\": \"\", \"exceptionClass\": \"\", \"trace\": \"\"}}, \"*\")"
      ],
      "text/plain": [
       "<IPython.core.display.Javascript object>"
      ]
     },
     "metadata": {},
     "output_type": "display_data"
    },
    {
     "data": {
      "text/markdown": [
       "<span style=\"color:#33cc33\">Correct</span>"
      ],
      "text/plain": [
       "Correct"
      ]
     },
     "metadata": {},
     "output_type": "display_data"
    }
   ],
   "source": [
    "# Your code here\n",
    "desc = reviews['description']\n",
    "\n",
    "# Check your answer\n",
    "q1.check()"
   ]
  },
  {
   "cell_type": "markdown",
   "id": "e3f9d8ff",
   "metadata": {
    "papermill": {
     "duration": 0.030252,
     "end_time": "2022-03-14T14:10:06.054910",
     "exception": false,
     "start_time": "2022-03-14T14:10:06.024658",
     "status": "completed"
    },
    "tags": []
   },
   "source": [
    "Follow-up question: what type of object is `desc`? If you're not sure, you can check by calling Python's `type` function: `type(desc)`."
   ]
  },
  {
   "cell_type": "code",
   "execution_count": 4,
   "id": "9c3f1367",
   "metadata": {
    "execution": {
     "iopub.execute_input": "2022-03-14T14:10:06.119006Z",
     "iopub.status.busy": "2022-03-14T14:10:06.118445Z",
     "iopub.status.idle": "2022-03-14T14:10:06.122359Z",
     "shell.execute_reply": "2022-03-14T14:10:06.122820Z",
     "shell.execute_reply.started": "2022-03-14T14:02:06.362112Z"
    },
    "papermill": {
     "duration": 0.037151,
     "end_time": "2022-03-14T14:10:06.122986",
     "exception": false,
     "start_time": "2022-03-14T14:10:06.085835",
     "status": "completed"
    },
    "tags": []
   },
   "outputs": [
    {
     "data": {
      "text/plain": [
       "pandas.core.series.Series"
      ]
     },
     "execution_count": 4,
     "metadata": {},
     "output_type": "execute_result"
    }
   ],
   "source": [
    "type(desc)\n",
    "#q1.hint()\n",
    "#q1.solution()"
   ]
  },
  {
   "cell_type": "markdown",
   "id": "702befa4",
   "metadata": {
    "papermill": {
     "duration": 0.031601,
     "end_time": "2022-03-14T14:10:06.185723",
     "exception": false,
     "start_time": "2022-03-14T14:10:06.154122",
     "status": "completed"
    },
    "tags": []
   },
   "source": [
    "## 2.\n",
    "\n",
    "Select the first value from the description column of `reviews`, assigning it to variable `first_description`."
   ]
  },
  {
   "cell_type": "code",
   "execution_count": 5,
   "id": "f1e15595",
   "metadata": {
    "execution": {
     "iopub.execute_input": "2022-03-14T14:10:06.251870Z",
     "iopub.status.busy": "2022-03-14T14:10:06.251270Z",
     "iopub.status.idle": "2022-03-14T14:10:06.258356Z",
     "shell.execute_reply": "2022-03-14T14:10:06.258865Z",
     "shell.execute_reply.started": "2022-03-14T14:02:06.389324Z"
    },
    "papermill": {
     "duration": 0.042111,
     "end_time": "2022-03-14T14:10:06.259031",
     "exception": false,
     "start_time": "2022-03-14T14:10:06.216920",
     "status": "completed"
    },
    "tags": []
   },
   "outputs": [
    {
     "data": {
      "application/javascript": [
       "parent.postMessage({\"jupyterEvent\": \"custom.exercise_interaction\", \"data\": {\"outcomeType\": 1, \"valueTowardsCompletion\": 0.1111111111111111, \"interactionType\": 1, \"questionType\": 1, \"questionId\": \"2_FirstDesc\", \"learnToolsVersion\": \"0.3.4\", \"failureMessage\": \"\", \"exceptionClass\": \"\", \"trace\": \"\"}}, \"*\")"
      ],
      "text/plain": [
       "<IPython.core.display.Javascript object>"
      ]
     },
     "metadata": {},
     "output_type": "display_data"
    },
    {
     "data": {
      "text/markdown": [
       "<span style=\"color:#33cc33\">Correct:</span> \n",
       "\n",
       "\n",
       "```python\n",
       "first_description = reviews.description.iloc[0]\n",
       "```\n",
       "Note that while this is the preferred way to obtain the entry in the DataFrame, many other options will return a valid result, such as `reviews.description.loc[0]`, `reviews.description[0]`, and more!  \n"
      ],
      "text/plain": [
       "Correct: \n",
       "\n",
       "\n",
       "```python\n",
       "first_description = reviews.description.iloc[0]\n",
       "```\n",
       "Note that while this is the preferred way to obtain the entry in the DataFrame, many other options will return a valid result, such as `reviews.description.loc[0]`, `reviews.description[0]`, and more!  "
      ]
     },
     "metadata": {},
     "output_type": "display_data"
    },
    {
     "data": {
      "text/plain": [
       "\"Aromas include tropical fruit, broom, brimstone and dried herb. The palate isn't overly expressive, offering unripened apple, citrus and dried sage alongside brisk acidity.\""
      ]
     },
     "execution_count": 5,
     "metadata": {},
     "output_type": "execute_result"
    }
   ],
   "source": [
    "first_description = reviews['description'].iloc[0]\n",
    "\n",
    "# Check your answer\n",
    "q2.check()\n",
    "first_description"
   ]
  },
  {
   "cell_type": "code",
   "execution_count": 6,
   "id": "36ddc771",
   "metadata": {
    "execution": {
     "iopub.execute_input": "2022-03-14T14:10:06.330553Z",
     "iopub.status.busy": "2022-03-14T14:10:06.329890Z",
     "iopub.status.idle": "2022-03-14T14:10:06.332642Z",
     "shell.execute_reply": "2022-03-14T14:10:06.332121Z",
     "shell.execute_reply.started": "2022-03-14T14:02:06.424927Z"
    },
    "papermill": {
     "duration": 0.039981,
     "end_time": "2022-03-14T14:10:06.332774",
     "exception": false,
     "start_time": "2022-03-14T14:10:06.292793",
     "status": "completed"
    },
    "tags": []
   },
   "outputs": [],
   "source": [
    "#q2.hint()\n",
    "#q2.solution()"
   ]
  },
  {
   "cell_type": "markdown",
   "id": "871ee4df",
   "metadata": {
    "papermill": {
     "duration": 0.03344,
     "end_time": "2022-03-14T14:10:06.399931",
     "exception": false,
     "start_time": "2022-03-14T14:10:06.366491",
     "status": "completed"
    },
    "tags": []
   },
   "source": [
    "## 3. \n",
    "\n",
    "Select the first row of data (the first record) from `reviews`, assigning it to the variable `first_row`."
   ]
  },
  {
   "cell_type": "code",
   "execution_count": 7,
   "id": "0f441ac8",
   "metadata": {
    "execution": {
     "iopub.execute_input": "2022-03-14T14:10:06.473512Z",
     "iopub.status.busy": "2022-03-14T14:10:06.472672Z",
     "iopub.status.idle": "2022-03-14T14:10:06.481128Z",
     "shell.execute_reply": "2022-03-14T14:10:06.481581Z",
     "shell.execute_reply.started": "2022-03-14T14:02:06.449000Z"
    },
    "papermill": {
     "duration": 0.048199,
     "end_time": "2022-03-14T14:10:06.481733",
     "exception": false,
     "start_time": "2022-03-14T14:10:06.433534",
     "status": "completed"
    },
    "tags": []
   },
   "outputs": [
    {
     "data": {
      "application/javascript": [
       "parent.postMessage({\"jupyterEvent\": \"custom.exercise_interaction\", \"data\": {\"outcomeType\": 1, \"valueTowardsCompletion\": 0.1111111111111111, \"interactionType\": 1, \"questionType\": 1, \"questionId\": \"3_FirstRow\", \"learnToolsVersion\": \"0.3.4\", \"failureMessage\": \"\", \"exceptionClass\": \"\", \"trace\": \"\"}}, \"*\")"
      ],
      "text/plain": [
       "<IPython.core.display.Javascript object>"
      ]
     },
     "metadata": {},
     "output_type": "display_data"
    },
    {
     "data": {
      "text/markdown": [
       "<span style=\"color:#33cc33\">Correct</span>"
      ],
      "text/plain": [
       "Correct"
      ]
     },
     "metadata": {},
     "output_type": "display_data"
    },
    {
     "data": {
      "text/plain": [
       "country                                                    Italy\n",
       "description    Aromas include tropical fruit, broom, brimston...\n",
       "                                     ...                        \n",
       "variety                                              White Blend\n",
       "winery                                                   Nicosia\n",
       "Name: 0, Length: 13, dtype: object"
      ]
     },
     "execution_count": 7,
     "metadata": {},
     "output_type": "execute_result"
    }
   ],
   "source": [
    "first_row = reviews.iloc[0]\n",
    "\n",
    "# Check your answer\n",
    "q3.check()\n",
    "first_row"
   ]
  },
  {
   "cell_type": "code",
   "execution_count": 8,
   "id": "5511860d",
   "metadata": {
    "execution": {
     "iopub.execute_input": "2022-03-14T14:10:06.553233Z",
     "iopub.status.busy": "2022-03-14T14:10:06.552136Z",
     "iopub.status.idle": "2022-03-14T14:10:06.555105Z",
     "shell.execute_reply": "2022-03-14T14:10:06.555536Z",
     "shell.execute_reply.started": "2022-03-14T14:02:06.494054Z"
    },
    "papermill": {
     "duration": 0.03939,
     "end_time": "2022-03-14T14:10:06.555678",
     "exception": false,
     "start_time": "2022-03-14T14:10:06.516288",
     "status": "completed"
    },
    "tags": []
   },
   "outputs": [],
   "source": [
    "#q3.hint()\n",
    "#q3.solution()"
   ]
  },
  {
   "cell_type": "markdown",
   "id": "b3aab04e",
   "metadata": {
    "papermill": {
     "duration": 0.032942,
     "end_time": "2022-03-14T14:10:06.621337",
     "exception": false,
     "start_time": "2022-03-14T14:10:06.588395",
     "status": "completed"
    },
    "tags": []
   },
   "source": [
    "## 4.\n",
    "\n",
    "Select the first 10 values from the `description` column in `reviews`, assigning the result to variable `first_descriptions`.\n",
    "\n",
    "Hint: format your output as a pandas Series."
   ]
  },
  {
   "cell_type": "code",
   "execution_count": 9,
   "id": "0d6b41d6",
   "metadata": {
    "execution": {
     "iopub.execute_input": "2022-03-14T14:10:06.691609Z",
     "iopub.status.busy": "2022-03-14T14:10:06.690768Z",
     "iopub.status.idle": "2022-03-14T14:10:06.699489Z",
     "shell.execute_reply": "2022-03-14T14:10:06.699059Z",
     "shell.execute_reply.started": "2022-03-14T14:02:06.505871Z"
    },
    "papermill": {
     "duration": 0.045587,
     "end_time": "2022-03-14T14:10:06.699596",
     "exception": false,
     "start_time": "2022-03-14T14:10:06.654009",
     "status": "completed"
    },
    "tags": []
   },
   "outputs": [
    {
     "data": {
      "application/javascript": [
       "parent.postMessage({\"jupyterEvent\": \"custom.exercise_interaction\", \"data\": {\"outcomeType\": 1, \"valueTowardsCompletion\": 0.1111111111111111, \"interactionType\": 1, \"questionType\": 1, \"questionId\": \"4_FirstDescs\", \"learnToolsVersion\": \"0.3.4\", \"failureMessage\": \"\", \"exceptionClass\": \"\", \"trace\": \"\"}}, \"*\")"
      ],
      "text/plain": [
       "<IPython.core.display.Javascript object>"
      ]
     },
     "metadata": {},
     "output_type": "display_data"
    },
    {
     "data": {
      "text/markdown": [
       "<span style=\"color:#33cc33\">Correct:</span> \n",
       "\n",
       "\n",
       "```python\n",
       "first_descriptions = reviews.description.iloc[:10]\n",
       "```\n",
       "Note that many other options will return a valid result, such as `desc.head(10)` and `reviews.loc[:9, \"description\"]`.    \n"
      ],
      "text/plain": [
       "Correct: \n",
       "\n",
       "\n",
       "```python\n",
       "first_descriptions = reviews.description.iloc[:10]\n",
       "```\n",
       "Note that many other options will return a valid result, such as `desc.head(10)` and `reviews.loc[:9, \"description\"]`.    "
      ]
     },
     "metadata": {},
     "output_type": "display_data"
    },
    {
     "data": {
      "text/plain": [
       "0    Aromas include tropical fruit, broom, brimston...\n",
       "1    This is ripe and fruity, a wine that is smooth...\n",
       "                           ...                        \n",
       "8    Savory dried thyme notes accent sunnier flavor...\n",
       "9    This has great depth of flavor with its fresh ...\n",
       "Name: description, Length: 10, dtype: object"
      ]
     },
     "execution_count": 9,
     "metadata": {},
     "output_type": "execute_result"
    }
   ],
   "source": [
    "first_descriptions = reviews['description'].iloc[0:10]\n",
    "\n",
    "# Check your answer\n",
    "q4.check()\n",
    "first_descriptions"
   ]
  },
  {
   "cell_type": "code",
   "execution_count": 10,
   "id": "098ff838",
   "metadata": {
    "execution": {
     "iopub.execute_input": "2022-03-14T14:10:06.768387Z",
     "iopub.status.busy": "2022-03-14T14:10:06.767844Z",
     "iopub.status.idle": "2022-03-14T14:10:06.770049Z",
     "shell.execute_reply": "2022-03-14T14:10:06.769538Z",
     "shell.execute_reply.started": "2022-03-14T14:02:06.548316Z"
    },
    "papermill": {
     "duration": 0.037694,
     "end_time": "2022-03-14T14:10:06.770163",
     "exception": false,
     "start_time": "2022-03-14T14:10:06.732469",
     "status": "completed"
    },
    "tags": []
   },
   "outputs": [],
   "source": [
    "#q4.hint()\n",
    "#q4.solution()"
   ]
  },
  {
   "cell_type": "markdown",
   "id": "f6e87ace",
   "metadata": {
    "papermill": {
     "duration": 0.032992,
     "end_time": "2022-03-14T14:10:06.838482",
     "exception": false,
     "start_time": "2022-03-14T14:10:06.805490",
     "status": "completed"
    },
    "tags": []
   },
   "source": [
    "## 5.\n",
    "\n",
    "Select the records with index labels `1`, `2`, `3`, `5`, and `8`, assigning the result to the variable `sample_reviews`.\n",
    "\n",
    "In other words, generate the following DataFrame:\n",
    "\n",
    "![](https://i.imgur.com/sHZvI1O.png)"
   ]
  },
  {
   "cell_type": "code",
   "execution_count": 11,
   "id": "8a254d17",
   "metadata": {
    "execution": {
     "iopub.execute_input": "2022-03-14T14:10:06.909860Z",
     "iopub.status.busy": "2022-03-14T14:10:06.909334Z",
     "iopub.status.idle": "2022-03-14T14:10:06.927353Z",
     "shell.execute_reply": "2022-03-14T14:10:06.927845Z",
     "shell.execute_reply.started": "2022-03-14T14:02:06.565233Z"
    },
    "papermill": {
     "duration": 0.055872,
     "end_time": "2022-03-14T14:10:06.927997",
     "exception": false,
     "start_time": "2022-03-14T14:10:06.872125",
     "status": "completed"
    },
    "tags": []
   },
   "outputs": [
    {
     "data": {
      "application/javascript": [
       "parent.postMessage({\"jupyterEvent\": \"custom.exercise_interaction\", \"data\": {\"outcomeType\": 1, \"valueTowardsCompletion\": 0.1111111111111111, \"interactionType\": 1, \"questionType\": 1, \"questionId\": \"5_SampleReviews\", \"learnToolsVersion\": \"0.3.4\", \"failureMessage\": \"\", \"exceptionClass\": \"\", \"trace\": \"\"}}, \"*\")"
      ],
      "text/plain": [
       "<IPython.core.display.Javascript object>"
      ]
     },
     "metadata": {},
     "output_type": "display_data"
    },
    {
     "data": {
      "text/markdown": [
       "<span style=\"color:#33cc33\">Correct</span>"
      ],
      "text/plain": [
       "Correct"
      ]
     },
     "metadata": {},
     "output_type": "display_data"
    },
    {
     "data": {
      "text/html": [
       "<div>\n",
       "<style scoped>\n",
       "    .dataframe tbody tr th:only-of-type {\n",
       "        vertical-align: middle;\n",
       "    }\n",
       "\n",
       "    .dataframe tbody tr th {\n",
       "        vertical-align: top;\n",
       "    }\n",
       "\n",
       "    .dataframe thead th {\n",
       "        text-align: right;\n",
       "    }\n",
       "</style>\n",
       "<table border=\"1\" class=\"dataframe\">\n",
       "  <thead>\n",
       "    <tr style=\"text-align: right;\">\n",
       "      <th></th>\n",
       "      <th>country</th>\n",
       "      <th>description</th>\n",
       "      <th>designation</th>\n",
       "      <th>points</th>\n",
       "      <th>price</th>\n",
       "      <th>province</th>\n",
       "      <th>region_1</th>\n",
       "      <th>region_2</th>\n",
       "      <th>taster_name</th>\n",
       "      <th>taster_twitter_handle</th>\n",
       "      <th>title</th>\n",
       "      <th>variety</th>\n",
       "      <th>winery</th>\n",
       "    </tr>\n",
       "  </thead>\n",
       "  <tbody>\n",
       "    <tr>\n",
       "      <th>1</th>\n",
       "      <td>Portugal</td>\n",
       "      <td>This is ripe and fruity, a wine that is smooth...</td>\n",
       "      <td>Avidagos</td>\n",
       "      <td>87</td>\n",
       "      <td>15.0</td>\n",
       "      <td>Douro</td>\n",
       "      <td>NaN</td>\n",
       "      <td>NaN</td>\n",
       "      <td>Roger Voss</td>\n",
       "      <td>@vossroger</td>\n",
       "      <td>Quinta dos Avidagos 2011 Avidagos Red (Douro)</td>\n",
       "      <td>Portuguese Red</td>\n",
       "      <td>Quinta dos Avidagos</td>\n",
       "    </tr>\n",
       "    <tr>\n",
       "      <th>2</th>\n",
       "      <td>US</td>\n",
       "      <td>Tart and snappy, the flavors of lime flesh and...</td>\n",
       "      <td>NaN</td>\n",
       "      <td>87</td>\n",
       "      <td>14.0</td>\n",
       "      <td>Oregon</td>\n",
       "      <td>Willamette Valley</td>\n",
       "      <td>Willamette Valley</td>\n",
       "      <td>Paul Gregutt</td>\n",
       "      <td>@paulgwine</td>\n",
       "      <td>Rainstorm 2013 Pinot Gris (Willamette Valley)</td>\n",
       "      <td>Pinot Gris</td>\n",
       "      <td>Rainstorm</td>\n",
       "    </tr>\n",
       "    <tr>\n",
       "      <th>3</th>\n",
       "      <td>US</td>\n",
       "      <td>Pineapple rind, lemon pith and orange blossom ...</td>\n",
       "      <td>Reserve Late Harvest</td>\n",
       "      <td>87</td>\n",
       "      <td>13.0</td>\n",
       "      <td>Michigan</td>\n",
       "      <td>Lake Michigan Shore</td>\n",
       "      <td>NaN</td>\n",
       "      <td>Alexander Peartree</td>\n",
       "      <td>NaN</td>\n",
       "      <td>St. Julian 2013 Reserve Late Harvest Riesling ...</td>\n",
       "      <td>Riesling</td>\n",
       "      <td>St. Julian</td>\n",
       "    </tr>\n",
       "    <tr>\n",
       "      <th>5</th>\n",
       "      <td>Spain</td>\n",
       "      <td>Blackberry and raspberry aromas show a typical...</td>\n",
       "      <td>Ars In Vitro</td>\n",
       "      <td>87</td>\n",
       "      <td>15.0</td>\n",
       "      <td>Northern Spain</td>\n",
       "      <td>Navarra</td>\n",
       "      <td>NaN</td>\n",
       "      <td>Michael Schachner</td>\n",
       "      <td>@wineschach</td>\n",
       "      <td>Tandem 2011 Ars In Vitro Tempranillo-Merlot (N...</td>\n",
       "      <td>Tempranillo-Merlot</td>\n",
       "      <td>Tandem</td>\n",
       "    </tr>\n",
       "    <tr>\n",
       "      <th>8</th>\n",
       "      <td>Germany</td>\n",
       "      <td>Savory dried thyme notes accent sunnier flavor...</td>\n",
       "      <td>Shine</td>\n",
       "      <td>87</td>\n",
       "      <td>12.0</td>\n",
       "      <td>Rheinhessen</td>\n",
       "      <td>NaN</td>\n",
       "      <td>NaN</td>\n",
       "      <td>Anna Lee C. Iijima</td>\n",
       "      <td>NaN</td>\n",
       "      <td>Heinz Eifel 2013 Shine Gewürztraminer (Rheinhe...</td>\n",
       "      <td>Gewürztraminer</td>\n",
       "      <td>Heinz Eifel</td>\n",
       "    </tr>\n",
       "  </tbody>\n",
       "</table>\n",
       "</div>"
      ],
      "text/plain": [
       "    country                                        description  \\\n",
       "1  Portugal  This is ripe and fruity, a wine that is smooth...   \n",
       "2        US  Tart and snappy, the flavors of lime flesh and...   \n",
       "3        US  Pineapple rind, lemon pith and orange blossom ...   \n",
       "5     Spain  Blackberry and raspberry aromas show a typical...   \n",
       "8   Germany  Savory dried thyme notes accent sunnier flavor...   \n",
       "\n",
       "            designation  points  price        province             region_1  \\\n",
       "1              Avidagos      87   15.0           Douro                  NaN   \n",
       "2                   NaN      87   14.0          Oregon    Willamette Valley   \n",
       "3  Reserve Late Harvest      87   13.0        Michigan  Lake Michigan Shore   \n",
       "5          Ars In Vitro      87   15.0  Northern Spain              Navarra   \n",
       "8                 Shine      87   12.0     Rheinhessen                  NaN   \n",
       "\n",
       "            region_2         taster_name taster_twitter_handle  \\\n",
       "1                NaN          Roger Voss            @vossroger   \n",
       "2  Willamette Valley        Paul Gregutt           @paulgwine    \n",
       "3                NaN  Alexander Peartree                   NaN   \n",
       "5                NaN   Michael Schachner           @wineschach   \n",
       "8                NaN  Anna Lee C. Iijima                   NaN   \n",
       "\n",
       "                                               title             variety  \\\n",
       "1      Quinta dos Avidagos 2011 Avidagos Red (Douro)      Portuguese Red   \n",
       "2      Rainstorm 2013 Pinot Gris (Willamette Valley)          Pinot Gris   \n",
       "3  St. Julian 2013 Reserve Late Harvest Riesling ...            Riesling   \n",
       "5  Tandem 2011 Ars In Vitro Tempranillo-Merlot (N...  Tempranillo-Merlot   \n",
       "8  Heinz Eifel 2013 Shine Gewürztraminer (Rheinhe...      Gewürztraminer   \n",
       "\n",
       "                winery  \n",
       "1  Quinta dos Avidagos  \n",
       "2            Rainstorm  \n",
       "3           St. Julian  \n",
       "5               Tandem  \n",
       "8          Heinz Eifel  "
      ]
     },
     "execution_count": 11,
     "metadata": {},
     "output_type": "execute_result"
    }
   ],
   "source": [
    "sample_reviews = reviews.iloc[[1,2,3,5,8]]\n",
    "\n",
    "# Check your answer\n",
    "q5.check()\n",
    "sample_reviews"
   ]
  },
  {
   "cell_type": "code",
   "execution_count": 12,
   "id": "1450919b",
   "metadata": {
    "execution": {
     "iopub.execute_input": "2022-03-14T14:10:07.001882Z",
     "iopub.status.busy": "2022-03-14T14:10:07.001374Z",
     "iopub.status.idle": "2022-03-14T14:10:07.003763Z",
     "shell.execute_reply": "2022-03-14T14:10:07.004288Z",
     "shell.execute_reply.started": "2022-03-14T14:02:06.624890Z"
    },
    "papermill": {
     "duration": 0.039998,
     "end_time": "2022-03-14T14:10:07.004422",
     "exception": false,
     "start_time": "2022-03-14T14:10:06.964424",
     "status": "completed"
    },
    "tags": []
   },
   "outputs": [],
   "source": [
    "#q5.hint()\n",
    "#q5.solution()"
   ]
  },
  {
   "cell_type": "markdown",
   "id": "3fe66694",
   "metadata": {
    "papermill": {
     "duration": 0.039882,
     "end_time": "2022-03-14T14:10:07.081309",
     "exception": false,
     "start_time": "2022-03-14T14:10:07.041427",
     "status": "completed"
    },
    "tags": []
   },
   "source": [
    "## 6.\n",
    "\n",
    "Create a variable `df` containing the `country`, `province`, `region_1`, and `region_2` columns of the records with the index labels `0`, `1`, `10`, and `100`. In other words, generate the following DataFrame:\n",
    "\n",
    "![](https://i.imgur.com/FUCGiKP.png)"
   ]
  },
  {
   "cell_type": "code",
   "execution_count": 13,
   "id": "79ff4ac4",
   "metadata": {
    "execution": {
     "iopub.execute_input": "2022-03-14T14:10:07.164213Z",
     "iopub.status.busy": "2022-03-14T14:10:07.163593Z",
     "iopub.status.idle": "2022-03-14T14:10:07.182491Z",
     "shell.execute_reply": "2022-03-14T14:10:07.183023Z",
     "shell.execute_reply.started": "2022-03-14T14:02:06.634970Z"
    },
    "papermill": {
     "duration": 0.061618,
     "end_time": "2022-03-14T14:10:07.183172",
     "exception": false,
     "start_time": "2022-03-14T14:10:07.121554",
     "status": "completed"
    },
    "tags": []
   },
   "outputs": [
    {
     "data": {
      "application/javascript": [
       "parent.postMessage({\"jupyterEvent\": \"custom.exercise_interaction\", \"data\": {\"outcomeType\": 1, \"valueTowardsCompletion\": 0.1111111111111111, \"interactionType\": 1, \"questionType\": 1, \"questionId\": \"6_RowColSelect\", \"learnToolsVersion\": \"0.3.4\", \"failureMessage\": \"\", \"exceptionClass\": \"\", \"trace\": \"\"}}, \"*\")"
      ],
      "text/plain": [
       "<IPython.core.display.Javascript object>"
      ]
     },
     "metadata": {},
     "output_type": "display_data"
    },
    {
     "data": {
      "text/markdown": [
       "<span style=\"color:#33cc33\">Correct</span>"
      ],
      "text/plain": [
       "Correct"
      ]
     },
     "metadata": {},
     "output_type": "display_data"
    },
    {
     "data": {
      "text/html": [
       "<div>\n",
       "<style scoped>\n",
       "    .dataframe tbody tr th:only-of-type {\n",
       "        vertical-align: middle;\n",
       "    }\n",
       "\n",
       "    .dataframe tbody tr th {\n",
       "        vertical-align: top;\n",
       "    }\n",
       "\n",
       "    .dataframe thead th {\n",
       "        text-align: right;\n",
       "    }\n",
       "</style>\n",
       "<table border=\"1\" class=\"dataframe\">\n",
       "  <thead>\n",
       "    <tr style=\"text-align: right;\">\n",
       "      <th></th>\n",
       "      <th>country</th>\n",
       "      <th>province</th>\n",
       "      <th>region_1</th>\n",
       "      <th>region_2</th>\n",
       "    </tr>\n",
       "  </thead>\n",
       "  <tbody>\n",
       "    <tr>\n",
       "      <th>0</th>\n",
       "      <td>Italy</td>\n",
       "      <td>Sicily &amp; Sardinia</td>\n",
       "      <td>Etna</td>\n",
       "      <td>NaN</td>\n",
       "    </tr>\n",
       "    <tr>\n",
       "      <th>1</th>\n",
       "      <td>Portugal</td>\n",
       "      <td>Douro</td>\n",
       "      <td>NaN</td>\n",
       "      <td>NaN</td>\n",
       "    </tr>\n",
       "    <tr>\n",
       "      <th>10</th>\n",
       "      <td>US</td>\n",
       "      <td>California</td>\n",
       "      <td>Napa Valley</td>\n",
       "      <td>Napa</td>\n",
       "    </tr>\n",
       "    <tr>\n",
       "      <th>100</th>\n",
       "      <td>US</td>\n",
       "      <td>New York</td>\n",
       "      <td>Finger Lakes</td>\n",
       "      <td>Finger Lakes</td>\n",
       "    </tr>\n",
       "  </tbody>\n",
       "</table>\n",
       "</div>"
      ],
      "text/plain": [
       "      country           province      region_1      region_2\n",
       "0       Italy  Sicily & Sardinia          Etna           NaN\n",
       "1    Portugal              Douro           NaN           NaN\n",
       "10         US         California   Napa Valley          Napa\n",
       "100        US           New York  Finger Lakes  Finger Lakes"
      ]
     },
     "execution_count": 13,
     "metadata": {},
     "output_type": "execute_result"
    }
   ],
   "source": [
    "df = reviews.loc[[0,1,10,100]][['country','province','region_1','region_2']]\n",
    "\n",
    "# Check your answer\n",
    "q6.check()\n",
    "df"
   ]
  },
  {
   "cell_type": "code",
   "execution_count": 14,
   "id": "967f3ebc",
   "metadata": {
    "execution": {
     "iopub.execute_input": "2022-03-14T14:10:07.266399Z",
     "iopub.status.busy": "2022-03-14T14:10:07.265826Z",
     "iopub.status.idle": "2022-03-14T14:10:07.268257Z",
     "shell.execute_reply": "2022-03-14T14:10:07.268763Z",
     "shell.execute_reply.started": "2022-03-14T14:02:06.692160Z"
    },
    "papermill": {
     "duration": 0.044809,
     "end_time": "2022-03-14T14:10:07.268919",
     "exception": false,
     "start_time": "2022-03-14T14:10:07.224110",
     "status": "completed"
    },
    "tags": []
   },
   "outputs": [],
   "source": [
    "#q6.hint()\n",
    "#q6.solution()"
   ]
  },
  {
   "cell_type": "markdown",
   "id": "7262c445",
   "metadata": {
    "papermill": {
     "duration": 0.038363,
     "end_time": "2022-03-14T14:10:07.343896",
     "exception": false,
     "start_time": "2022-03-14T14:10:07.305533",
     "status": "completed"
    },
    "tags": []
   },
   "source": [
    "## 7.\n",
    "\n",
    "Create a variable `df` containing the `country` and `variety` columns of the first 100 records. \n",
    "\n",
    "Hint: you may use `loc` or `iloc`. When working on the answer this question and the several of the ones that follow, keep the following \"gotcha\" described in the tutorial:\n",
    "\n",
    "> `iloc` uses the Python stdlib indexing scheme, where the first element of the range is included and the last one excluded. \n",
    "`loc`, meanwhile, indexes inclusively. \n",
    "\n",
    "> This is particularly confusing when the DataFrame index is a simple numerical list, e.g. `0,...,1000`. In this case `df.iloc[0:1000]` will return 1000 entries, while `df.loc[0:1000]` return 1001 of them! To get 1000 elements using `loc`, you will need to go one lower and ask for `df.iloc[0:999]`. "
   ]
  },
  {
   "cell_type": "code",
   "execution_count": 15,
   "id": "a6675421",
   "metadata": {
    "execution": {
     "iopub.execute_input": "2022-03-14T14:10:07.422867Z",
     "iopub.status.busy": "2022-03-14T14:10:07.422333Z",
     "iopub.status.idle": "2022-03-14T14:10:07.434643Z",
     "shell.execute_reply": "2022-03-14T14:10:07.435190Z",
     "shell.execute_reply.started": "2022-03-14T14:02:06.699303Z"
    },
    "papermill": {
     "duration": 0.053169,
     "end_time": "2022-03-14T14:10:07.435347",
     "exception": false,
     "start_time": "2022-03-14T14:10:07.382178",
     "status": "completed"
    },
    "tags": []
   },
   "outputs": [
    {
     "data": {
      "application/javascript": [
       "parent.postMessage({\"jupyterEvent\": \"custom.exercise_interaction\", \"data\": {\"outcomeType\": 1, \"valueTowardsCompletion\": 0.1111111111111111, \"interactionType\": 1, \"questionType\": 1, \"questionId\": \"7_RowColSelect2\", \"learnToolsVersion\": \"0.3.4\", \"failureMessage\": \"\", \"exceptionClass\": \"\", \"trace\": \"\"}}, \"*\")"
      ],
      "text/plain": [
       "<IPython.core.display.Javascript object>"
      ]
     },
     "metadata": {},
     "output_type": "display_data"
    },
    {
     "data": {
      "text/markdown": [
       "<span style=\"color:#33cc33\">Correct:</span> \n",
       "\n",
       "\n",
       "```python\n",
       "cols = ['country', 'variety']\n",
       "df = reviews.loc[:99, cols]\n",
       "```\n",
       "or \n",
       "```python\n",
       "cols_idx = [0, 11]\n",
       "df = reviews.iloc[:100, cols_idx]\n",
       "```\n"
      ],
      "text/plain": [
       "Correct: \n",
       "\n",
       "\n",
       "```python\n",
       "cols = ['country', 'variety']\n",
       "df = reviews.loc[:99, cols]\n",
       "```\n",
       "or \n",
       "```python\n",
       "cols_idx = [0, 11]\n",
       "df = reviews.iloc[:100, cols_idx]\n",
       "```"
      ]
     },
     "metadata": {},
     "output_type": "display_data"
    },
    {
     "data": {
      "text/html": [
       "<div>\n",
       "<style scoped>\n",
       "    .dataframe tbody tr th:only-of-type {\n",
       "        vertical-align: middle;\n",
       "    }\n",
       "\n",
       "    .dataframe tbody tr th {\n",
       "        vertical-align: top;\n",
       "    }\n",
       "\n",
       "    .dataframe thead th {\n",
       "        text-align: right;\n",
       "    }\n",
       "</style>\n",
       "<table border=\"1\" class=\"dataframe\">\n",
       "  <thead>\n",
       "    <tr style=\"text-align: right;\">\n",
       "      <th></th>\n",
       "      <th>country</th>\n",
       "      <th>variety</th>\n",
       "    </tr>\n",
       "  </thead>\n",
       "  <tbody>\n",
       "    <tr>\n",
       "      <th>0</th>\n",
       "      <td>Italy</td>\n",
       "      <td>White Blend</td>\n",
       "    </tr>\n",
       "    <tr>\n",
       "      <th>1</th>\n",
       "      <td>Portugal</td>\n",
       "      <td>Portuguese Red</td>\n",
       "    </tr>\n",
       "    <tr>\n",
       "      <th>...</th>\n",
       "      <td>...</td>\n",
       "      <td>...</td>\n",
       "    </tr>\n",
       "    <tr>\n",
       "      <th>98</th>\n",
       "      <td>Italy</td>\n",
       "      <td>Sangiovese</td>\n",
       "    </tr>\n",
       "    <tr>\n",
       "      <th>99</th>\n",
       "      <td>US</td>\n",
       "      <td>Bordeaux-style Red Blend</td>\n",
       "    </tr>\n",
       "  </tbody>\n",
       "</table>\n",
       "<p>100 rows × 2 columns</p>\n",
       "</div>"
      ],
      "text/plain": [
       "     country                   variety\n",
       "0      Italy               White Blend\n",
       "1   Portugal            Portuguese Red\n",
       "..       ...                       ...\n",
       "98     Italy                Sangiovese\n",
       "99        US  Bordeaux-style Red Blend\n",
       "\n",
       "[100 rows x 2 columns]"
      ]
     },
     "execution_count": 15,
     "metadata": {},
     "output_type": "execute_result"
    }
   ],
   "source": [
    "df = reviews.loc[0:99][['country','variety']]\n",
    "\n",
    "# Check your answer\n",
    "q7.check()\n",
    "df"
   ]
  },
  {
   "cell_type": "code",
   "execution_count": 16,
   "id": "decacff1",
   "metadata": {
    "execution": {
     "iopub.execute_input": "2022-03-14T14:10:07.518102Z",
     "iopub.status.busy": "2022-03-14T14:10:07.517571Z",
     "iopub.status.idle": "2022-03-14T14:10:07.520913Z",
     "shell.execute_reply": "2022-03-14T14:10:07.520427Z",
     "shell.execute_reply.started": "2022-03-14T14:02:06.746814Z"
    },
    "papermill": {
     "duration": 0.046139,
     "end_time": "2022-03-14T14:10:07.521058",
     "exception": false,
     "start_time": "2022-03-14T14:10:07.474919",
     "status": "completed"
    },
    "tags": []
   },
   "outputs": [],
   "source": [
    "#q7.hint()\n",
    "#q7.solution()"
   ]
  },
  {
   "cell_type": "markdown",
   "id": "7afd08be",
   "metadata": {
    "papermill": {
     "duration": 0.037859,
     "end_time": "2022-03-14T14:10:07.596008",
     "exception": false,
     "start_time": "2022-03-14T14:10:07.558149",
     "status": "completed"
    },
    "tags": []
   },
   "source": [
    "## 8.\n",
    "\n",
    "Create a DataFrame `italian_wines` containing reviews of wines made in `Italy`. Hint: `reviews.country` equals what?"
   ]
  },
  {
   "cell_type": "code",
   "execution_count": 17,
   "id": "37b8b7d6",
   "metadata": {
    "execution": {
     "iopub.execute_input": "2022-03-14T14:10:07.692913Z",
     "iopub.status.busy": "2022-03-14T14:10:07.692402Z",
     "iopub.status.idle": "2022-03-14T14:10:07.703739Z",
     "shell.execute_reply": "2022-03-14T14:10:07.703152Z",
     "shell.execute_reply.started": "2022-03-14T14:02:06.756239Z"
    },
    "papermill": {
     "duration": 0.068471,
     "end_time": "2022-03-14T14:10:07.703865",
     "exception": false,
     "start_time": "2022-03-14T14:10:07.635394",
     "status": "completed"
    },
    "tags": []
   },
   "outputs": [
    {
     "data": {
      "application/javascript": [
       "parent.postMessage({\"jupyterEvent\": \"custom.exercise_interaction\", \"data\": {\"outcomeType\": 1, \"valueTowardsCompletion\": 0.1111111111111111, \"interactionType\": 1, \"questionType\": 1, \"questionId\": \"8_ItalianWines\", \"learnToolsVersion\": \"0.3.4\", \"failureMessage\": \"\", \"exceptionClass\": \"\", \"trace\": \"\"}}, \"*\")"
      ],
      "text/plain": [
       "<IPython.core.display.Javascript object>"
      ]
     },
     "metadata": {},
     "output_type": "display_data"
    },
    {
     "data": {
      "text/markdown": [
       "<span style=\"color:#33cc33\">Correct</span>"
      ],
      "text/plain": [
       "Correct"
      ]
     },
     "metadata": {},
     "output_type": "display_data"
    }
   ],
   "source": [
    "italian_wines = reviews[reviews['country'] == 'Italy']\n",
    "q8.check()"
   ]
  },
  {
   "cell_type": "code",
   "execution_count": 18,
   "id": "dbb8fc84",
   "metadata": {
    "execution": {
     "iopub.execute_input": "2022-03-14T14:10:07.782222Z",
     "iopub.status.busy": "2022-03-14T14:10:07.781714Z",
     "iopub.status.idle": "2022-03-14T14:10:07.793034Z",
     "shell.execute_reply": "2022-03-14T14:10:07.793435Z",
     "shell.execute_reply.started": "2022-03-14T14:02:06.833451Z"
    },
    "papermill": {
     "duration": 0.051427,
     "end_time": "2022-03-14T14:10:07.793553",
     "exception": false,
     "start_time": "2022-03-14T14:10:07.742126",
     "status": "completed"
    },
    "tags": []
   },
   "outputs": [
    {
     "data": {
      "text/html": [
       "<div>\n",
       "<style scoped>\n",
       "    .dataframe tbody tr th:only-of-type {\n",
       "        vertical-align: middle;\n",
       "    }\n",
       "\n",
       "    .dataframe tbody tr th {\n",
       "        vertical-align: top;\n",
       "    }\n",
       "\n",
       "    .dataframe thead th {\n",
       "        text-align: right;\n",
       "    }\n",
       "</style>\n",
       "<table border=\"1\" class=\"dataframe\">\n",
       "  <thead>\n",
       "    <tr style=\"text-align: right;\">\n",
       "      <th></th>\n",
       "      <th>country</th>\n",
       "      <th>description</th>\n",
       "      <th>designation</th>\n",
       "      <th>points</th>\n",
       "      <th>price</th>\n",
       "      <th>province</th>\n",
       "      <th>region_1</th>\n",
       "      <th>region_2</th>\n",
       "      <th>taster_name</th>\n",
       "      <th>taster_twitter_handle</th>\n",
       "      <th>title</th>\n",
       "      <th>variety</th>\n",
       "      <th>winery</th>\n",
       "    </tr>\n",
       "  </thead>\n",
       "  <tbody>\n",
       "    <tr>\n",
       "      <th>0</th>\n",
       "      <td>Italy</td>\n",
       "      <td>Aromas include tropical fruit, broom, brimston...</td>\n",
       "      <td>Vulkà Bianco</td>\n",
       "      <td>87</td>\n",
       "      <td>NaN</td>\n",
       "      <td>Sicily &amp; Sardinia</td>\n",
       "      <td>Etna</td>\n",
       "      <td>NaN</td>\n",
       "      <td>Kerin O’Keefe</td>\n",
       "      <td>@kerinokeefe</td>\n",
       "      <td>Nicosia 2013 Vulkà Bianco  (Etna)</td>\n",
       "      <td>White Blend</td>\n",
       "      <td>Nicosia</td>\n",
       "    </tr>\n",
       "  </tbody>\n",
       "</table>\n",
       "</div>"
      ],
      "text/plain": [
       "  country                                        description   designation  \\\n",
       "0   Italy  Aromas include tropical fruit, broom, brimston...  Vulkà Bianco   \n",
       "\n",
       "   points  price           province region_1 region_2    taster_name  \\\n",
       "0      87    NaN  Sicily & Sardinia     Etna      NaN  Kerin O’Keefe   \n",
       "\n",
       "  taster_twitter_handle                              title      variety  \\\n",
       "0          @kerinokeefe  Nicosia 2013 Vulkà Bianco  (Etna)  White Blend   \n",
       "\n",
       "    winery  \n",
       "0  Nicosia  "
      ]
     },
     "execution_count": 18,
     "metadata": {},
     "output_type": "execute_result"
    }
   ],
   "source": [
    "#q8.hint()\n",
    "#q8.solution()\n",
    "reviews.head(1)"
   ]
  },
  {
   "cell_type": "markdown",
   "id": "e606eb41",
   "metadata": {
    "papermill": {
     "duration": 0.038693,
     "end_time": "2022-03-14T14:10:07.870090",
     "exception": false,
     "start_time": "2022-03-14T14:10:07.831397",
     "status": "completed"
    },
    "tags": []
   },
   "source": [
    "## 9.\n",
    "\n",
    "Create a DataFrame `top_oceania_wines` containing all reviews with at least 95 points (out of 100) for wines from Australia or New Zealand."
   ]
  },
  {
   "cell_type": "code",
   "execution_count": 19,
   "id": "1df36041",
   "metadata": {
    "execution": {
     "iopub.execute_input": "2022-03-14T14:10:07.950635Z",
     "iopub.status.busy": "2022-03-14T14:10:07.950115Z",
     "iopub.status.idle": "2022-03-14T14:10:07.978162Z",
     "shell.execute_reply": "2022-03-14T14:10:07.978619Z",
     "shell.execute_reply.started": "2022-03-14T14:04:16.482573Z"
    },
    "papermill": {
     "duration": 0.069157,
     "end_time": "2022-03-14T14:10:07.978740",
     "exception": false,
     "start_time": "2022-03-14T14:10:07.909583",
     "status": "completed"
    },
    "tags": []
   },
   "outputs": [
    {
     "data": {
      "application/javascript": [
       "parent.postMessage({\"jupyterEvent\": \"custom.exercise_interaction\", \"data\": {\"outcomeType\": 1, \"valueTowardsCompletion\": 0.1111111111111111, \"interactionType\": 1, \"questionType\": 1, \"questionId\": \"9_TopOceanicWines\", \"learnToolsVersion\": \"0.3.4\", \"failureMessage\": \"\", \"exceptionClass\": \"\", \"trace\": \"\"}}, \"*\")"
      ],
      "text/plain": [
       "<IPython.core.display.Javascript object>"
      ]
     },
     "metadata": {},
     "output_type": "display_data"
    },
    {
     "data": {
      "text/markdown": [
       "<span style=\"color:#33cc33\">Correct</span>"
      ],
      "text/plain": [
       "Correct"
      ]
     },
     "metadata": {},
     "output_type": "display_data"
    },
    {
     "data": {
      "text/html": [
       "<div>\n",
       "<style scoped>\n",
       "    .dataframe tbody tr th:only-of-type {\n",
       "        vertical-align: middle;\n",
       "    }\n",
       "\n",
       "    .dataframe tbody tr th {\n",
       "        vertical-align: top;\n",
       "    }\n",
       "\n",
       "    .dataframe thead th {\n",
       "        text-align: right;\n",
       "    }\n",
       "</style>\n",
       "<table border=\"1\" class=\"dataframe\">\n",
       "  <thead>\n",
       "    <tr style=\"text-align: right;\">\n",
       "      <th></th>\n",
       "      <th>country</th>\n",
       "      <th>description</th>\n",
       "      <th>designation</th>\n",
       "      <th>points</th>\n",
       "      <th>price</th>\n",
       "      <th>province</th>\n",
       "      <th>region_1</th>\n",
       "      <th>region_2</th>\n",
       "      <th>taster_name</th>\n",
       "      <th>taster_twitter_handle</th>\n",
       "      <th>title</th>\n",
       "      <th>variety</th>\n",
       "      <th>winery</th>\n",
       "    </tr>\n",
       "  </thead>\n",
       "  <tbody>\n",
       "    <tr>\n",
       "      <th>345</th>\n",
       "      <td>Australia</td>\n",
       "      <td>This wine contains some material over 100 year...</td>\n",
       "      <td>Rare</td>\n",
       "      <td>100</td>\n",
       "      <td>350.0</td>\n",
       "      <td>Victoria</td>\n",
       "      <td>Rutherglen</td>\n",
       "      <td>NaN</td>\n",
       "      <td>Joe Czerwinski</td>\n",
       "      <td>@JoeCz</td>\n",
       "      <td>Chambers Rosewood Vineyards NV Rare Muscat (Ru...</td>\n",
       "      <td>Muscat</td>\n",
       "      <td>Chambers Rosewood Vineyards</td>\n",
       "    </tr>\n",
       "    <tr>\n",
       "      <th>346</th>\n",
       "      <td>Australia</td>\n",
       "      <td>This deep brown wine smells like a damp, mossy...</td>\n",
       "      <td>Rare</td>\n",
       "      <td>98</td>\n",
       "      <td>350.0</td>\n",
       "      <td>Victoria</td>\n",
       "      <td>Rutherglen</td>\n",
       "      <td>NaN</td>\n",
       "      <td>Joe Czerwinski</td>\n",
       "      <td>@JoeCz</td>\n",
       "      <td>Chambers Rosewood Vineyards NV Rare Muscadelle...</td>\n",
       "      <td>Muscadelle</td>\n",
       "      <td>Chambers Rosewood Vineyards</td>\n",
       "    </tr>\n",
       "    <tr>\n",
       "      <th>...</th>\n",
       "      <td>...</td>\n",
       "      <td>...</td>\n",
       "      <td>...</td>\n",
       "      <td>...</td>\n",
       "      <td>...</td>\n",
       "      <td>...</td>\n",
       "      <td>...</td>\n",
       "      <td>...</td>\n",
       "      <td>...</td>\n",
       "      <td>...</td>\n",
       "      <td>...</td>\n",
       "      <td>...</td>\n",
       "      <td>...</td>\n",
       "    </tr>\n",
       "    <tr>\n",
       "      <th>122507</th>\n",
       "      <td>New Zealand</td>\n",
       "      <td>This blend of Cabernet Sauvignon (62.5%), Merl...</td>\n",
       "      <td>SQM Gimblett Gravels Cabernets/Merlot</td>\n",
       "      <td>95</td>\n",
       "      <td>79.0</td>\n",
       "      <td>Hawke's Bay</td>\n",
       "      <td>NaN</td>\n",
       "      <td>NaN</td>\n",
       "      <td>Joe Czerwinski</td>\n",
       "      <td>@JoeCz</td>\n",
       "      <td>Squawking Magpie 2014 SQM Gimblett Gravels Cab...</td>\n",
       "      <td>Bordeaux-style Red Blend</td>\n",
       "      <td>Squawking Magpie</td>\n",
       "    </tr>\n",
       "    <tr>\n",
       "      <th>122939</th>\n",
       "      <td>Australia</td>\n",
       "      <td>Full-bodied and plush yet vibrant and imbued w...</td>\n",
       "      <td>The Factor</td>\n",
       "      <td>98</td>\n",
       "      <td>125.0</td>\n",
       "      <td>South Australia</td>\n",
       "      <td>Barossa Valley</td>\n",
       "      <td>NaN</td>\n",
       "      <td>Joe Czerwinski</td>\n",
       "      <td>@JoeCz</td>\n",
       "      <td>Torbreck 2013 The Factor Shiraz (Barossa Valley)</td>\n",
       "      <td>Shiraz</td>\n",
       "      <td>Torbreck</td>\n",
       "    </tr>\n",
       "  </tbody>\n",
       "</table>\n",
       "<p>49 rows × 13 columns</p>\n",
       "</div>"
      ],
      "text/plain": [
       "            country                                        description  \\\n",
       "345       Australia  This wine contains some material over 100 year...   \n",
       "346       Australia  This deep brown wine smells like a damp, mossy...   \n",
       "...             ...                                                ...   \n",
       "122507  New Zealand  This blend of Cabernet Sauvignon (62.5%), Merl...   \n",
       "122939    Australia  Full-bodied and plush yet vibrant and imbued w...   \n",
       "\n",
       "                                  designation  points  price         province  \\\n",
       "345                                      Rare     100  350.0         Victoria   \n",
       "346                                      Rare      98  350.0         Victoria   \n",
       "...                                       ...     ...    ...              ...   \n",
       "122507  SQM Gimblett Gravels Cabernets/Merlot      95   79.0      Hawke's Bay   \n",
       "122939                             The Factor      98  125.0  South Australia   \n",
       "\n",
       "              region_1 region_2     taster_name taster_twitter_handle  \\\n",
       "345         Rutherglen      NaN  Joe Czerwinski                @JoeCz   \n",
       "346         Rutherglen      NaN  Joe Czerwinski                @JoeCz   \n",
       "...                ...      ...             ...                   ...   \n",
       "122507             NaN      NaN  Joe Czerwinski                @JoeCz   \n",
       "122939  Barossa Valley      NaN  Joe Czerwinski                @JoeCz   \n",
       "\n",
       "                                                    title  \\\n",
       "345     Chambers Rosewood Vineyards NV Rare Muscat (Ru...   \n",
       "346     Chambers Rosewood Vineyards NV Rare Muscadelle...   \n",
       "...                                                   ...   \n",
       "122507  Squawking Magpie 2014 SQM Gimblett Gravels Cab...   \n",
       "122939   Torbreck 2013 The Factor Shiraz (Barossa Valley)   \n",
       "\n",
       "                         variety                       winery  \n",
       "345                       Muscat  Chambers Rosewood Vineyards  \n",
       "346                   Muscadelle  Chambers Rosewood Vineyards  \n",
       "...                          ...                          ...  \n",
       "122507  Bordeaux-style Red Blend             Squawking Magpie  \n",
       "122939                    Shiraz                     Torbreck  \n",
       "\n",
       "[49 rows x 13 columns]"
      ]
     },
     "execution_count": 19,
     "metadata": {},
     "output_type": "execute_result"
    }
   ],
   "source": [
    "top_oceania_wines = reviews[(reviews['country'].isin(['Australia','New Zealand'])) & (reviews['points'] >= 95)]\n",
    "\n",
    "# Check your answer\n",
    "q9.check()\n",
    "top_oceania_wines"
   ]
  },
  {
   "cell_type": "code",
   "execution_count": 20,
   "id": "2609cc90",
   "metadata": {
    "execution": {
     "iopub.execute_input": "2022-03-14T14:10:08.064768Z",
     "iopub.status.busy": "2022-03-14T14:10:08.064274Z",
     "iopub.status.idle": "2022-03-14T14:10:08.066525Z",
     "shell.execute_reply": "2022-03-14T14:10:08.066919Z",
     "shell.execute_reply.started": "2022-03-14T14:07:30.606010Z"
    },
    "papermill": {
     "duration": 0.047896,
     "end_time": "2022-03-14T14:10:08.067062",
     "exception": false,
     "start_time": "2022-03-14T14:10:08.019166",
     "status": "completed"
    },
    "tags": []
   },
   "outputs": [],
   "source": [
    "#q9.hint()\n",
    "#q9.solution()"
   ]
  },
  {
   "cell_type": "markdown",
   "id": "abb4ed77",
   "metadata": {
    "papermill": {
     "duration": 0.043878,
     "end_time": "2022-03-14T14:10:08.153969",
     "exception": false,
     "start_time": "2022-03-14T14:10:08.110091",
     "status": "completed"
    },
    "tags": []
   },
   "source": [
    "# Keep going\n",
    "\n",
    "Move on to learn about **[summary functions and maps](https://www.kaggle.com/residentmario/summary-functions-and-maps)**."
   ]
  },
  {
   "cell_type": "markdown",
   "id": "91bd3c5d",
   "metadata": {
    "papermill": {
     "duration": 0.044404,
     "end_time": "2022-03-14T14:10:08.243050",
     "exception": false,
     "start_time": "2022-03-14T14:10:08.198646",
     "status": "completed"
    },
    "tags": []
   },
   "source": [
    "---\n",
    "\n",
    "\n",
    "\n",
    "\n",
    "*Have questions or comments? Visit the [course discussion forum](https://www.kaggle.com/learn/pandas/discussion) to chat with other learners.*"
   ]
  }
 ],
 "metadata": {
  "kernelspec": {
   "display_name": "Python 3",
   "language": "python",
   "name": "python3"
  },
  "language_info": {
   "codemirror_mode": {
    "name": "ipython",
    "version": 3
   },
   "file_extension": ".py",
   "mimetype": "text/x-python",
   "name": "python",
   "nbconvert_exporter": "python",
   "pygments_lexer": "ipython3",
   "version": "3.7.12"
  },
  "papermill": {
   "default_parameters": {},
   "duration": 14.47695,
   "end_time": "2022-03-14T14:10:08.795831",
   "environment_variables": {},
   "exception": null,
   "input_path": "__notebook__.ipynb",
   "output_path": "__notebook__.ipynb",
   "parameters": {},
   "start_time": "2022-03-14T14:09:54.318881",
   "version": "2.3.3"
  }
 },
 "nbformat": 4,
 "nbformat_minor": 5
}
