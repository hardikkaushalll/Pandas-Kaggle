{
 "cells": [
  {
   "cell_type": "markdown",
   "id": "b689c24a",
   "metadata": {
    "papermill": {
     "duration": 0.024742,
     "end_time": "2022-03-19T13:49:06.586679",
     "exception": false,
     "start_time": "2022-03-19T13:49:06.561937",
     "status": "completed"
    },
    "tags": []
   },
   "source": [
    "**This notebook is an exercise in the [Pandas](https://www.kaggle.com/learn/pandas) course.  You can reference the tutorial at [this link](https://www.kaggle.com/residentmario/grouping-and-sorting).**\n",
    "\n",
    "---\n"
   ]
  },
  {
   "cell_type": "markdown",
   "id": "4e1054e5",
   "metadata": {
    "papermill": {
     "duration": 0.023779,
     "end_time": "2022-03-19T13:49:06.634934",
     "exception": false,
     "start_time": "2022-03-19T13:49:06.611155",
     "status": "completed"
    },
    "tags": []
   },
   "source": [
    "# Introduction\n",
    "\n",
    "In these exercises we'll apply groupwise analysis to our dataset.\n",
    "\n",
    "Run the code cell below to load the data before running the exercises."
   ]
  },
  {
   "cell_type": "code",
   "execution_count": 1,
   "id": "7f7d948e",
   "metadata": {
    "execution": {
     "iopub.execute_input": "2022-03-19T13:49:06.694560Z",
     "iopub.status.busy": "2022-03-19T13:49:06.693019Z",
     "iopub.status.idle": "2022-03-19T13:49:09.679872Z",
     "shell.execute_reply": "2022-03-19T13:49:09.680596Z",
     "shell.execute_reply.started": "2022-03-19T13:27:14.994867Z"
    },
    "papermill": {
     "duration": 3.022217,
     "end_time": "2022-03-19T13:49:09.680973",
     "exception": false,
     "start_time": "2022-03-19T13:49:06.658756",
     "status": "completed"
    },
    "tags": []
   },
   "outputs": [
    {
     "name": "stdout",
     "output_type": "stream",
     "text": [
      "Setup complete.\n"
     ]
    }
   ],
   "source": [
    "import pandas as pd\n",
    "\n",
    "reviews = pd.read_csv(\"../input/wine-reviews/winemag-data-130k-v2.csv\", index_col=0)\n",
    "#pd.set_option(\"display.max_rows\", 5)\n",
    "\n",
    "from learntools.core import binder; binder.bind(globals())\n",
    "from learntools.pandas.grouping_and_sorting import *\n",
    "print(\"Setup complete.\")"
   ]
  },
  {
   "cell_type": "code",
   "execution_count": 2,
   "id": "89350cf2",
   "metadata": {
    "execution": {
     "iopub.execute_input": "2022-03-19T13:49:09.737660Z",
     "iopub.status.busy": "2022-03-19T13:49:09.736577Z",
     "iopub.status.idle": "2022-03-19T13:49:09.755157Z",
     "shell.execute_reply": "2022-03-19T13:49:09.755666Z",
     "shell.execute_reply.started": "2022-03-19T13:27:18.155543Z"
    },
    "papermill": {
     "duration": 0.049887,
     "end_time": "2022-03-19T13:49:09.755833",
     "exception": false,
     "start_time": "2022-03-19T13:49:09.705946",
     "status": "completed"
    },
    "tags": []
   },
   "outputs": [
    {
     "data": {
      "text/html": [
       "<div>\n",
       "<style scoped>\n",
       "    .dataframe tbody tr th:only-of-type {\n",
       "        vertical-align: middle;\n",
       "    }\n",
       "\n",
       "    .dataframe tbody tr th {\n",
       "        vertical-align: top;\n",
       "    }\n",
       "\n",
       "    .dataframe thead th {\n",
       "        text-align: right;\n",
       "    }\n",
       "</style>\n",
       "<table border=\"1\" class=\"dataframe\">\n",
       "  <thead>\n",
       "    <tr style=\"text-align: right;\">\n",
       "      <th></th>\n",
       "      <th>country</th>\n",
       "      <th>description</th>\n",
       "      <th>designation</th>\n",
       "      <th>points</th>\n",
       "      <th>price</th>\n",
       "      <th>province</th>\n",
       "      <th>region_1</th>\n",
       "      <th>region_2</th>\n",
       "      <th>taster_name</th>\n",
       "      <th>taster_twitter_handle</th>\n",
       "      <th>title</th>\n",
       "      <th>variety</th>\n",
       "      <th>winery</th>\n",
       "    </tr>\n",
       "  </thead>\n",
       "  <tbody>\n",
       "    <tr>\n",
       "      <th>0</th>\n",
       "      <td>Italy</td>\n",
       "      <td>Aromas include tropical fruit, broom, brimston...</td>\n",
       "      <td>Vulkà Bianco</td>\n",
       "      <td>87</td>\n",
       "      <td>NaN</td>\n",
       "      <td>Sicily &amp; Sardinia</td>\n",
       "      <td>Etna</td>\n",
       "      <td>NaN</td>\n",
       "      <td>Kerin O’Keefe</td>\n",
       "      <td>@kerinokeefe</td>\n",
       "      <td>Nicosia 2013 Vulkà Bianco  (Etna)</td>\n",
       "      <td>White Blend</td>\n",
       "      <td>Nicosia</td>\n",
       "    </tr>\n",
       "    <tr>\n",
       "      <th>1</th>\n",
       "      <td>Portugal</td>\n",
       "      <td>This is ripe and fruity, a wine that is smooth...</td>\n",
       "      <td>Avidagos</td>\n",
       "      <td>87</td>\n",
       "      <td>15.0</td>\n",
       "      <td>Douro</td>\n",
       "      <td>NaN</td>\n",
       "      <td>NaN</td>\n",
       "      <td>Roger Voss</td>\n",
       "      <td>@vossroger</td>\n",
       "      <td>Quinta dos Avidagos 2011 Avidagos Red (Douro)</td>\n",
       "      <td>Portuguese Red</td>\n",
       "      <td>Quinta dos Avidagos</td>\n",
       "    </tr>\n",
       "  </tbody>\n",
       "</table>\n",
       "</div>"
      ],
      "text/plain": [
       "    country                                        description   designation  \\\n",
       "0     Italy  Aromas include tropical fruit, broom, brimston...  Vulkà Bianco   \n",
       "1  Portugal  This is ripe and fruity, a wine that is smooth...      Avidagos   \n",
       "\n",
       "   points  price           province region_1 region_2    taster_name  \\\n",
       "0      87    NaN  Sicily & Sardinia     Etna      NaN  Kerin O’Keefe   \n",
       "1      87   15.0              Douro      NaN      NaN     Roger Voss   \n",
       "\n",
       "  taster_twitter_handle                                          title  \\\n",
       "0          @kerinokeefe              Nicosia 2013 Vulkà Bianco  (Etna)   \n",
       "1            @vossroger  Quinta dos Avidagos 2011 Avidagos Red (Douro)   \n",
       "\n",
       "          variety               winery  \n",
       "0     White Blend              Nicosia  \n",
       "1  Portuguese Red  Quinta dos Avidagos  "
      ]
     },
     "execution_count": 2,
     "metadata": {},
     "output_type": "execute_result"
    }
   ],
   "source": [
    "reviews.head(2)"
   ]
  },
  {
   "cell_type": "markdown",
   "id": "283a345a",
   "metadata": {
    "papermill": {
     "duration": 0.024553,
     "end_time": "2022-03-19T13:49:09.804739",
     "exception": false,
     "start_time": "2022-03-19T13:49:09.780186",
     "status": "completed"
    },
    "tags": []
   },
   "source": [
    "# Exercises"
   ]
  },
  {
   "cell_type": "markdown",
   "id": "9e9d2f67",
   "metadata": {
    "papermill": {
     "duration": 0.023798,
     "end_time": "2022-03-19T13:49:09.852501",
     "exception": false,
     "start_time": "2022-03-19T13:49:09.828703",
     "status": "completed"
    },
    "tags": []
   },
   "source": [
    "## 1.\n",
    "Who are the most common wine reviewers in the dataset? Create a `Series` whose index is the `taster_twitter_handle` category from the dataset, and whose values count how many reviews each person wrote."
   ]
  },
  {
   "cell_type": "code",
   "execution_count": 3,
   "id": "b2b19580",
   "metadata": {
    "execution": {
     "iopub.execute_input": "2022-03-19T13:49:09.922008Z",
     "iopub.status.busy": "2022-03-19T13:49:09.921329Z",
     "iopub.status.idle": "2022-03-19T13:49:09.929566Z",
     "shell.execute_reply": "2022-03-19T13:49:09.930054Z",
     "shell.execute_reply.started": "2022-03-19T13:27:18.182259Z"
    },
    "papermill": {
     "duration": 0.053101,
     "end_time": "2022-03-19T13:49:09.930226",
     "exception": false,
     "start_time": "2022-03-19T13:49:09.877125",
     "status": "completed"
    },
    "tags": []
   },
   "outputs": [
    {
     "data": {
      "application/javascript": [
       "parent.postMessage({\"jupyterEvent\": \"custom.exercise_interaction\", \"data\": {\"outcomeType\": 1, \"valueTowardsCompletion\": 0.16666666666666666, \"interactionType\": 1, \"questionType\": 1, \"questionId\": \"1_ReviewsWritten\", \"learnToolsVersion\": \"0.3.4\", \"failureMessage\": \"\", \"exceptionClass\": \"\", \"trace\": \"\"}}, \"*\")"
      ],
      "text/plain": [
       "<IPython.core.display.Javascript object>"
      ]
     },
     "metadata": {},
     "output_type": "display_data"
    },
    {
     "data": {
      "text/markdown": [
       "<span style=\"color:#33cc33\">Correct:</span> \n",
       "\n",
       "\n",
       "```python\n",
       "reviews_written = reviews.groupby('taster_twitter_handle').size()\n",
       "```\n",
       "or\n",
       "```python\n",
       "reviews_written = reviews.groupby('taster_twitter_handle').taster_twitter_handle.count()\n",
       "```\n"
      ],
      "text/plain": [
       "Correct: \n",
       "\n",
       "\n",
       "```python\n",
       "reviews_written = reviews.groupby('taster_twitter_handle').size()\n",
       "```\n",
       "or\n",
       "```python\n",
       "reviews_written = reviews.groupby('taster_twitter_handle').taster_twitter_handle.count()\n",
       "```"
      ]
     },
     "metadata": {},
     "output_type": "display_data"
    }
   ],
   "source": [
    "# Your code here\n",
    "reviews_written = reviews.groupby('taster_twitter_handle').size()\n",
    "\n",
    "# Check your answer\n",
    "q1.check()"
   ]
  },
  {
   "cell_type": "code",
   "execution_count": 4,
   "id": "9454e910",
   "metadata": {
    "execution": {
     "iopub.execute_input": "2022-03-19T13:49:09.983792Z",
     "iopub.status.busy": "2022-03-19T13:49:09.983128Z",
     "iopub.status.idle": "2022-03-19T13:49:09.985953Z",
     "shell.execute_reply": "2022-03-19T13:49:09.986568Z",
     "shell.execute_reply.started": "2022-03-19T13:27:18.212196Z"
    },
    "papermill": {
     "duration": 0.031403,
     "end_time": "2022-03-19T13:49:09.986756",
     "exception": false,
     "start_time": "2022-03-19T13:49:09.955353",
     "status": "completed"
    },
    "tags": []
   },
   "outputs": [],
   "source": [
    "#q1.hint()\n",
    "#q1.solution()"
   ]
  },
  {
   "cell_type": "markdown",
   "id": "86ebe8a8",
   "metadata": {
    "papermill": {
     "duration": 0.02506,
     "end_time": "2022-03-19T13:49:10.037818",
     "exception": false,
     "start_time": "2022-03-19T13:49:10.012758",
     "status": "completed"
    },
    "tags": []
   },
   "source": [
    "## 2.\n",
    "What is the best wine I can buy for a given amount of money? Create a `Series` whose index is wine prices and whose values is the maximum number of points a wine costing that much was given in a review. Sort the values by price, ascending (so that `4.0` dollars is at the top and `3300.0` dollars is at the bottom)."
   ]
  },
  {
   "cell_type": "code",
   "execution_count": 5,
   "id": "afb4aa21",
   "metadata": {
    "execution": {
     "iopub.execute_input": "2022-03-19T13:49:10.097944Z",
     "iopub.status.busy": "2022-03-19T13:49:10.097190Z",
     "iopub.status.idle": "2022-03-19T13:49:10.107690Z",
     "shell.execute_reply": "2022-03-19T13:49:10.108184Z",
     "shell.execute_reply.started": "2022-03-19T13:28:11.151269Z"
    },
    "papermill": {
     "duration": 0.042716,
     "end_time": "2022-03-19T13:49:10.108382",
     "exception": false,
     "start_time": "2022-03-19T13:49:10.065666",
     "status": "completed"
    },
    "tags": []
   },
   "outputs": [
    {
     "data": {
      "application/javascript": [
       "parent.postMessage({\"jupyterEvent\": \"custom.exercise_interaction\", \"data\": {\"outcomeType\": 1, \"valueTowardsCompletion\": 0.16666666666666666, \"interactionType\": 1, \"questionType\": 1, \"questionId\": \"2_BestRatingPerPrice\", \"learnToolsVersion\": \"0.3.4\", \"failureMessage\": \"\", \"exceptionClass\": \"\", \"trace\": \"\"}}, \"*\")"
      ],
      "text/plain": [
       "<IPython.core.display.Javascript object>"
      ]
     },
     "metadata": {},
     "output_type": "display_data"
    },
    {
     "data": {
      "text/markdown": [
       "<span style=\"color:#33cc33\">Correct</span>"
      ],
      "text/plain": [
       "Correct"
      ]
     },
     "metadata": {},
     "output_type": "display_data"
    }
   ],
   "source": [
    "best_rating_per_price = reviews.groupby('price')['points'].max().sort_index()\n",
    "\n",
    "# Check your answer\n",
    "q2.check()"
   ]
  },
  {
   "cell_type": "code",
   "execution_count": 6,
   "id": "5b4d89e5",
   "metadata": {
    "execution": {
     "iopub.execute_input": "2022-03-19T13:49:10.164839Z",
     "iopub.status.busy": "2022-03-19T13:49:10.164170Z",
     "iopub.status.idle": "2022-03-19T13:49:10.166980Z",
     "shell.execute_reply": "2022-03-19T13:49:10.167452Z",
     "shell.execute_reply.started": "2022-03-19T13:28:15.349229Z"
    },
    "papermill": {
     "duration": 0.032613,
     "end_time": "2022-03-19T13:49:10.167625",
     "exception": false,
     "start_time": "2022-03-19T13:49:10.135012",
     "status": "completed"
    },
    "tags": []
   },
   "outputs": [],
   "source": [
    "#q2.hint()\n",
    "#q2.solution()"
   ]
  },
  {
   "cell_type": "markdown",
   "id": "128809e8",
   "metadata": {
    "papermill": {
     "duration": 0.026173,
     "end_time": "2022-03-19T13:49:10.220650",
     "exception": false,
     "start_time": "2022-03-19T13:49:10.194477",
     "status": "completed"
    },
    "tags": []
   },
   "source": [
    "\n",
    "## 3.\n",
    "What are the minimum and maximum prices for each `variety` of wine? Create a `DataFrame` whose index is the `variety` category from the dataset and whose values are the `min` and `max` values thereof."
   ]
  },
  {
   "cell_type": "code",
   "execution_count": 7,
   "id": "ac1e07cb",
   "metadata": {
    "execution": {
     "iopub.execute_input": "2022-03-19T13:49:10.276806Z",
     "iopub.status.busy": "2022-03-19T13:49:10.276081Z",
     "iopub.status.idle": "2022-03-19T13:49:10.306569Z",
     "shell.execute_reply": "2022-03-19T13:49:10.307191Z",
     "shell.execute_reply.started": "2022-03-19T13:28:36.086932Z"
    },
    "papermill": {
     "duration": 0.060096,
     "end_time": "2022-03-19T13:49:10.307385",
     "exception": false,
     "start_time": "2022-03-19T13:49:10.247289",
     "status": "completed"
    },
    "tags": []
   },
   "outputs": [
    {
     "data": {
      "application/javascript": [
       "parent.postMessage({\"jupyterEvent\": \"custom.exercise_interaction\", \"data\": {\"outcomeType\": 1, \"valueTowardsCompletion\": 0.16666666666666666, \"interactionType\": 1, \"questionType\": 1, \"questionId\": \"3_PriceExtremes\", \"learnToolsVersion\": \"0.3.4\", \"failureMessage\": \"\", \"exceptionClass\": \"\", \"trace\": \"\"}}, \"*\")"
      ],
      "text/plain": [
       "<IPython.core.display.Javascript object>"
      ]
     },
     "metadata": {},
     "output_type": "display_data"
    },
    {
     "data": {
      "text/markdown": [
       "<span style=\"color:#33cc33\">Correct</span>"
      ],
      "text/plain": [
       "Correct"
      ]
     },
     "metadata": {},
     "output_type": "display_data"
    }
   ],
   "source": [
    "price_extremes = reviews.groupby('variety').price.agg([min, max])\n",
    "\n",
    "# Check your answer\n",
    "q3.check()"
   ]
  },
  {
   "cell_type": "code",
   "execution_count": 8,
   "id": "c66a3d7c",
   "metadata": {
    "execution": {
     "iopub.execute_input": "2022-03-19T13:49:10.367256Z",
     "iopub.status.busy": "2022-03-19T13:49:10.365804Z",
     "iopub.status.idle": "2022-03-19T13:49:10.369606Z",
     "shell.execute_reply": "2022-03-19T13:49:10.370066Z",
     "shell.execute_reply.started": "2022-03-19T13:28:41.559834Z"
    },
    "papermill": {
     "duration": 0.034855,
     "end_time": "2022-03-19T13:49:10.370241",
     "exception": false,
     "start_time": "2022-03-19T13:49:10.335386",
     "status": "completed"
    },
    "tags": []
   },
   "outputs": [],
   "source": [
    "#q3.hint()\n",
    "#q3.solution()"
   ]
  },
  {
   "cell_type": "markdown",
   "id": "894a7d3d",
   "metadata": {
    "papermill": {
     "duration": 0.027937,
     "end_time": "2022-03-19T13:49:10.426507",
     "exception": false,
     "start_time": "2022-03-19T13:49:10.398570",
     "status": "completed"
    },
    "tags": []
   },
   "source": [
    "## 4.\n",
    "What are the most expensive wine varieties? Create a variable `sorted_varieties` containing a copy of the dataframe from the previous question where varieties are sorted in descending order based on minimum price, then on maximum price (to break ties)."
   ]
  },
  {
   "cell_type": "code",
   "execution_count": 9,
   "id": "211fb402",
   "metadata": {
    "execution": {
     "iopub.execute_input": "2022-03-19T13:49:10.485664Z",
     "iopub.status.busy": "2022-03-19T13:49:10.485027Z",
     "iopub.status.idle": "2022-03-19T13:49:10.493013Z",
     "shell.execute_reply": "2022-03-19T13:49:10.493527Z",
     "shell.execute_reply.started": "2022-03-19T13:28:55.128546Z"
    },
    "papermill": {
     "duration": 0.03923,
     "end_time": "2022-03-19T13:49:10.493700",
     "exception": false,
     "start_time": "2022-03-19T13:49:10.454470",
     "status": "completed"
    },
    "tags": []
   },
   "outputs": [
    {
     "data": {
      "application/javascript": [
       "parent.postMessage({\"jupyterEvent\": \"custom.exercise_interaction\", \"data\": {\"outcomeType\": 1, \"valueTowardsCompletion\": 0.16666666666666666, \"interactionType\": 1, \"questionType\": 1, \"questionId\": \"4_SortedVarieties\", \"learnToolsVersion\": \"0.3.4\", \"failureMessage\": \"\", \"exceptionClass\": \"\", \"trace\": \"\"}}, \"*\")"
      ],
      "text/plain": [
       "<IPython.core.display.Javascript object>"
      ]
     },
     "metadata": {},
     "output_type": "display_data"
    },
    {
     "data": {
      "text/markdown": [
       "<span style=\"color:#33cc33\">Correct</span>"
      ],
      "text/plain": [
       "Correct"
      ]
     },
     "metadata": {},
     "output_type": "display_data"
    }
   ],
   "source": [
    "sorted_varieties = price_extremes.sort_values(by=['min', 'max'], ascending=False)\n",
    "\n",
    "# Check your answer\n",
    "q4.check()"
   ]
  },
  {
   "cell_type": "code",
   "execution_count": 10,
   "id": "1b219e04",
   "metadata": {
    "execution": {
     "iopub.execute_input": "2022-03-19T13:49:10.556502Z",
     "iopub.status.busy": "2022-03-19T13:49:10.555812Z",
     "iopub.status.idle": "2022-03-19T13:49:10.558629Z",
     "shell.execute_reply": "2022-03-19T13:49:10.559128Z",
     "shell.execute_reply.started": "2022-03-19T13:28:59.077022Z"
    },
    "papermill": {
     "duration": 0.036476,
     "end_time": "2022-03-19T13:49:10.559326",
     "exception": false,
     "start_time": "2022-03-19T13:49:10.522850",
     "status": "completed"
    },
    "tags": []
   },
   "outputs": [],
   "source": [
    "#q4.hint()\n",
    "#q4.solution()"
   ]
  },
  {
   "cell_type": "markdown",
   "id": "1c4bef93",
   "metadata": {
    "papermill": {
     "duration": 0.028952,
     "end_time": "2022-03-19T13:49:10.619437",
     "exception": false,
     "start_time": "2022-03-19T13:49:10.590485",
     "status": "completed"
    },
    "tags": []
   },
   "source": [
    "## 5.\n",
    "Create a `Series` whose index is reviewers and whose values is the average review score given out by that reviewer. Hint: you will need the `taster_name` and `points` columns."
   ]
  },
  {
   "cell_type": "code",
   "execution_count": 11,
   "id": "343ccc5d",
   "metadata": {
    "execution": {
     "iopub.execute_input": "2022-03-19T13:49:10.687245Z",
     "iopub.status.busy": "2022-03-19T13:49:10.686563Z",
     "iopub.status.idle": "2022-03-19T13:49:10.705269Z",
     "shell.execute_reply": "2022-03-19T13:49:10.705787Z",
     "shell.execute_reply.started": "2022-03-19T13:30:28.257499Z"
    },
    "papermill": {
     "duration": 0.057419,
     "end_time": "2022-03-19T13:49:10.705952",
     "exception": false,
     "start_time": "2022-03-19T13:49:10.648533",
     "status": "completed"
    },
    "tags": []
   },
   "outputs": [
    {
     "data": {
      "application/javascript": [
       "parent.postMessage({\"jupyterEvent\": \"custom.exercise_interaction\", \"data\": {\"outcomeType\": 1, \"valueTowardsCompletion\": 0.16666666666666666, \"interactionType\": 1, \"questionType\": 1, \"questionId\": \"5_ReviewerMeanRatings\", \"learnToolsVersion\": \"0.3.4\", \"failureMessage\": \"\", \"exceptionClass\": \"\", \"trace\": \"\"}}, \"*\")"
      ],
      "text/plain": [
       "<IPython.core.display.Javascript object>"
      ]
     },
     "metadata": {},
     "output_type": "display_data"
    },
    {
     "data": {
      "text/markdown": [
       "<span style=\"color:#33cc33\">Correct</span>"
      ],
      "text/plain": [
       "Correct"
      ]
     },
     "metadata": {},
     "output_type": "display_data"
    }
   ],
   "source": [
    "reviewer_mean_ratings = reviews.groupby('taster_name').points.mean()\n",
    "\n",
    "# Check your answer\n",
    "q5.check()"
   ]
  },
  {
   "cell_type": "code",
   "execution_count": 12,
   "id": "18ee2158",
   "metadata": {
    "execution": {
     "iopub.execute_input": "2022-03-19T13:49:10.771571Z",
     "iopub.status.busy": "2022-03-19T13:49:10.770204Z",
     "iopub.status.idle": "2022-03-19T13:49:10.773593Z",
     "shell.execute_reply": "2022-03-19T13:49:10.774098Z",
     "shell.execute_reply.started": "2022-03-19T13:30:31.69287Z"
    },
    "papermill": {
     "duration": 0.038066,
     "end_time": "2022-03-19T13:49:10.774276",
     "exception": false,
     "start_time": "2022-03-19T13:49:10.736210",
     "status": "completed"
    },
    "tags": []
   },
   "outputs": [],
   "source": [
    "#q5.hint()\n",
    "#q5.solution()"
   ]
  },
  {
   "cell_type": "markdown",
   "id": "df7606b5",
   "metadata": {
    "papermill": {
     "duration": 0.03034,
     "end_time": "2022-03-19T13:49:10.835827",
     "exception": false,
     "start_time": "2022-03-19T13:49:10.805487",
     "status": "completed"
    },
    "tags": []
   },
   "source": [
    "Are there significant differences in the average scores assigned by the various reviewers? Run the cell below to use the `describe()` method to see a summary of the range of values."
   ]
  },
  {
   "cell_type": "code",
   "execution_count": 13,
   "id": "d65a7983",
   "metadata": {
    "execution": {
     "iopub.execute_input": "2022-03-19T13:49:10.899400Z",
     "iopub.status.busy": "2022-03-19T13:49:10.898702Z",
     "iopub.status.idle": "2022-03-19T13:49:10.908539Z",
     "shell.execute_reply": "2022-03-19T13:49:10.909047Z",
     "shell.execute_reply.started": "2022-03-19T13:30:39.041689Z"
    },
    "papermill": {
     "duration": 0.04327,
     "end_time": "2022-03-19T13:49:10.909214",
     "exception": false,
     "start_time": "2022-03-19T13:49:10.865944",
     "status": "completed"
    },
    "tags": []
   },
   "outputs": [
    {
     "data": {
      "text/plain": [
       "count    19.000000\n",
       "mean     88.233026\n",
       "std       1.243610\n",
       "min      85.855422\n",
       "25%      87.323501\n",
       "50%      88.536235\n",
       "75%      88.975256\n",
       "max      90.562551\n",
       "Name: points, dtype: float64"
      ]
     },
     "execution_count": 13,
     "metadata": {},
     "output_type": "execute_result"
    }
   ],
   "source": [
    "reviewer_mean_ratings.describe()"
   ]
  },
  {
   "cell_type": "markdown",
   "id": "97a7edf2",
   "metadata": {
    "papermill": {
     "duration": 0.030502,
     "end_time": "2022-03-19T13:49:10.970657",
     "exception": false,
     "start_time": "2022-03-19T13:49:10.940155",
     "status": "completed"
    },
    "tags": []
   },
   "source": [
    "## 6.\n",
    "What combination of countries and varieties are most common? Create a `Series` whose index is a `MultiIndex`of `{country, variety}` pairs. For example, a pinot noir produced in the US should map to `{\"US\", \"Pinot Noir\"}`. Sort the values in the `Series` in descending order based on wine count."
   ]
  },
  {
   "cell_type": "code",
   "execution_count": 14,
   "id": "910d65cd",
   "metadata": {
    "execution": {
     "iopub.execute_input": "2022-03-19T13:49:11.036229Z",
     "iopub.status.busy": "2022-03-19T13:49:11.035573Z",
     "iopub.status.idle": "2022-03-19T13:49:11.082019Z",
     "shell.execute_reply": "2022-03-19T13:49:11.082502Z",
     "shell.execute_reply.started": "2022-03-19T13:30:54.148919Z"
    },
    "papermill": {
     "duration": 0.081338,
     "end_time": "2022-03-19T13:49:11.082695",
     "exception": false,
     "start_time": "2022-03-19T13:49:11.001357",
     "status": "completed"
    },
    "tags": []
   },
   "outputs": [
    {
     "data": {
      "application/javascript": [
       "parent.postMessage({\"jupyterEvent\": \"custom.exercise_interaction\", \"data\": {\"outcomeType\": 1, \"valueTowardsCompletion\": 0.16666666666666666, \"interactionType\": 1, \"questionType\": 1, \"questionId\": \"6_GroupbyCountryVariety\", \"learnToolsVersion\": \"0.3.4\", \"failureMessage\": \"\", \"exceptionClass\": \"\", \"trace\": \"\"}}, \"*\")"
      ],
      "text/plain": [
       "<IPython.core.display.Javascript object>"
      ]
     },
     "metadata": {},
     "output_type": "display_data"
    },
    {
     "data": {
      "text/markdown": [
       "<span style=\"color:#33cc33\">Correct</span>"
      ],
      "text/plain": [
       "Correct"
      ]
     },
     "metadata": {},
     "output_type": "display_data"
    }
   ],
   "source": [
    "country_variety_counts = reviews.groupby(['country', 'variety']).size().sort_values(ascending=False)\n",
    "\n",
    "# Check your answer\n",
    "q6.check()"
   ]
  },
  {
   "cell_type": "code",
   "execution_count": 15,
   "id": "5e8bea60",
   "metadata": {
    "execution": {
     "iopub.execute_input": "2022-03-19T13:49:11.152691Z",
     "iopub.status.busy": "2022-03-19T13:49:11.151988Z",
     "iopub.status.idle": "2022-03-19T13:49:11.153762Z",
     "shell.execute_reply": "2022-03-19T13:49:11.154246Z",
     "shell.execute_reply.started": "2022-03-19T13:30:57.226788Z"
    },
    "papermill": {
     "duration": 0.039412,
     "end_time": "2022-03-19T13:49:11.154434",
     "exception": false,
     "start_time": "2022-03-19T13:49:11.115022",
     "status": "completed"
    },
    "tags": []
   },
   "outputs": [],
   "source": [
    "#q6.hint()\n",
    "#q6.solution()"
   ]
  },
  {
   "cell_type": "markdown",
   "id": "8e78155b",
   "metadata": {
    "papermill": {
     "duration": 0.031993,
     "end_time": "2022-03-19T13:49:11.218432",
     "exception": false,
     "start_time": "2022-03-19T13:49:11.186439",
     "status": "completed"
    },
    "tags": []
   },
   "source": [
    "# Keep going\n",
    "\n",
    "Move on to the [**data types and missing data**](https://www.kaggle.com/residentmario/data-types-and-missing-values)."
   ]
  },
  {
   "cell_type": "markdown",
   "id": "6286e226",
   "metadata": {
    "papermill": {
     "duration": 0.032015,
     "end_time": "2022-03-19T13:49:11.282295",
     "exception": false,
     "start_time": "2022-03-19T13:49:11.250280",
     "status": "completed"
    },
    "tags": []
   },
   "source": [
    "---\n",
    "\n",
    "\n",
    "\n",
    "\n",
    "*Have questions or comments? Visit the [course discussion forum](https://www.kaggle.com/learn/pandas/discussion) to chat with other learners.*"
   ]
  }
 ],
 "metadata": {
  "kernelspec": {
   "display_name": "Python 3",
   "language": "python",
   "name": "python3"
  },
  "language_info": {
   "codemirror_mode": {
    "name": "ipython",
    "version": 3
   },
   "file_extension": ".py",
   "mimetype": "text/x-python",
   "name": "python",
   "nbconvert_exporter": "python",
   "pygments_lexer": "ipython3",
   "version": "3.7.12"
  },
  "papermill": {
   "default_parameters": {},
   "duration": 15.54963,
   "end_time": "2022-03-19T13:49:12.024594",
   "environment_variables": {},
   "exception": null,
   "input_path": "__notebook__.ipynb",
   "output_path": "__notebook__.ipynb",
   "parameters": {},
   "start_time": "2022-03-19T13:48:56.474964",
   "version": "2.3.3"
  }
 },
 "nbformat": 4,
 "nbformat_minor": 5
}
