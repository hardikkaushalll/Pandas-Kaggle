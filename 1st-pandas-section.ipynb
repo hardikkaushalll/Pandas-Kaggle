{
 "cells": [
  {
   "cell_type": "markdown",
   "id": "453e7428",
   "metadata": {
    "papermill": {
     "duration": 0.027779,
     "end_time": "2022-03-13T14:32:35.943861",
     "exception": false,
     "start_time": "2022-03-13T14:32:35.916082",
     "status": "completed"
    },
    "tags": []
   },
   "source": [
    "**This notebook is an exercise in the [Pandas](https://www.kaggle.com/learn/pandas) course.  You can reference the tutorial at [this link](https://www.kaggle.com/residentmario/creating-reading-and-writing).**\n",
    "\n",
    "---\n"
   ]
  },
  {
   "cell_type": "markdown",
   "id": "f17be08c",
   "metadata": {
    "papermill": {
     "duration": 0.029416,
     "end_time": "2022-03-13T14:32:36.001978",
     "exception": false,
     "start_time": "2022-03-13T14:32:35.972562",
     "status": "completed"
    },
    "tags": []
   },
   "source": [
    "# Introduction\n",
    "\n",
    "The first step in most data analytics projects is reading the data file. In this exercise, you'll create Series and DataFrame objects, both by hand and by reading data files.\n",
    "\n",
    "Run the code cell below to load libraries you will need (including code to check your answers)."
   ]
  },
  {
   "cell_type": "code",
   "execution_count": 1,
   "id": "e50928cc",
   "metadata": {
    "execution": {
     "iopub.execute_input": "2022-03-13T14:32:36.051846Z",
     "iopub.status.busy": "2022-03-13T14:32:36.050000Z",
     "iopub.status.idle": "2022-03-13T14:32:37.672820Z",
     "shell.execute_reply": "2022-03-13T14:32:37.671794Z",
     "shell.execute_reply.started": "2022-03-13T14:20:30.157659Z"
    },
    "papermill": {
     "duration": 1.649308,
     "end_time": "2022-03-13T14:32:37.673042",
     "exception": false,
     "start_time": "2022-03-13T14:32:36.023734",
     "status": "completed"
    },
    "tags": []
   },
   "outputs": [
    {
     "name": "stdout",
     "output_type": "stream",
     "text": [
      "Setup complete.\n"
     ]
    }
   ],
   "source": [
    "import pandas as pd\n",
    "pd.set_option('max_rows', 5)\n",
    "import numpy as np\n",
    "from learntools.core import binder; binder.bind(globals())\n",
    "from learntools.pandas.creating_reading_and_writing import *\n",
    "print(\"Setup complete.\")"
   ]
  },
  {
   "cell_type": "markdown",
   "id": "8d6aacdd",
   "metadata": {
    "papermill": {
     "duration": 0.021627,
     "end_time": "2022-03-13T14:32:37.720096",
     "exception": false,
     "start_time": "2022-03-13T14:32:37.698469",
     "status": "completed"
    },
    "tags": []
   },
   "source": [
    "# Exercises"
   ]
  },
  {
   "cell_type": "code",
   "execution_count": null,
   "id": "f0bbc21a",
   "metadata": {
    "papermill": {
     "duration": 0.021555,
     "end_time": "2022-03-13T14:32:37.763462",
     "exception": false,
     "start_time": "2022-03-13T14:32:37.741907",
     "status": "completed"
    },
    "tags": []
   },
   "outputs": [],
   "source": []
  },
  {
   "cell_type": "markdown",
   "id": "04436b78",
   "metadata": {
    "papermill": {
     "duration": 0.02147,
     "end_time": "2022-03-13T14:32:37.806653",
     "exception": false,
     "start_time": "2022-03-13T14:32:37.785183",
     "status": "completed"
    },
    "tags": []
   },
   "source": [
    "## 1.\n",
    "\n",
    "In the cell below, create a DataFrame `fruits` that looks like this:\n",
    "\n",
    "![](https://i.imgur.com/Ax3pp2A.png)"
   ]
  },
  {
   "cell_type": "code",
   "execution_count": 2,
   "id": "376f4e05",
   "metadata": {
    "execution": {
     "iopub.execute_input": "2022-03-13T14:32:37.860555Z",
     "iopub.status.busy": "2022-03-13T14:32:37.859672Z",
     "iopub.status.idle": "2022-03-13T14:32:37.864113Z",
     "shell.execute_reply": "2022-03-13T14:32:37.864608Z",
     "shell.execute_reply.started": "2022-03-13T14:25:54.296925Z"
    },
    "papermill": {
     "duration": 0.036347,
     "end_time": "2022-03-13T14:32:37.864790",
     "exception": false,
     "start_time": "2022-03-13T14:32:37.828443",
     "status": "completed"
    },
    "tags": []
   },
   "outputs": [
    {
     "data": {
      "application/javascript": [
       "parent.postMessage({\"jupyterEvent\": \"custom.exercise_interaction\", \"data\": {\"outcomeType\": 1, \"valueTowardsCompletion\": 0.16666666666666666, \"interactionType\": 1, \"questionType\": 1, \"questionId\": \"1_FruitDfCreation\", \"learnToolsVersion\": \"0.3.4\", \"failureMessage\": \"\", \"exceptionClass\": \"\", \"trace\": \"\"}}, \"*\")"
      ],
      "text/plain": [
       "<IPython.core.display.Javascript object>"
      ]
     },
     "metadata": {},
     "output_type": "display_data"
    },
    {
     "data": {
      "text/markdown": [
       "<span style=\"color:#33cc33\">Correct</span>"
      ],
      "text/plain": [
       "Correct"
      ]
     },
     "metadata": {},
     "output_type": "display_data"
    }
   ],
   "source": [
    "# Your code goes here. Create a dataframe matching the above diagram and assign it to the variable fruits.\n",
    "mydat = [[30,21]]\n",
    "mycol = ['Apples','Bananas']\n",
    "fruits = pd.DataFrame(data=mydat,columns=mycol)\n",
    "fruits\n",
    "q1.check()"
   ]
  },
  {
   "cell_type": "code",
   "execution_count": 3,
   "id": "d04642f8",
   "metadata": {
    "execution": {
     "iopub.execute_input": "2022-03-13T14:32:37.915075Z",
     "iopub.status.busy": "2022-03-13T14:32:37.914442Z",
     "iopub.status.idle": "2022-03-13T14:32:37.917146Z",
     "shell.execute_reply": "2022-03-13T14:32:37.917694Z",
     "shell.execute_reply.started": "2022-03-13T14:20:30.185761Z"
    },
    "papermill": {
     "duration": 0.029796,
     "end_time": "2022-03-13T14:32:37.917862",
     "exception": false,
     "start_time": "2022-03-13T14:32:37.888066",
     "status": "completed"
    },
    "tags": []
   },
   "outputs": [],
   "source": [
    "#q1.hint()\n",
    "#q1.solution()"
   ]
  },
  {
   "cell_type": "markdown",
   "id": "ae6adbe3",
   "metadata": {
    "papermill": {
     "duration": 0.024818,
     "end_time": "2022-03-13T14:32:37.966024",
     "exception": false,
     "start_time": "2022-03-13T14:32:37.941206",
     "status": "completed"
    },
    "tags": []
   },
   "source": [
    "## 2.\n",
    "\n",
    "Create a dataframe `fruit_sales` that matches the diagram below:\n",
    "\n",
    "![](https://i.imgur.com/CHPn7ZF.png)"
   ]
  },
  {
   "cell_type": "code",
   "execution_count": 4,
   "id": "5ea8f5ed",
   "metadata": {
    "execution": {
     "iopub.execute_input": "2022-03-13T14:32:38.015610Z",
     "iopub.status.busy": "2022-03-13T14:32:38.014972Z",
     "iopub.status.idle": "2022-03-13T14:32:38.032410Z",
     "shell.execute_reply": "2022-03-13T14:32:38.033021Z",
     "shell.execute_reply.started": "2022-03-13T14:27:56.298859Z"
    },
    "papermill": {
     "duration": 0.043886,
     "end_time": "2022-03-13T14:32:38.033194",
     "exception": false,
     "start_time": "2022-03-13T14:32:37.989308",
     "status": "completed"
    },
    "tags": []
   },
   "outputs": [
    {
     "data": {
      "application/javascript": [
       "parent.postMessage({\"jupyterEvent\": \"custom.exercise_interaction\", \"data\": {\"outcomeType\": 1, \"valueTowardsCompletion\": 0.16666666666666666, \"interactionType\": 1, \"questionType\": 1, \"questionId\": \"2_FruitSalesDfCreation\", \"learnToolsVersion\": \"0.3.4\", \"failureMessage\": \"\", \"exceptionClass\": \"\", \"trace\": \"\"}}, \"*\")"
      ],
      "text/plain": [
       "<IPython.core.display.Javascript object>"
      ]
     },
     "metadata": {},
     "output_type": "display_data"
    },
    {
     "data": {
      "text/markdown": [
       "<span style=\"color:#33cc33\">Correct</span>"
      ],
      "text/plain": [
       "Correct"
      ]
     },
     "metadata": {},
     "output_type": "display_data"
    },
    {
     "data": {
      "text/html": [
       "<div>\n",
       "<style scoped>\n",
       "    .dataframe tbody tr th:only-of-type {\n",
       "        vertical-align: middle;\n",
       "    }\n",
       "\n",
       "    .dataframe tbody tr th {\n",
       "        vertical-align: top;\n",
       "    }\n",
       "\n",
       "    .dataframe thead th {\n",
       "        text-align: right;\n",
       "    }\n",
       "</style>\n",
       "<table border=\"1\" class=\"dataframe\">\n",
       "  <thead>\n",
       "    <tr style=\"text-align: right;\">\n",
       "      <th></th>\n",
       "      <th>Apples</th>\n",
       "      <th>Bananas</th>\n",
       "    </tr>\n",
       "  </thead>\n",
       "  <tbody>\n",
       "    <tr>\n",
       "      <th>2017 Sales</th>\n",
       "      <td>35</td>\n",
       "      <td>21</td>\n",
       "    </tr>\n",
       "    <tr>\n",
       "      <th>2018 Sales</th>\n",
       "      <td>41</td>\n",
       "      <td>34</td>\n",
       "    </tr>\n",
       "  </tbody>\n",
       "</table>\n",
       "</div>"
      ],
      "text/plain": [
       "            Apples  Bananas\n",
       "2017 Sales      35       21\n",
       "2018 Sales      41       34"
      ]
     },
     "execution_count": 4,
     "metadata": {},
     "output_type": "execute_result"
    }
   ],
   "source": [
    "# Your code goes here. Create a dataframe matching the above diagram and assign it to the variable fruit_sales.\n",
    "fruit_sales = pd.DataFrame(data = [[35,21],[41,34]], index = ['2017 Sales', '2018 Sales'], columns = ['Apples','Bananas'])\n",
    "\n",
    "q2.check()\n",
    "fruit_sales"
   ]
  },
  {
   "cell_type": "code",
   "execution_count": 5,
   "id": "1baad727",
   "metadata": {
    "execution": {
     "iopub.execute_input": "2022-03-13T14:32:38.088100Z",
     "iopub.status.busy": "2022-03-13T14:32:38.087149Z",
     "iopub.status.idle": "2022-03-13T14:32:38.090227Z",
     "shell.execute_reply": "2022-03-13T14:32:38.090825Z",
     "shell.execute_reply.started": "2022-03-13T14:20:30.220495Z"
    },
    "papermill": {
     "duration": 0.031452,
     "end_time": "2022-03-13T14:32:38.090991",
     "exception": false,
     "start_time": "2022-03-13T14:32:38.059539",
     "status": "completed"
    },
    "tags": []
   },
   "outputs": [],
   "source": [
    "#q2.hint()\n",
    "#q2.solution()"
   ]
  },
  {
   "cell_type": "code",
   "execution_count": null,
   "id": "a172d72e",
   "metadata": {
    "papermill": {
     "duration": 0.024524,
     "end_time": "2022-03-13T14:32:38.141128",
     "exception": false,
     "start_time": "2022-03-13T14:32:38.116604",
     "status": "completed"
    },
    "tags": []
   },
   "outputs": [],
   "source": []
  },
  {
   "cell_type": "markdown",
   "id": "ec3a7bd1",
   "metadata": {
    "papermill": {
     "duration": 0.024282,
     "end_time": "2022-03-13T14:32:38.190139",
     "exception": false,
     "start_time": "2022-03-13T14:32:38.165857",
     "status": "completed"
    },
    "tags": []
   },
   "source": [
    "## 3.\n",
    "\n",
    "Create a variable `ingredients` with a Series that looks like:\n",
    "\n",
    "```\n",
    "Flour     4 cups\n",
    "Milk       1 cup\n",
    "Eggs     2 large\n",
    "Spam       1 can\n",
    "Name: Dinner, dtype: object\n",
    "```"
   ]
  },
  {
   "cell_type": "code",
   "execution_count": 6,
   "id": "45304237",
   "metadata": {
    "execution": {
     "iopub.execute_input": "2022-03-13T14:32:38.244087Z",
     "iopub.status.busy": "2022-03-13T14:32:38.243056Z",
     "iopub.status.idle": "2022-03-13T14:32:38.255088Z",
     "shell.execute_reply": "2022-03-13T14:32:38.255876Z",
     "shell.execute_reply.started": "2022-03-13T14:23:49.616754Z"
    },
    "papermill": {
     "duration": 0.040564,
     "end_time": "2022-03-13T14:32:38.256050",
     "exception": false,
     "start_time": "2022-03-13T14:32:38.215486",
     "status": "completed"
    },
    "tags": []
   },
   "outputs": [
    {
     "data": {
      "application/javascript": [
       "parent.postMessage({\"jupyterEvent\": \"custom.exercise_interaction\", \"data\": {\"outcomeType\": 1, \"valueTowardsCompletion\": 0.16666666666666666, \"interactionType\": 1, \"questionType\": 2, \"questionId\": \"3_RecipeSeriesCreation\", \"learnToolsVersion\": \"0.3.4\", \"failureMessage\": \"\", \"exceptionClass\": \"\", \"trace\": \"\"}}, \"*\")"
      ],
      "text/plain": [
       "<IPython.core.display.Javascript object>"
      ]
     },
     "metadata": {},
     "output_type": "display_data"
    },
    {
     "data": {
      "text/markdown": [
       "<span style=\"color:#33cc33\">Correct</span>"
      ],
      "text/plain": [
       "Correct"
      ]
     },
     "metadata": {},
     "output_type": "display_data"
    },
    {
     "data": {
      "text/plain": [
       "Flour     4 cups\n",
       "Milk       1 cup\n",
       "Eggs     2 large\n",
       "Spam       1 can\n",
       "Name: Dinner, dtype: object"
      ]
     },
     "execution_count": 6,
     "metadata": {},
     "output_type": "execute_result"
    }
   ],
   "source": [
    "ingredients = pd.Series(data = ['4 cups','1 cup','2 large','1 can'], index = ['Flour','Milk','Eggs','Spam'], name = 'Dinner')\n",
    "\n",
    "# Check your answer\n",
    "q3.check()\n",
    "ingredients"
   ]
  },
  {
   "cell_type": "code",
   "execution_count": 7,
   "id": "2fc97982",
   "metadata": {
    "execution": {
     "iopub.execute_input": "2022-03-13T14:32:38.313105Z",
     "iopub.status.busy": "2022-03-13T14:32:38.312431Z",
     "iopub.status.idle": "2022-03-13T14:32:38.314074Z",
     "shell.execute_reply": "2022-03-13T14:32:38.314587Z",
     "shell.execute_reply.started": "2022-03-13T14:20:30.248952Z"
    },
    "papermill": {
     "duration": 0.032177,
     "end_time": "2022-03-13T14:32:38.314766",
     "exception": false,
     "start_time": "2022-03-13T14:32:38.282589",
     "status": "completed"
    },
    "tags": []
   },
   "outputs": [],
   "source": [
    "#q3.hint()\n",
    "#q3.solution()"
   ]
  },
  {
   "cell_type": "markdown",
   "id": "da07f18f",
   "metadata": {
    "papermill": {
     "duration": 0.026063,
     "end_time": "2022-03-13T14:32:38.367152",
     "exception": false,
     "start_time": "2022-03-13T14:32:38.341089",
     "status": "completed"
    },
    "tags": []
   },
   "source": [
    "## 4.\n",
    "\n",
    "Read the following csv dataset of wine reviews into a DataFrame called `reviews`:\n",
    "\n",
    "![](https://i.imgur.com/74RCZtU.png)\n",
    "\n",
    "The filepath to the csv file is `../input/wine-reviews/winemag-data_first150k.csv`. The first few lines look like:\n",
    "\n",
    "```\n",
    ",country,description,designation,points,price,province,region_1,region_2,variety,winery\n",
    "0,US,\"This tremendous 100% varietal wine[...]\",Martha's Vineyard,96,235.0,California,Napa Valley,Napa,Cabernet Sauvignon,Heitz\n",
    "1,Spain,\"Ripe aromas of fig, blackberry and[...]\",Carodorum Selección Especial Reserva,96,110.0,Northern Spain,Toro,,Tinta de Toro,Bodega Carmen Rodríguez\n",
    "```"
   ]
  },
  {
   "cell_type": "code",
   "execution_count": 8,
   "id": "b2d1bdd0",
   "metadata": {
    "execution": {
     "iopub.execute_input": "2022-03-13T14:32:38.423992Z",
     "iopub.status.busy": "2022-03-13T14:32:38.423009Z",
     "iopub.status.idle": "2022-03-13T14:32:39.321520Z",
     "shell.execute_reply": "2022-03-13T14:32:39.322024Z",
     "shell.execute_reply.started": "2022-03-13T14:27:39.276003Z"
    },
    "papermill": {
     "duration": 0.928533,
     "end_time": "2022-03-13T14:32:39.322212",
     "exception": false,
     "start_time": "2022-03-13T14:32:38.393679",
     "status": "completed"
    },
    "tags": []
   },
   "outputs": [
    {
     "data": {
      "application/javascript": [
       "parent.postMessage({\"jupyterEvent\": \"custom.exercise_interaction\", \"data\": {\"outcomeType\": 1, \"valueTowardsCompletion\": 0.16666666666666666, \"interactionType\": 1, \"questionType\": 1, \"questionId\": \"4_ReadWineCsv\", \"learnToolsVersion\": \"0.3.4\", \"failureMessage\": \"\", \"exceptionClass\": \"\", \"trace\": \"\"}}, \"*\")"
      ],
      "text/plain": [
       "<IPython.core.display.Javascript object>"
      ]
     },
     "metadata": {},
     "output_type": "display_data"
    },
    {
     "data": {
      "text/markdown": [
       "<span style=\"color:#33cc33\">Correct</span>"
      ],
      "text/plain": [
       "Correct"
      ]
     },
     "metadata": {},
     "output_type": "display_data"
    }
   ],
   "source": [
    "reviews = pd.read_csv(\"../input/wine-reviews/winemag-data_first150k.csv\", index_col=0)\n",
    "reviews\n",
    "q4.check()"
   ]
  },
  {
   "cell_type": "code",
   "execution_count": 9,
   "id": "53b3633f",
   "metadata": {
    "execution": {
     "iopub.execute_input": "2022-03-13T14:32:39.382110Z",
     "iopub.status.busy": "2022-03-13T14:32:39.381473Z",
     "iopub.status.idle": "2022-03-13T14:32:39.383312Z",
     "shell.execute_reply": "2022-03-13T14:32:39.383820Z",
     "shell.execute_reply.started": "2022-03-13T14:20:30.25626Z"
    },
    "papermill": {
     "duration": 0.033872,
     "end_time": "2022-03-13T14:32:39.383991",
     "exception": false,
     "start_time": "2022-03-13T14:32:39.350119",
     "status": "completed"
    },
    "tags": []
   },
   "outputs": [],
   "source": [
    "#q4.hint()\n",
    "#q4.solution()"
   ]
  },
  {
   "cell_type": "markdown",
   "id": "2c772506",
   "metadata": {
    "papermill": {
     "duration": 0.027512,
     "end_time": "2022-03-13T14:32:39.439227",
     "exception": false,
     "start_time": "2022-03-13T14:32:39.411715",
     "status": "completed"
    },
    "tags": []
   },
   "source": []
  },
  {
   "cell_type": "markdown",
   "id": "c4cd57c6",
   "metadata": {
    "papermill": {
     "duration": 0.027998,
     "end_time": "2022-03-13T14:32:39.494920",
     "exception": false,
     "start_time": "2022-03-13T14:32:39.466922",
     "status": "completed"
    },
    "tags": []
   },
   "source": [
    "## 5.\n",
    "\n",
    "Run the cell below to create and display a DataFrame called `animals`:"
   ]
  },
  {
   "cell_type": "code",
   "execution_count": 10,
   "id": "f96f97c1",
   "metadata": {
    "execution": {
     "iopub.execute_input": "2022-03-13T14:32:39.555754Z",
     "iopub.status.busy": "2022-03-13T14:32:39.555069Z",
     "iopub.status.idle": "2022-03-13T14:32:39.563927Z",
     "shell.execute_reply": "2022-03-13T14:32:39.564534Z",
     "shell.execute_reply.started": "2022-03-13T14:20:30.270934Z"
    },
    "papermill": {
     "duration": 0.040716,
     "end_time": "2022-03-13T14:32:39.564703",
     "exception": false,
     "start_time": "2022-03-13T14:32:39.523987",
     "status": "completed"
    },
    "tags": []
   },
   "outputs": [
    {
     "data": {
      "text/html": [
       "<div>\n",
       "<style scoped>\n",
       "    .dataframe tbody tr th:only-of-type {\n",
       "        vertical-align: middle;\n",
       "    }\n",
       "\n",
       "    .dataframe tbody tr th {\n",
       "        vertical-align: top;\n",
       "    }\n",
       "\n",
       "    .dataframe thead th {\n",
       "        text-align: right;\n",
       "    }\n",
       "</style>\n",
       "<table border=\"1\" class=\"dataframe\">\n",
       "  <thead>\n",
       "    <tr style=\"text-align: right;\">\n",
       "      <th></th>\n",
       "      <th>Cows</th>\n",
       "      <th>Goats</th>\n",
       "    </tr>\n",
       "  </thead>\n",
       "  <tbody>\n",
       "    <tr>\n",
       "      <th>Year 1</th>\n",
       "      <td>12</td>\n",
       "      <td>22</td>\n",
       "    </tr>\n",
       "    <tr>\n",
       "      <th>Year 2</th>\n",
       "      <td>20</td>\n",
       "      <td>19</td>\n",
       "    </tr>\n",
       "  </tbody>\n",
       "</table>\n",
       "</div>"
      ],
      "text/plain": [
       "        Cows  Goats\n",
       "Year 1    12     22\n",
       "Year 2    20     19"
      ]
     },
     "execution_count": 10,
     "metadata": {},
     "output_type": "execute_result"
    }
   ],
   "source": [
    "animals = pd.DataFrame({'Cows': [12, 20], 'Goats': [22, 19]}, index=['Year 1', 'Year 2'])\n",
    "animals"
   ]
  },
  {
   "cell_type": "markdown",
   "id": "2c1201a5",
   "metadata": {
    "papermill": {
     "duration": 0.02799,
     "end_time": "2022-03-13T14:32:39.620923",
     "exception": false,
     "start_time": "2022-03-13T14:32:39.592933",
     "status": "completed"
    },
    "tags": []
   },
   "source": [
    "In the cell below, write code to save this DataFrame to disk as a csv file with the name `cows_and_goats.csv`."
   ]
  },
  {
   "cell_type": "code",
   "execution_count": 11,
   "id": "20dad07d",
   "metadata": {
    "execution": {
     "iopub.execute_input": "2022-03-13T14:32:39.681574Z",
     "iopub.status.busy": "2022-03-13T14:32:39.680923Z",
     "iopub.status.idle": "2022-03-13T14:32:39.694306Z",
     "shell.execute_reply": "2022-03-13T14:32:39.694819Z",
     "shell.execute_reply.started": "2022-03-13T14:20:30.289078Z"
    },
    "papermill": {
     "duration": 0.045744,
     "end_time": "2022-03-13T14:32:39.694987",
     "exception": false,
     "start_time": "2022-03-13T14:32:39.649243",
     "status": "completed"
    },
    "tags": []
   },
   "outputs": [
    {
     "data": {
      "application/javascript": [
       "parent.postMessage({\"jupyterEvent\": \"custom.exercise_interaction\", \"data\": {\"outcomeType\": 1, \"valueTowardsCompletion\": 0.16666666666666666, \"interactionType\": 1, \"questionType\": 2, \"questionId\": \"5_SaveAnimalsCsv\", \"learnToolsVersion\": \"0.3.4\", \"failureMessage\": \"\", \"exceptionClass\": \"\", \"trace\": \"\"}}, \"*\")"
      ],
      "text/plain": [
       "<IPython.core.display.Javascript object>"
      ]
     },
     "metadata": {},
     "output_type": "display_data"
    },
    {
     "data": {
      "text/markdown": [
       "<span style=\"color:#33cc33\">Correct</span>"
      ],
      "text/plain": [
       "Correct"
      ]
     },
     "metadata": {},
     "output_type": "display_data"
    }
   ],
   "source": [
    "# Your code goes here\n",
    "animals.to_csv('cows_and_goats.csv')\n",
    "# Check your answer\n",
    "q5.check()"
   ]
  },
  {
   "cell_type": "code",
   "execution_count": 12,
   "id": "2c831c0e",
   "metadata": {
    "execution": {
     "iopub.execute_input": "2022-03-13T14:32:39.757831Z",
     "iopub.status.busy": "2022-03-13T14:32:39.756894Z",
     "iopub.status.idle": "2022-03-13T14:32:39.759939Z",
     "shell.execute_reply": "2022-03-13T14:32:39.760494Z",
     "shell.execute_reply.started": "2022-03-13T14:20:30.303816Z"
    },
    "papermill": {
     "duration": 0.036032,
     "end_time": "2022-03-13T14:32:39.760664",
     "exception": false,
     "start_time": "2022-03-13T14:32:39.724632",
     "status": "completed"
    },
    "tags": []
   },
   "outputs": [],
   "source": [
    "#q5.hint()\n",
    "#q5.solution()"
   ]
  },
  {
   "cell_type": "markdown",
   "id": "88be3cef",
   "metadata": {
    "papermill": {
     "duration": 0.029124,
     "end_time": "2022-03-13T14:32:39.819328",
     "exception": false,
     "start_time": "2022-03-13T14:32:39.790204",
     "status": "completed"
    },
    "tags": []
   },
   "source": [
    "# Keep going\n",
    "\n",
    "Move on to learn about **[indexing, selecting and assigning](https://www.kaggle.com/residentmario/indexing-selecting-assigning)**."
   ]
  },
  {
   "cell_type": "markdown",
   "id": "e9248912",
   "metadata": {
    "papermill": {
     "duration": 0.028967,
     "end_time": "2022-03-13T14:32:39.877622",
     "exception": false,
     "start_time": "2022-03-13T14:32:39.848655",
     "status": "completed"
    },
    "tags": []
   },
   "source": [
    "---\n",
    "\n",
    "\n",
    "\n",
    "\n",
    "*Have questions or comments? Visit the [course discussion forum](https://www.kaggle.com/learn/pandas/discussion) to chat with other learners.*"
   ]
  }
 ],
 "metadata": {
  "kernelspec": {
   "display_name": "Python 3",
   "language": "python",
   "name": "python3"
  },
  "language_info": {
   "codemirror_mode": {
    "name": "ipython",
    "version": 3
   },
   "file_extension": ".py",
   "mimetype": "text/x-python",
   "name": "python",
   "nbconvert_exporter": "python",
   "pygments_lexer": "ipython3",
   "version": "3.7.12"
  },
  "papermill": {
   "default_parameters": {},
   "duration": 14.730866,
   "end_time": "2022-03-13T14:32:40.618601",
   "environment_variables": {},
   "exception": null,
   "input_path": "__notebook__.ipynb",
   "output_path": "__notebook__.ipynb",
   "parameters": {},
   "start_time": "2022-03-13T14:32:25.887735",
   "version": "2.3.3"
  }
 },
 "nbformat": 4,
 "nbformat_minor": 5
}
