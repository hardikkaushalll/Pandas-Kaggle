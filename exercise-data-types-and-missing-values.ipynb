{
 "cells": [
  {
   "cell_type": "markdown",
   "id": "88440434",
   "metadata": {
    "papermill": {
     "duration": 0.016538,
     "end_time": "2022-03-19T13:50:11.376149",
     "exception": false,
     "start_time": "2022-03-19T13:50:11.359611",
     "status": "completed"
    },
    "tags": []
   },
   "source": [
    "**This notebook is an exercise in the [Pandas](https://www.kaggle.com/learn/pandas) course.  You can reference the tutorial at [this link](https://www.kaggle.com/residentmario/data-types-and-missing-values).**\n",
    "\n",
    "---\n"
   ]
  },
  {
   "cell_type": "markdown",
   "id": "f0b4d802",
   "metadata": {
    "papermill": {
     "duration": 0.014965,
     "end_time": "2022-03-19T13:50:11.409600",
     "exception": false,
     "start_time": "2022-03-19T13:50:11.394635",
     "status": "completed"
    },
    "tags": []
   },
   "source": [
    "# Introduction\n",
    "\n",
    "Run the following cell to load your data and some utility functions."
   ]
  },
  {
   "cell_type": "code",
   "execution_count": 1,
   "id": "681a8add",
   "metadata": {
    "execution": {
     "iopub.execute_input": "2022-03-19T13:50:11.444692Z",
     "iopub.status.busy": "2022-03-19T13:50:11.443398Z",
     "iopub.status.idle": "2022-03-19T13:50:14.515814Z",
     "shell.execute_reply": "2022-03-19T13:50:14.514976Z",
     "shell.execute_reply.started": "2022-03-19T13:32:36.032158Z"
    },
    "papermill": {
     "duration": 3.091182,
     "end_time": "2022-03-19T13:50:14.515982",
     "exception": false,
     "start_time": "2022-03-19T13:50:11.424800",
     "status": "completed"
    },
    "tags": []
   },
   "outputs": [
    {
     "name": "stdout",
     "output_type": "stream",
     "text": [
      "Setup complete.\n"
     ]
    }
   ],
   "source": [
    "import pandas as pd\n",
    "\n",
    "reviews = pd.read_csv(\"../input/wine-reviews/winemag-data-130k-v2.csv\", index_col=0)\n",
    "\n",
    "from learntools.core import binder; binder.bind(globals())\n",
    "from learntools.pandas.data_types_and_missing_data import *\n",
    "print(\"Setup complete.\")"
   ]
  },
  {
   "cell_type": "markdown",
   "id": "af038232",
   "metadata": {
    "papermill": {
     "duration": 0.016527,
     "end_time": "2022-03-19T13:50:14.549830",
     "exception": false,
     "start_time": "2022-03-19T13:50:14.533303",
     "status": "completed"
    },
    "tags": []
   },
   "source": [
    "# Exercises"
   ]
  },
  {
   "cell_type": "markdown",
   "id": "46d3d762",
   "metadata": {
    "papermill": {
     "duration": 0.015241,
     "end_time": "2022-03-19T13:50:14.580991",
     "exception": false,
     "start_time": "2022-03-19T13:50:14.565750",
     "status": "completed"
    },
    "tags": []
   },
   "source": [
    "## 1. \n",
    "What is the data type of the `points` column in the dataset?"
   ]
  },
  {
   "cell_type": "code",
   "execution_count": 2,
   "id": "1f3652e4",
   "metadata": {
    "execution": {
     "iopub.execute_input": "2022-03-19T13:50:14.621224Z",
     "iopub.status.busy": "2022-03-19T13:50:14.620511Z",
     "iopub.status.idle": "2022-03-19T13:50:14.626927Z",
     "shell.execute_reply": "2022-03-19T13:50:14.626394Z",
     "shell.execute_reply.started": "2022-03-19T13:33:15.859595Z"
    },
    "papermill": {
     "duration": 0.030365,
     "end_time": "2022-03-19T13:50:14.627063",
     "exception": false,
     "start_time": "2022-03-19T13:50:14.596698",
     "status": "completed"
    },
    "tags": []
   },
   "outputs": [
    {
     "data": {
      "application/javascript": [
       "parent.postMessage({\"jupyterEvent\": \"custom.exercise_interaction\", \"data\": {\"outcomeType\": 1, \"valueTowardsCompletion\": 0.25, \"interactionType\": 1, \"questionType\": 1, \"questionId\": \"1_PointsDtype\", \"learnToolsVersion\": \"0.3.4\", \"failureMessage\": \"\", \"exceptionClass\": \"\", \"trace\": \"\"}}, \"*\")"
      ],
      "text/plain": [
       "<IPython.core.display.Javascript object>"
      ]
     },
     "metadata": {},
     "output_type": "display_data"
    },
    {
     "data": {
      "text/markdown": [
       "<span style=\"color:#33cc33\">Correct</span>"
      ],
      "text/plain": [
       "Correct"
      ]
     },
     "metadata": {},
     "output_type": "display_data"
    }
   ],
   "source": [
    "# Your code here\n",
    "dtype = reviews['points'].dtype\n",
    "\n",
    "# Check your answer\n",
    "q1.check()"
   ]
  },
  {
   "cell_type": "code",
   "execution_count": 3,
   "id": "b938444e",
   "metadata": {
    "execution": {
     "iopub.execute_input": "2022-03-19T13:50:14.665923Z",
     "iopub.status.busy": "2022-03-19T13:50:14.665053Z",
     "iopub.status.idle": "2022-03-19T13:50:14.668971Z",
     "shell.execute_reply": "2022-03-19T13:50:14.668425Z",
     "shell.execute_reply.started": "2022-03-19T13:33:19.811619Z"
    },
    "papermill": {
     "duration": 0.024653,
     "end_time": "2022-03-19T13:50:14.669127",
     "exception": false,
     "start_time": "2022-03-19T13:50:14.644474",
     "status": "completed"
    },
    "tags": []
   },
   "outputs": [],
   "source": [
    "#q1.hint()\n",
    "#q1.solution()"
   ]
  },
  {
   "cell_type": "markdown",
   "id": "1653608c",
   "metadata": {
    "papermill": {
     "duration": 0.016856,
     "end_time": "2022-03-19T13:50:14.703964",
     "exception": false,
     "start_time": "2022-03-19T13:50:14.687108",
     "status": "completed"
    },
    "tags": []
   },
   "source": [
    "## 2. \n",
    "Create a Series from entries in the `points` column, but convert the entries to strings. Hint: strings are `str` in native Python."
   ]
  },
  {
   "cell_type": "code",
   "execution_count": 4,
   "id": "fd2b90b6",
   "metadata": {
    "execution": {
     "iopub.execute_input": "2022-03-19T13:50:14.876726Z",
     "iopub.status.busy": "2022-03-19T13:50:14.742675Z",
     "iopub.status.idle": "2022-03-19T13:50:14.882014Z",
     "shell.execute_reply": "2022-03-19T13:50:14.882468Z",
     "shell.execute_reply.started": "2022-03-19T13:34:51.959999Z"
    },
    "papermill": {
     "duration": 0.161589,
     "end_time": "2022-03-19T13:50:14.882672",
     "exception": false,
     "start_time": "2022-03-19T13:50:14.721083",
     "status": "completed"
    },
    "tags": []
   },
   "outputs": [
    {
     "data": {
      "application/javascript": [
       "parent.postMessage({\"jupyterEvent\": \"custom.exercise_interaction\", \"data\": {\"outcomeType\": 1, \"valueTowardsCompletion\": 0.25, \"interactionType\": 1, \"questionType\": 1, \"questionId\": \"2_StrPoints\", \"learnToolsVersion\": \"0.3.4\", \"failureMessage\": \"\", \"exceptionClass\": \"\", \"trace\": \"\"}}, \"*\")"
      ],
      "text/plain": [
       "<IPython.core.display.Javascript object>"
      ]
     },
     "metadata": {},
     "output_type": "display_data"
    },
    {
     "data": {
      "text/markdown": [
       "<span style=\"color:#33cc33\">Correct</span>"
      ],
      "text/plain": [
       "Correct"
      ]
     },
     "metadata": {},
     "output_type": "display_data"
    }
   ],
   "source": [
    "point_strings = reviews['points'].astype('str')\n",
    "\n",
    "# Check your answer\n",
    "q2.check()"
   ]
  },
  {
   "cell_type": "code",
   "execution_count": 5,
   "id": "80f5d19e",
   "metadata": {
    "execution": {
     "iopub.execute_input": "2022-03-19T13:50:14.924425Z",
     "iopub.status.busy": "2022-03-19T13:50:14.923480Z",
     "iopub.status.idle": "2022-03-19T13:50:14.926409Z",
     "shell.execute_reply": "2022-03-19T13:50:14.926880Z"
    },
    "papermill": {
     "duration": 0.026153,
     "end_time": "2022-03-19T13:50:14.927049",
     "exception": false,
     "start_time": "2022-03-19T13:50:14.900896",
     "status": "completed"
    },
    "tags": []
   },
   "outputs": [],
   "source": [
    "#q2.hint()\n",
    "#q2.solution()"
   ]
  },
  {
   "cell_type": "markdown",
   "id": "4d391c0f",
   "metadata": {
    "papermill": {
     "duration": 0.018042,
     "end_time": "2022-03-19T13:50:14.963517",
     "exception": false,
     "start_time": "2022-03-19T13:50:14.945475",
     "status": "completed"
    },
    "tags": []
   },
   "source": [
    "## 3.\n",
    "Sometimes the price column is null. How many reviews in the dataset are missing a price?"
   ]
  },
  {
   "cell_type": "code",
   "execution_count": 6,
   "id": "7e90ec89",
   "metadata": {
    "execution": {
     "iopub.execute_input": "2022-03-19T13:50:15.004400Z",
     "iopub.status.busy": "2022-03-19T13:50:15.003405Z",
     "iopub.status.idle": "2022-03-19T13:50:15.018453Z",
     "shell.execute_reply": "2022-03-19T13:50:15.017960Z",
     "shell.execute_reply.started": "2022-03-19T13:35:40.116757Z"
    },
    "papermill": {
     "duration": 0.036766,
     "end_time": "2022-03-19T13:50:15.018618",
     "exception": false,
     "start_time": "2022-03-19T13:50:14.981852",
     "status": "completed"
    },
    "tags": []
   },
   "outputs": [
    {
     "data": {
      "application/javascript": [
       "parent.postMessage({\"jupyterEvent\": \"custom.exercise_interaction\", \"data\": {\"outcomeType\": 1, \"valueTowardsCompletion\": 0.25, \"interactionType\": 1, \"questionType\": 1, \"questionId\": \"3_CountMissingPrices\", \"learnToolsVersion\": \"0.3.4\", \"failureMessage\": \"\", \"exceptionClass\": \"\", \"trace\": \"\"}}, \"*\")"
      ],
      "text/plain": [
       "<IPython.core.display.Javascript object>"
      ]
     },
     "metadata": {},
     "output_type": "display_data"
    },
    {
     "data": {
      "text/markdown": [
       "<span style=\"color:#33cc33\">Correct</span>"
      ],
      "text/plain": [
       "Correct"
      ]
     },
     "metadata": {},
     "output_type": "display_data"
    }
   ],
   "source": [
    "missing_price_reviews = reviews[reviews['price'].isnull()]\n",
    "n_missing_prices = len(missing_price_reviews)\n",
    "# Check your answer\n",
    "q3.check()"
   ]
  },
  {
   "cell_type": "code",
   "execution_count": 7,
   "id": "8e8786e9",
   "metadata": {
    "execution": {
     "iopub.execute_input": "2022-03-19T13:50:15.064144Z",
     "iopub.status.busy": "2022-03-19T13:50:15.063223Z",
     "iopub.status.idle": "2022-03-19T13:50:15.066192Z",
     "shell.execute_reply": "2022-03-19T13:50:15.065664Z",
     "shell.execute_reply.started": "2022-03-19T13:35:46.108646Z"
    },
    "papermill": {
     "duration": 0.02705,
     "end_time": "2022-03-19T13:50:15.066329",
     "exception": false,
     "start_time": "2022-03-19T13:50:15.039279",
     "status": "completed"
    },
    "tags": []
   },
   "outputs": [],
   "source": [
    "#q3.hint()\n",
    "#q3.solution()"
   ]
  },
  {
   "cell_type": "markdown",
   "id": "03b486b6",
   "metadata": {
    "papermill": {
     "duration": 0.019455,
     "end_time": "2022-03-19T13:50:15.105533",
     "exception": false,
     "start_time": "2022-03-19T13:50:15.086078",
     "status": "completed"
    },
    "tags": []
   },
   "source": [
    "## 4.\n",
    "What are the most common wine-producing regions? Create a Series counting the number of times each value occurs in the `region_1` field. This field is often missing data, so replace missing values with `Unknown`. Sort in descending order.  Your output should look something like this:\n",
    "\n",
    "```\n",
    "Unknown                    21247\n",
    "Napa Valley                 4480\n",
    "                           ...  \n",
    "Bardolino Superiore            1\n",
    "Primitivo del Tarantino        1\n",
    "Name: region_1, Length: 1230, dtype: int64\n",
    "```"
   ]
  },
  {
   "cell_type": "code",
   "execution_count": 8,
   "id": "281d7775",
   "metadata": {
    "execution": {
     "iopub.execute_input": "2022-03-19T13:50:15.164235Z",
     "iopub.status.busy": "2022-03-19T13:50:15.163216Z",
     "iopub.status.idle": "2022-03-19T13:50:15.225134Z",
     "shell.execute_reply": "2022-03-19T13:50:15.224624Z",
     "shell.execute_reply.started": "2022-03-19T13:38:40.88976Z"
    },
    "papermill": {
     "duration": 0.099632,
     "end_time": "2022-03-19T13:50:15.225275",
     "exception": false,
     "start_time": "2022-03-19T13:50:15.125643",
     "status": "completed"
    },
    "tags": []
   },
   "outputs": [
    {
     "data": {
      "application/javascript": [
       "parent.postMessage({\"jupyterEvent\": \"custom.exercise_interaction\", \"data\": {\"outcomeType\": 1, \"valueTowardsCompletion\": 0.25, \"interactionType\": 1, \"questionType\": 2, \"questionId\": \"4_ReviewsPerRegion\", \"learnToolsVersion\": \"0.3.4\", \"failureMessage\": \"\", \"exceptionClass\": \"\", \"trace\": \"\"}}, \"*\")"
      ],
      "text/plain": [
       "<IPython.core.display.Javascript object>"
      ]
     },
     "metadata": {},
     "output_type": "display_data"
    },
    {
     "data": {
      "text/markdown": [
       "<span style=\"color:#33cc33\">Correct</span>"
      ],
      "text/plain": [
       "Correct"
      ]
     },
     "metadata": {},
     "output_type": "display_data"
    }
   ],
   "source": [
    "reviews_per_region = reviews['region_1'].fillna('Unknown').value_counts().sort_values(ascending=False)\n",
    "\n",
    "# Check your answer\n",
    "q4.check()"
   ]
  },
  {
   "cell_type": "code",
   "execution_count": 9,
   "id": "96f5a101",
   "metadata": {
    "execution": {
     "iopub.execute_input": "2022-03-19T13:50:15.271535Z",
     "iopub.status.busy": "2022-03-19T13:50:15.270588Z",
     "iopub.status.idle": "2022-03-19T13:50:15.273519Z",
     "shell.execute_reply": "2022-03-19T13:50:15.272921Z",
     "shell.execute_reply.started": "2022-03-19T13:38:46.892257Z"
    },
    "papermill": {
     "duration": 0.027654,
     "end_time": "2022-03-19T13:50:15.273678",
     "exception": false,
     "start_time": "2022-03-19T13:50:15.246024",
     "status": "completed"
    },
    "tags": []
   },
   "outputs": [],
   "source": [
    "#q4.hint()\n",
    "#q4.solution()"
   ]
  },
  {
   "cell_type": "markdown",
   "id": "9265b538",
   "metadata": {
    "papermill": {
     "duration": 0.020331,
     "end_time": "2022-03-19T13:50:15.314753",
     "exception": false,
     "start_time": "2022-03-19T13:50:15.294422",
     "status": "completed"
    },
    "tags": []
   },
   "source": [
    "# Keep going\n",
    "\n",
    "Move on to **[renaming and combining](https://www.kaggle.com/residentmario/renaming-and-combining)**."
   ]
  },
  {
   "cell_type": "markdown",
   "id": "43993c20",
   "metadata": {
    "papermill": {
     "duration": 0.02124,
     "end_time": "2022-03-19T13:50:15.358213",
     "exception": false,
     "start_time": "2022-03-19T13:50:15.336973",
     "status": "completed"
    },
    "tags": []
   },
   "source": [
    "---\n",
    "\n",
    "\n",
    "\n",
    "\n",
    "*Have questions or comments? Visit the [course discussion forum](https://www.kaggle.com/learn/pandas/discussion) to chat with other learners.*"
   ]
  }
 ],
 "metadata": {
  "kernelspec": {
   "display_name": "Python 3",
   "language": "python",
   "name": "python3"
  },
  "language_info": {
   "codemirror_mode": {
    "name": "ipython",
    "version": 3
   },
   "file_extension": ".py",
   "mimetype": "text/x-python",
   "name": "python",
   "nbconvert_exporter": "python",
   "pygments_lexer": "ipython3",
   "version": "3.7.12"
  },
  "papermill": {
   "default_parameters": {},
   "duration": 14.895909,
   "end_time": "2022-03-19T13:50:16.089563",
   "environment_variables": {},
   "exception": null,
   "input_path": "__notebook__.ipynb",
   "output_path": "__notebook__.ipynb",
   "parameters": {},
   "start_time": "2022-03-19T13:50:01.193654",
   "version": "2.3.3"
  }
 },
 "nbformat": 4,
 "nbformat_minor": 5
}
